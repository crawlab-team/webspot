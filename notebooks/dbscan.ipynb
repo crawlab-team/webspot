{
 "cells": [
  {
   "cell_type": "code",
   "execution_count": 1,
   "id": "9a33f506",
   "metadata": {},
   "outputs": [],
   "source": [
    "import init\n",
    "\n",
    "import pandas as pd\n",
    "import numpy as np\n",
    "from sklearn.cluster import DBSCAN\n",
    "from sklearn.preprocessing import normalize\n",
    "from scipy.stats import entropy\n",
    "\n",
    "from webspot.graph.graph_loader import GraphLoader"
   ]
  },
  {
   "cell_type": "code",
   "execution_count": 2,
   "id": "cf3162a7",
   "metadata": {},
   "outputs": [
    {
     "name": "stderr",
     "output_type": "stream",
     "text": [
      "/Users/marvzhang/projects/tikazyq/webspot/venv/lib/python3.10/site-packages/dgl/heterograph.py:72: DGLWarning: Recommend creating graphs by `dgl.graph(data)` instead of `dgl.DGLGraph(data)`.\n",
      "  dgl_warning('Recommend creating graphs by `dgl.graph(data)`'\n",
      "/Users/marvzhang/projects/tikazyq/webspot/venv/lib/python3.10/site-packages/sklearn/preprocessing/_label.py:116: DataConversionWarning: A column-vector y was passed when a 1d array was expected. Please change the shape of y to (n_samples, ), for example using ravel().\n",
      "  y = column_or_1d(y, warn=True)\n"
     ]
    }
   ],
   "source": [
    "loader = GraphLoader(\n",
    "    json_path='/Users/marvzhang/projects/tikazyq/webspot/data/quotes.toscrape.com/json/http___quotes_toscrape_com_.json',\n",
    "    embed_walk_length=5,\n",
    ")\n",
    "\n",
    "loader.run()"
   ]
  },
  {
   "cell_type": "code",
   "execution_count": 3,
   "id": "a3e6646b",
   "metadata": {},
   "outputs": [
    {
     "ename": "ValueError",
     "evalue": "y contains previously unseen labels: [0, 1, 2, 3, 4, 5]",
     "output_type": "error",
     "traceback": [
      "\u001b[0;31m---------------------------------------------------------------------------\u001b[0m",
      "\u001b[0;31mValueError\u001b[0m                                Traceback (most recent call last)",
      "Cell \u001b[0;32mIn[3], line 1\u001b[0m\n\u001b[0;32m----> 1\u001b[0m \u001b[43mloader\u001b[49m\u001b[38;5;241;43m.\u001b[39;49m\u001b[43mnode_ids_enc\u001b[49m\u001b[38;5;241;43m.\u001b[39;49m\u001b[43mtransform\u001b[49m\u001b[43m(\u001b[49m\u001b[43mloader\u001b[49m\u001b[38;5;241;43m.\u001b[39;49m\u001b[43mnodes_ids_tensor\u001b[49m\u001b[43m)\u001b[49m\n",
      "File \u001b[0;32m~/projects/tikazyq/webspot/venv/lib/python3.10/site-packages/sklearn/utils/_set_output.py:142\u001b[0m, in \u001b[0;36m_wrap_method_output.<locals>.wrapped\u001b[0;34m(self, X, *args, **kwargs)\u001b[0m\n\u001b[1;32m    140\u001b[0m \u001b[38;5;129m@wraps\u001b[39m(f)\n\u001b[1;32m    141\u001b[0m \u001b[38;5;28;01mdef\u001b[39;00m \u001b[38;5;21mwrapped\u001b[39m(\u001b[38;5;28mself\u001b[39m, X, \u001b[38;5;241m*\u001b[39margs, \u001b[38;5;241m*\u001b[39m\u001b[38;5;241m*\u001b[39mkwargs):\n\u001b[0;32m--> 142\u001b[0m     data_to_wrap \u001b[38;5;241m=\u001b[39m \u001b[43mf\u001b[49m\u001b[43m(\u001b[49m\u001b[38;5;28;43mself\u001b[39;49m\u001b[43m,\u001b[49m\u001b[43m \u001b[49m\u001b[43mX\u001b[49m\u001b[43m,\u001b[49m\u001b[43m \u001b[49m\u001b[38;5;241;43m*\u001b[39;49m\u001b[43margs\u001b[49m\u001b[43m,\u001b[49m\u001b[43m \u001b[49m\u001b[38;5;241;43m*\u001b[39;49m\u001b[38;5;241;43m*\u001b[39;49m\u001b[43mkwargs\u001b[49m\u001b[43m)\u001b[49m\n\u001b[1;32m    143\u001b[0m     \u001b[38;5;28;01mif\u001b[39;00m \u001b[38;5;28misinstance\u001b[39m(data_to_wrap, \u001b[38;5;28mtuple\u001b[39m):\n\u001b[1;32m    144\u001b[0m         \u001b[38;5;66;03m# only wrap the first output for cross decomposition\u001b[39;00m\n\u001b[1;32m    145\u001b[0m         \u001b[38;5;28;01mreturn\u001b[39;00m (\n\u001b[1;32m    146\u001b[0m             _wrap_data_with_container(method, data_to_wrap[\u001b[38;5;241m0\u001b[39m], X, \u001b[38;5;28mself\u001b[39m),\n\u001b[1;32m    147\u001b[0m             \u001b[38;5;241m*\u001b[39mdata_to_wrap[\u001b[38;5;241m1\u001b[39m:],\n\u001b[1;32m    148\u001b[0m         )\n",
      "File \u001b[0;32m~/projects/tikazyq/webspot/venv/lib/python3.10/site-packages/sklearn/preprocessing/_label.py:139\u001b[0m, in \u001b[0;36mLabelEncoder.transform\u001b[0;34m(self, y)\u001b[0m\n\u001b[1;32m    136\u001b[0m \u001b[38;5;28;01mif\u001b[39;00m _num_samples(y) \u001b[38;5;241m==\u001b[39m \u001b[38;5;241m0\u001b[39m:\n\u001b[1;32m    137\u001b[0m     \u001b[38;5;28;01mreturn\u001b[39;00m np\u001b[38;5;241m.\u001b[39marray([])\n\u001b[0;32m--> 139\u001b[0m \u001b[38;5;28;01mreturn\u001b[39;00m \u001b[43m_encode\u001b[49m\u001b[43m(\u001b[49m\u001b[43my\u001b[49m\u001b[43m,\u001b[49m\u001b[43m \u001b[49m\u001b[43muniques\u001b[49m\u001b[38;5;241;43m=\u001b[39;49m\u001b[38;5;28;43mself\u001b[39;49m\u001b[38;5;241;43m.\u001b[39;49m\u001b[43mclasses_\u001b[49m\u001b[43m)\u001b[49m\n",
      "File \u001b[0;32m~/projects/tikazyq/webspot/venv/lib/python3.10/site-packages/sklearn/utils/_encode.py:231\u001b[0m, in \u001b[0;36m_encode\u001b[0;34m(values, uniques, check_unknown)\u001b[0m\n\u001b[1;32m    229\u001b[0m     diff \u001b[38;5;241m=\u001b[39m _check_unknown(values, uniques)\n\u001b[1;32m    230\u001b[0m     \u001b[38;5;28;01mif\u001b[39;00m diff:\n\u001b[0;32m--> 231\u001b[0m         \u001b[38;5;28;01mraise\u001b[39;00m \u001b[38;5;167;01mValueError\u001b[39;00m(\u001b[38;5;124mf\u001b[39m\u001b[38;5;124m\"\u001b[39m\u001b[38;5;124my contains previously unseen labels: \u001b[39m\u001b[38;5;132;01m{\u001b[39;00m\u001b[38;5;28mstr\u001b[39m(diff)\u001b[38;5;132;01m}\u001b[39;00m\u001b[38;5;124m\"\u001b[39m)\n\u001b[1;32m    232\u001b[0m \u001b[38;5;28;01mreturn\u001b[39;00m np\u001b[38;5;241m.\u001b[39msearchsorted(uniques, values)\n",
      "\u001b[0;31mValueError\u001b[0m: y contains previously unseen labels: [0, 1, 2, 3, 4, 5]"
     ]
    }
   ],
   "source": [
    "loader.node_ids_enc.transform(loader.nodes_ids_tensor)"
   ]
  },
  {
   "cell_type": "code",
   "execution_count": 4,
   "id": "a473625b",
   "metadata": {
    "scrolled": false
   },
   "outputs": [
    {
     "data": {
      "text/plain": [
       "tensor([[  0,   1,   9, 116, 130, 131],\n",
       "        [  1,   2,   6,   7,   8,  -1],\n",
       "        [  2,   6,   7,   8,  -1,  -1],\n",
       "        [  3,   4,   5,  -1,  -1,  -1],\n",
       "        [  4,   5,  -1,  -1,  -1,  -1],\n",
       "        [  5,  -1,  -1,  -1,  -1,  -1],\n",
       "        [  6,   7,   8,  -1,  -1,  -1],\n",
       "        [  7,   8,  -1,  -1,  -1,  -1],\n",
       "        [  8,  -1,  -1,  -1,  -1,  -1],\n",
       "        [  9, 116, 128, 129,  -1,  -1],\n",
       "        [ 10,  43,  45,  47,  -1,  -1],\n",
       "        [ 11,  12,  -1,  -1,  -1,  -1],\n",
       "        [ 12,  -1,  -1,  -1,  -1,  -1],\n",
       "        [ 13,  14,  -1,  -1,  -1,  -1],\n",
       "        [ 14,  -1,  -1,  -1,  -1,  -1],\n",
       "        [ 15,  -1,  -1,  -1,  -1,  -1],\n",
       "        [ 16,  19,  -1,  -1,  -1,  -1],\n",
       "        [ 17,  -1,  -1,  -1,  -1,  -1],\n",
       "        [ 18,  -1,  -1,  -1,  -1,  -1],\n",
       "        [ 19,  -1,  -1,  -1,  -1,  -1],\n",
       "        [ 20,  -1,  -1,  -1,  -1,  -1],\n",
       "        [ 21,  -1,  -1,  -1,  -1,  -1],\n",
       "        [ 22,  23,  -1,  -1,  -1,  -1],\n",
       "        [ 23,  -1,  -1,  -1,  -1,  -1],\n",
       "        [ 24,  25,  -1,  -1,  -1,  -1],\n",
       "        [ 25,  -1,  -1,  -1,  -1,  -1],\n",
       "        [ 26,  -1,  -1,  -1,  -1,  -1],\n",
       "        [ 27,  29,  -1,  -1,  -1,  -1],\n",
       "        [ 28,  -1,  -1,  -1,  -1,  -1],\n",
       "        [ 29,  -1,  -1,  -1,  -1,  -1],\n",
       "        [ 30,  -1,  -1,  -1,  -1,  -1],\n",
       "        [ 31,  32,  -1,  -1,  -1,  -1],\n",
       "        [ 32,  -1,  -1,  -1,  -1,  -1],\n",
       "        [ 33,  34,  -1,  -1,  -1,  -1],\n",
       "        [ 34,  -1,  -1,  -1,  -1,  -1],\n",
       "        [ 35,  -1,  -1,  -1,  -1,  -1],\n",
       "        [ 36,  37,  -1,  -1,  -1,  -1],\n",
       "        [ 37,  -1,  -1,  -1,  -1,  -1],\n",
       "        [ 38,  -1,  -1,  -1,  -1,  -1],\n",
       "        [ 39,  -1,  -1,  -1,  -1,  -1],\n",
       "        [ 40,  -1,  -1,  -1,  -1,  -1],\n",
       "        [ 41,  -1,  -1,  -1,  -1,  -1],\n",
       "        [ 42,  -1,  -1,  -1,  -1,  -1],\n",
       "        [ 43,  48,  51,  -1,  -1,  -1],\n",
       "        [ 44,  -1,  -1,  -1,  -1,  -1],\n",
       "        [ 45,  47,  -1,  -1,  -1,  -1],\n",
       "        [ 46,  -1,  -1,  -1,  -1,  -1],\n",
       "        [ 47,  -1,  -1,  -1,  -1,  -1],\n",
       "        [ 48,  51,  -1,  -1,  -1,  -1],\n",
       "        [ 49,  -1,  -1,  -1,  -1,  -1],\n",
       "        [ 50,  -1,  -1,  -1,  -1,  -1],\n",
       "        [ 51,  -1,  -1,  -1,  -1,  -1],\n",
       "        [ 52,  -1,  -1,  -1,  -1,  -1],\n",
       "        [ 53,  -1,  -1,  -1,  -1,  -1],\n",
       "        [ 54,  59,  62,  -1,  -1,  -1],\n",
       "        [ 55,  -1,  -1,  -1,  -1,  -1],\n",
       "        [ 56,  58,  -1,  -1,  -1,  -1],\n",
       "        [ 57,  -1,  -1,  -1,  -1,  -1],\n",
       "        [ 58,  -1,  -1,  -1,  -1,  -1],\n",
       "        [ 59,  61,  -1,  -1,  -1,  -1],\n",
       "        [ 60,  -1,  -1,  -1,  -1,  -1],\n",
       "        [ 61,  -1,  -1,  -1,  -1,  -1],\n",
       "        [ 62,  -1,  -1,  -1,  -1,  -1],\n",
       "        [ 63,  65,  67,  -1,  -1,  -1],\n",
       "        [ 64,  -1,  -1,  -1,  -1,  -1],\n",
       "        [ 65,  67,  -1,  -1,  -1,  -1],\n",
       "        [ 66,  -1,  -1,  -1,  -1,  -1],\n",
       "        [ 67,  -1,  -1,  -1,  -1,  -1],\n",
       "        [ 68,  72,  -1,  -1,  -1,  -1],\n",
       "        [ 69,  -1,  -1,  -1,  -1,  -1],\n",
       "        [ 70,  -1,  -1,  -1,  -1,  -1],\n",
       "        [ 71,  -1,  -1,  -1,  -1,  -1],\n",
       "        [ 72,  -1,  -1,  -1,  -1,  -1],\n",
       "        [ 73,  74,  -1,  -1,  -1,  -1],\n",
       "        [ 74,  -1,  -1,  -1,  -1,  -1],\n",
       "        [ 75,  77,  -1,  -1,  -1,  -1],\n",
       "        [ 76,  -1,  -1,  -1,  -1,  -1],\n",
       "        [ 77,  -1,  -1,  -1,  -1,  -1],\n",
       "        [ 78,  81,  -1,  -1,  -1,  -1],\n",
       "        [ 79,  -1,  -1,  -1,  -1,  -1],\n",
       "        [ 80,  -1,  -1,  -1,  -1,  -1],\n",
       "        [ 81,  -1,  -1,  -1,  -1,  -1],\n",
       "        [ 82,  83,  -1,  -1,  -1,  -1],\n",
       "        [ 83,  -1,  -1,  -1,  -1,  -1],\n",
       "        [ 84,  85,  -1,  -1,  -1,  -1],\n",
       "        [ 85,  -1,  -1,  -1,  -1,  -1],\n",
       "        [ 86,  -1,  -1,  -1,  -1,  -1],\n",
       "        [ 87,  88,  -1,  -1,  -1,  -1],\n",
       "        [ 88,  -1,  -1,  -1,  -1,  -1],\n",
       "        [ 89,  -1,  -1,  -1,  -1,  -1],\n",
       "        [ 90,  -1,  -1,  -1,  -1,  -1],\n",
       "        [ 91,  -1,  -1,  -1,  -1,  -1],\n",
       "        [ 92,  -1,  -1,  -1,  -1,  -1],\n",
       "        [ 93,  95,  96,  -1,  -1,  -1],\n",
       "        [ 94,  -1,  -1,  -1,  -1,  -1],\n",
       "        [ 95,  97,  -1,  -1,  -1,  -1],\n",
       "        [ 96,  -1,  -1,  -1,  -1,  -1],\n",
       "        [ 97,  -1,  -1,  -1,  -1,  -1],\n",
       "        [ 98, 100,  -1,  -1,  -1,  -1],\n",
       "        [ 99,  -1,  -1,  -1,  -1,  -1],\n",
       "        [100,  -1,  -1,  -1,  -1,  -1],\n",
       "        [101, 102,  -1,  -1,  -1,  -1],\n",
       "        [102,  -1,  -1,  -1,  -1,  -1],\n",
       "        [103, 105,  -1,  -1,  -1,  -1],\n",
       "        [104,  -1,  -1,  -1,  -1,  -1],\n",
       "        [105,  -1,  -1,  -1,  -1,  -1],\n",
       "        [106, 110,  -1,  -1,  -1,  -1],\n",
       "        [107,  -1,  -1,  -1,  -1,  -1],\n",
       "        [108,  -1,  -1,  -1,  -1,  -1],\n",
       "        [109,  -1,  -1,  -1,  -1,  -1],\n",
       "        [110,  -1,  -1,  -1,  -1,  -1],\n",
       "        [111, 112, 113, 114, 115,  -1],\n",
       "        [112, 113, 114, 115,  -1,  -1],\n",
       "        [113, 114, 115,  -1,  -1,  -1],\n",
       "        [114, 115,  -1,  -1,  -1,  -1],\n",
       "        [115,  -1,  -1,  -1,  -1,  -1],\n",
       "        [116, 130, 131,  -1,  -1,  -1],\n",
       "        [117,  -1,  -1,  -1,  -1,  -1],\n",
       "        [118, 119,  -1,  -1,  -1,  -1],\n",
       "        [119,  -1,  -1,  -1,  -1,  -1],\n",
       "        [120, 121,  -1,  -1,  -1,  -1],\n",
       "        [121,  -1,  -1,  -1,  -1,  -1],\n",
       "        [122, 123,  -1,  -1,  -1,  -1],\n",
       "        [123,  -1,  -1,  -1,  -1,  -1],\n",
       "        [124, 125,  -1,  -1,  -1,  -1],\n",
       "        [125,  -1,  -1,  -1,  -1,  -1],\n",
       "        [126, 127,  -1,  -1,  -1,  -1],\n",
       "        [127,  -1,  -1,  -1,  -1,  -1],\n",
       "        [128, 129,  -1,  -1,  -1,  -1],\n",
       "        [129,  -1,  -1,  -1,  -1,  -1],\n",
       "        [130, 131,  -1,  -1,  -1,  -1],\n",
       "        [131,  -1,  -1,  -1,  -1,  -1],\n",
       "        [132, 133,  -1,  -1,  -1,  -1],\n",
       "        [133,  -1,  -1,  -1,  -1,  -1],\n",
       "        [134, 135,  -1,  -1,  -1,  -1],\n",
       "        [135,  -1,  -1,  -1,  -1,  -1],\n",
       "        [136, 137,  -1,  -1,  -1,  -1],\n",
       "        [137,  -1,  -1,  -1,  -1,  -1],\n",
       "        [138, 139, 140, 141,  -1,  -1],\n",
       "        [139, 140, 141,  -1,  -1,  -1],\n",
       "        [140, 141,  -1,  -1,  -1,  -1],\n",
       "        [141,  -1,  -1,  -1,  -1,  -1],\n",
       "        [142, 143,  -1,  -1,  -1,  -1],\n",
       "        [143,  -1,  -1,  -1,  -1,  -1],\n",
       "        [144,  -1,  -1,  -1,  -1,  -1]])"
      ]
     },
     "execution_count": 4,
     "metadata": {},
     "output_type": "execute_result"
    }
   ],
   "source": [
    "loader.nodes_embedded_tensor"
   ]
  },
  {
   "cell_type": "code",
   "execution_count": 6,
   "id": "44a41615",
   "metadata": {},
   "outputs": [
    {
     "data": {
      "text/plain": [
       "tensor([10, 43, 45, 47, -1, -1])"
      ]
     },
     "execution_count": 6,
     "metadata": {},
     "output_type": "execute_result"
    }
   ],
   "source": [
    "idx = loader.nodes_embedded_tensor[10]\n",
    "idx"
   ]
  },
  {
   "cell_type": "code",
   "execution_count": 7,
   "id": "e136a62a",
   "metadata": {},
   "outputs": [
    {
     "data": {
      "text/plain": [
       "tensor([[0., 0., 0., 1., 0., 0., 0., 0., 0., 0., 0., 0., 0., 0., 0., 0., 0., 0.,\n",
       "         0., 0., 0., 0., 0., 0., 0., 0., 0., 0., 0., 0., 0., 0., 0., 0., 0., 0.,\n",
       "         0., 0., 0., 0., 0., 0., 0., 0., 0., 0., 0., 0., 0., 0., 0., 0., 0., 0.,\n",
       "         0., 0., 0., 0., 0., 0., 0., 0., 0., 0., 0., 0., 0., 0., 0., 0., 0., 0.,\n",
       "         0., 0., 0., 0., 0., 0., 0., 0., 0., 0., 0., 0., 0., 0., 0., 0., 0., 0.,\n",
       "         0., 0., 0., 0., 0., 1., 0., 0., 0., 0., 0., 0., 0., 0., 0., 0.],\n",
       "        [0., 0., 0., 0., 0., 0., 0., 0., 0., 0., 0., 1., 0., 0., 0., 0., 0., 0.,\n",
       "         0., 0., 0., 0., 0., 0., 0., 0., 0., 0., 0., 0., 0., 0., 0., 0., 0., 0.,\n",
       "         0., 0., 0., 0., 0., 0., 0., 0., 0., 0., 0., 0., 0., 0., 0., 0., 0., 0.,\n",
       "         0., 0., 0., 0., 0., 0., 0., 0., 0., 0., 0., 0., 0., 0., 0., 0., 0., 0.,\n",
       "         0., 0., 0., 0., 0., 0., 0., 0., 0., 0., 1., 1., 0., 0., 0., 0., 0., 0.,\n",
       "         0., 0., 0., 0., 0., 1., 0., 0., 0., 0., 0., 0., 0., 0., 0., 0.],\n",
       "        [0., 0., 0., 0., 0., 0., 0., 0., 0., 0., 0., 0., 0., 0., 0., 0., 0., 0.,\n",
       "         0., 0., 0., 0., 0., 0., 0., 0., 0., 0., 0., 0., 0., 0., 0., 0., 0., 0.,\n",
       "         0., 0., 0., 0., 0., 0., 0., 0., 0., 0., 0., 0., 0., 0., 0., 0., 0., 0.,\n",
       "         0., 0., 0., 0., 0., 0., 0., 0., 0., 0., 0., 0., 0., 0., 0., 0., 0., 0.,\n",
       "         0., 0., 0., 0., 0., 0., 0., 0., 0., 0., 0., 0., 0., 0., 0., 0., 0., 0.,\n",
       "         0., 0., 0., 0., 0., 0., 0., 0., 0., 0., 0., 0., 0., 0., 1., 0.],\n",
       "        [0., 0., 0., 0., 0., 0., 0., 0., 0., 0., 0., 0., 0., 0., 0., 0., 0., 0.,\n",
       "         0., 0., 0., 0., 0., 0., 0., 0., 0., 0., 0., 0., 0., 0., 0., 0., 0., 1.,\n",
       "         0., 0., 0., 0., 0., 0., 0., 0., 0., 0., 0., 0., 0., 0., 0., 0., 0., 0.,\n",
       "         0., 0., 0., 0., 0., 0., 0., 0., 0., 0., 0., 0., 0., 0., 0., 0., 0., 0.,\n",
       "         0., 0., 0., 0., 0., 0., 0., 0., 0., 0., 0., 0., 0., 0., 0., 0., 0., 0.,\n",
       "         0., 0., 0., 1., 0., 0., 0., 0., 0., 0., 0., 0., 0., 0., 0., 0.],\n",
       "        [0., 0., 0., 0., 0., 0., 0., 0., 0., 0., 0., 0., 0., 0., 0., 0., 0., 0.,\n",
       "         0., 0., 0., 0., 0., 0., 0., 0., 0., 0., 0., 0., 0., 0., 0., 0., 0., 0.,\n",
       "         0., 0., 0., 0., 0., 0., 0., 0., 0., 0., 0., 0., 0., 0., 0., 0., 0., 0.,\n",
       "         0., 0., 0., 0., 0., 0., 0., 0., 0., 0., 0., 0., 0., 0., 0., 0., 0., 0.,\n",
       "         0., 0., 0., 0., 0., 1., 0., 0., 0., 0., 0., 0., 0., 0., 0., 0., 0., 0.,\n",
       "         0., 0., 0., 1., 0., 0., 0., 0., 0., 0., 0., 0., 0., 0., 0., 0.],\n",
       "        [0., 0., 0., 0., 0., 0., 0., 0., 0., 0., 0., 0., 0., 0., 0., 0., 0., 0.,\n",
       "         0., 0., 0., 0., 0., 0., 0., 0., 0., 0., 0., 0., 0., 0., 0., 0., 0., 0.,\n",
       "         0., 0., 0., 0., 0., 0., 0., 0., 0., 0., 0., 0., 0., 0., 0., 0., 0., 0.,\n",
       "         0., 0., 0., 0., 0., 0., 0., 0., 0., 0., 0., 0., 0., 0., 0., 0., 0., 0.,\n",
       "         0., 0., 0., 0., 0., 1., 0., 0., 0., 0., 0., 0., 0., 0., 0., 0., 0., 0.,\n",
       "         0., 0., 0., 1., 0., 0., 0., 0., 0., 0., 0., 0., 0., 0., 0., 0.]],\n",
       "       grad_fn=<IndexBackward0>)"
      ]
     },
     "execution_count": 7,
     "metadata": {},
     "output_type": "execute_result"
    }
   ],
   "source": [
    "loader.nodes_features_tensor[idx]"
   ]
  },
  {
   "cell_type": "code",
   "execution_count": 8,
   "id": "08070fd8",
   "metadata": {},
   "outputs": [
    {
     "data": {
      "text/plain": [
       "torch.Size([6, 106])"
      ]
     },
     "execution_count": 8,
     "metadata": {},
     "output_type": "execute_result"
    }
   ],
   "source": [
    "loader.nodes_features_tensor[idx].shape"
   ]
  },
  {
   "cell_type": "code",
   "execution_count": 9,
   "id": "086522d7",
   "metadata": {},
   "outputs": [
    {
     "data": {
      "text/plain": [
       "tensor([[  0,   1,   9, 116, 130, 131],\n",
       "        [  1,   2,   6,   7,   8,  -1],\n",
       "        [  2,   6,   7,   8,  -1,  -1],\n",
       "        [  3,   4,   5,  -1,  -1,  -1],\n",
       "        [  4,   5,  -1,  -1,  -1,  -1],\n",
       "        [  5,  -1,  -1,  -1,  -1,  -1],\n",
       "        [  6,   7,   8,  -1,  -1,  -1],\n",
       "        [  7,   8,  -1,  -1,  -1,  -1],\n",
       "        [  8,  -1,  -1,  -1,  -1,  -1],\n",
       "        [  9, 116, 128, 129,  -1,  -1],\n",
       "        [ 10,  43,  45,  47,  -1,  -1],\n",
       "        [ 11,  12,  -1,  -1,  -1,  -1],\n",
       "        [ 12,  -1,  -1,  -1,  -1,  -1],\n",
       "        [ 13,  14,  -1,  -1,  -1,  -1],\n",
       "        [ 14,  -1,  -1,  -1,  -1,  -1],\n",
       "        [ 15,  -1,  -1,  -1,  -1,  -1],\n",
       "        [ 16,  19,  -1,  -1,  -1,  -1],\n",
       "        [ 17,  -1,  -1,  -1,  -1,  -1],\n",
       "        [ 18,  -1,  -1,  -1,  -1,  -1],\n",
       "        [ 19,  -1,  -1,  -1,  -1,  -1],\n",
       "        [ 20,  -1,  -1,  -1,  -1,  -1],\n",
       "        [ 21,  -1,  -1,  -1,  -1,  -1],\n",
       "        [ 22,  23,  -1,  -1,  -1,  -1],\n",
       "        [ 23,  -1,  -1,  -1,  -1,  -1],\n",
       "        [ 24,  25,  -1,  -1,  -1,  -1],\n",
       "        [ 25,  -1,  -1,  -1,  -1,  -1],\n",
       "        [ 26,  -1,  -1,  -1,  -1,  -1],\n",
       "        [ 27,  29,  -1,  -1,  -1,  -1],\n",
       "        [ 28,  -1,  -1,  -1,  -1,  -1],\n",
       "        [ 29,  -1,  -1,  -1,  -1,  -1],\n",
       "        [ 30,  -1,  -1,  -1,  -1,  -1],\n",
       "        [ 31,  32,  -1,  -1,  -1,  -1],\n",
       "        [ 32,  -1,  -1,  -1,  -1,  -1],\n",
       "        [ 33,  34,  -1,  -1,  -1,  -1],\n",
       "        [ 34,  -1,  -1,  -1,  -1,  -1],\n",
       "        [ 35,  -1,  -1,  -1,  -1,  -1],\n",
       "        [ 36,  37,  -1,  -1,  -1,  -1],\n",
       "        [ 37,  -1,  -1,  -1,  -1,  -1],\n",
       "        [ 38,  -1,  -1,  -1,  -1,  -1],\n",
       "        [ 39,  -1,  -1,  -1,  -1,  -1],\n",
       "        [ 40,  -1,  -1,  -1,  -1,  -1],\n",
       "        [ 41,  -1,  -1,  -1,  -1,  -1],\n",
       "        [ 42,  -1,  -1,  -1,  -1,  -1],\n",
       "        [ 43,  48,  51,  -1,  -1,  -1],\n",
       "        [ 44,  -1,  -1,  -1,  -1,  -1],\n",
       "        [ 45,  47,  -1,  -1,  -1,  -1],\n",
       "        [ 46,  -1,  -1,  -1,  -1,  -1],\n",
       "        [ 47,  -1,  -1,  -1,  -1,  -1],\n",
       "        [ 48,  51,  -1,  -1,  -1,  -1],\n",
       "        [ 49,  -1,  -1,  -1,  -1,  -1],\n",
       "        [ 50,  -1,  -1,  -1,  -1,  -1],\n",
       "        [ 51,  -1,  -1,  -1,  -1,  -1],\n",
       "        [ 52,  -1,  -1,  -1,  -1,  -1],\n",
       "        [ 53,  -1,  -1,  -1,  -1,  -1],\n",
       "        [ 54,  59,  62,  -1,  -1,  -1],\n",
       "        [ 55,  -1,  -1,  -1,  -1,  -1],\n",
       "        [ 56,  58,  -1,  -1,  -1,  -1],\n",
       "        [ 57,  -1,  -1,  -1,  -1,  -1],\n",
       "        [ 58,  -1,  -1,  -1,  -1,  -1],\n",
       "        [ 59,  61,  -1,  -1,  -1,  -1],\n",
       "        [ 60,  -1,  -1,  -1,  -1,  -1],\n",
       "        [ 61,  -1,  -1,  -1,  -1,  -1],\n",
       "        [ 62,  -1,  -1,  -1,  -1,  -1],\n",
       "        [ 63,  65,  67,  -1,  -1,  -1],\n",
       "        [ 64,  -1,  -1,  -1,  -1,  -1],\n",
       "        [ 65,  67,  -1,  -1,  -1,  -1],\n",
       "        [ 66,  -1,  -1,  -1,  -1,  -1],\n",
       "        [ 67,  -1,  -1,  -1,  -1,  -1],\n",
       "        [ 68,  72,  -1,  -1,  -1,  -1],\n",
       "        [ 69,  -1,  -1,  -1,  -1,  -1],\n",
       "        [ 70,  -1,  -1,  -1,  -1,  -1],\n",
       "        [ 71,  -1,  -1,  -1,  -1,  -1],\n",
       "        [ 72,  -1,  -1,  -1,  -1,  -1],\n",
       "        [ 73,  74,  -1,  -1,  -1,  -1],\n",
       "        [ 74,  -1,  -1,  -1,  -1,  -1],\n",
       "        [ 75,  77,  -1,  -1,  -1,  -1],\n",
       "        [ 76,  -1,  -1,  -1,  -1,  -1],\n",
       "        [ 77,  -1,  -1,  -1,  -1,  -1],\n",
       "        [ 78,  81,  -1,  -1,  -1,  -1],\n",
       "        [ 79,  -1,  -1,  -1,  -1,  -1],\n",
       "        [ 80,  -1,  -1,  -1,  -1,  -1],\n",
       "        [ 81,  -1,  -1,  -1,  -1,  -1],\n",
       "        [ 82,  83,  -1,  -1,  -1,  -1],\n",
       "        [ 83,  -1,  -1,  -1,  -1,  -1],\n",
       "        [ 84,  85,  -1,  -1,  -1,  -1],\n",
       "        [ 85,  -1,  -1,  -1,  -1,  -1],\n",
       "        [ 86,  -1,  -1,  -1,  -1,  -1],\n",
       "        [ 87,  88,  -1,  -1,  -1,  -1],\n",
       "        [ 88,  -1,  -1,  -1,  -1,  -1],\n",
       "        [ 89,  -1,  -1,  -1,  -1,  -1],\n",
       "        [ 90,  -1,  -1,  -1,  -1,  -1],\n",
       "        [ 91,  -1,  -1,  -1,  -1,  -1],\n",
       "        [ 92,  -1,  -1,  -1,  -1,  -1],\n",
       "        [ 93,  95,  96,  -1,  -1,  -1],\n",
       "        [ 94,  -1,  -1,  -1,  -1,  -1],\n",
       "        [ 95,  97,  -1,  -1,  -1,  -1],\n",
       "        [ 96,  -1,  -1,  -1,  -1,  -1],\n",
       "        [ 97,  -1,  -1,  -1,  -1,  -1],\n",
       "        [ 98, 100,  -1,  -1,  -1,  -1],\n",
       "        [ 99,  -1,  -1,  -1,  -1,  -1],\n",
       "        [100,  -1,  -1,  -1,  -1,  -1],\n",
       "        [101, 102,  -1,  -1,  -1,  -1],\n",
       "        [102,  -1,  -1,  -1,  -1,  -1],\n",
       "        [103, 105,  -1,  -1,  -1,  -1],\n",
       "        [104,  -1,  -1,  -1,  -1,  -1],\n",
       "        [105,  -1,  -1,  -1,  -1,  -1],\n",
       "        [106, 110,  -1,  -1,  -1,  -1],\n",
       "        [107,  -1,  -1,  -1,  -1,  -1],\n",
       "        [108,  -1,  -1,  -1,  -1,  -1],\n",
       "        [109,  -1,  -1,  -1,  -1,  -1],\n",
       "        [110,  -1,  -1,  -1,  -1,  -1],\n",
       "        [111, 112, 113, 114, 115,  -1],\n",
       "        [112, 113, 114, 115,  -1,  -1],\n",
       "        [113, 114, 115,  -1,  -1,  -1],\n",
       "        [114, 115,  -1,  -1,  -1,  -1],\n",
       "        [115,  -1,  -1,  -1,  -1,  -1],\n",
       "        [116, 130, 131,  -1,  -1,  -1],\n",
       "        [117,  -1,  -1,  -1,  -1,  -1],\n",
       "        [118, 119,  -1,  -1,  -1,  -1],\n",
       "        [119,  -1,  -1,  -1,  -1,  -1],\n",
       "        [120, 121,  -1,  -1,  -1,  -1],\n",
       "        [121,  -1,  -1,  -1,  -1,  -1],\n",
       "        [122, 123,  -1,  -1,  -1,  -1],\n",
       "        [123,  -1,  -1,  -1,  -1,  -1],\n",
       "        [124, 125,  -1,  -1,  -1,  -1],\n",
       "        [125,  -1,  -1,  -1,  -1,  -1],\n",
       "        [126, 127,  -1,  -1,  -1,  -1],\n",
       "        [127,  -1,  -1,  -1,  -1,  -1],\n",
       "        [128, 129,  -1,  -1,  -1,  -1],\n",
       "        [129,  -1,  -1,  -1,  -1,  -1],\n",
       "        [130, 131,  -1,  -1,  -1,  -1],\n",
       "        [131,  -1,  -1,  -1,  -1,  -1],\n",
       "        [132, 133,  -1,  -1,  -1,  -1],\n",
       "        [133,  -1,  -1,  -1,  -1,  -1],\n",
       "        [134, 135,  -1,  -1,  -1,  -1],\n",
       "        [135,  -1,  -1,  -1,  -1,  -1],\n",
       "        [136, 137,  -1,  -1,  -1,  -1],\n",
       "        [137,  -1,  -1,  -1,  -1,  -1],\n",
       "        [138, 139, 140, 141,  -1,  -1],\n",
       "        [139, 140, 141,  -1,  -1,  -1],\n",
       "        [140, 141,  -1,  -1,  -1,  -1],\n",
       "        [141,  -1,  -1,  -1,  -1,  -1],\n",
       "        [142, 143,  -1,  -1,  -1,  -1],\n",
       "        [143,  -1,  -1,  -1,  -1,  -1],\n",
       "        [144,  -1,  -1,  -1,  -1,  -1]])"
      ]
     },
     "execution_count": 9,
     "metadata": {},
     "output_type": "execute_result"
    }
   ],
   "source": [
    "loader.nodes_embedded_tensor"
   ]
  },
  {
   "cell_type": "code",
   "execution_count": 12,
   "id": "a90bce0a",
   "metadata": {},
   "outputs": [
    {
     "data": {
      "text/plain": [
       "torch.Size([145, 6, 106])"
      ]
     },
     "execution_count": 12,
     "metadata": {},
     "output_type": "execute_result"
    }
   ],
   "source": [
    "loader.nodes_features_tensor[loader.nodes_embedded_tensor].shape"
   ]
  },
  {
   "cell_type": "code",
   "execution_count": 13,
   "id": "13da0129",
   "metadata": {},
   "outputs": [
    {
     "data": {
      "text/plain": [
       "tensor([[[0., 0., 0.,  ..., 0., 0., 0.],\n",
       "         [0., 0., 0.,  ..., 0., 0., 0.],\n",
       "         [0., 0., 0.,  ..., 0., 0., 0.],\n",
       "         [0., 0., 1.,  ..., 0., 0., 0.],\n",
       "         [0., 0., 0.,  ..., 0., 1., 0.],\n",
       "         [0., 0., 0.,  ..., 0., 0., 0.]],\n",
       "\n",
       "        [[0., 0., 0.,  ..., 0., 0., 0.],\n",
       "         [0., 0., 0.,  ..., 0., 0., 0.],\n",
       "         [0., 0., 1.,  ..., 0., 0., 0.],\n",
       "         [0., 0., 0.,  ..., 0., 0., 0.],\n",
       "         [0., 0., 0.,  ..., 0., 0., 0.],\n",
       "         [0., 0., 0.,  ..., 0., 0., 0.]],\n",
       "\n",
       "        [[0., 0., 0.,  ..., 0., 0., 0.],\n",
       "         [0., 0., 1.,  ..., 0., 0., 0.],\n",
       "         [0., 0., 0.,  ..., 0., 0., 0.],\n",
       "         [0., 0., 0.,  ..., 0., 0., 0.],\n",
       "         [0., 0., 0.,  ..., 0., 0., 0.],\n",
       "         [0., 0., 0.,  ..., 0., 0., 0.]],\n",
       "\n",
       "        ...,\n",
       "\n",
       "        [[0., 0., 0.,  ..., 0., 0., 0.],\n",
       "         [0., 0., 0.,  ..., 0., 1., 0.],\n",
       "         [0., 0., 0.,  ..., 0., 0., 0.],\n",
       "         [0., 0., 0.,  ..., 0., 0., 0.],\n",
       "         [0., 0., 0.,  ..., 0., 0., 0.],\n",
       "         [0., 0., 0.,  ..., 0., 0., 0.]],\n",
       "\n",
       "        [[0., 0., 0.,  ..., 0., 1., 0.],\n",
       "         [0., 0., 0.,  ..., 0., 0., 0.],\n",
       "         [0., 0., 0.,  ..., 0., 0., 0.],\n",
       "         [0., 0., 0.,  ..., 0., 0., 0.],\n",
       "         [0., 0., 0.,  ..., 0., 0., 0.],\n",
       "         [0., 0., 0.,  ..., 0., 0., 0.]],\n",
       "\n",
       "        [[0., 0., 0.,  ..., 0., 0., 0.],\n",
       "         [0., 0., 0.,  ..., 0., 0., 0.],\n",
       "         [0., 0., 0.,  ..., 0., 0., 0.],\n",
       "         [0., 0., 0.,  ..., 0., 0., 0.],\n",
       "         [0., 0., 0.,  ..., 0., 0., 0.],\n",
       "         [0., 0., 0.,  ..., 0., 0., 0.]]], grad_fn=<IndexBackward0>)"
      ]
     },
     "execution_count": 13,
     "metadata": {},
     "output_type": "execute_result"
    }
   ],
   "source": [
    "loader.nodes_features_tensor[loader.nodes_embedded_tensor]"
   ]
  },
  {
   "cell_type": "markdown",
   "id": "3cab251d",
   "metadata": {},
   "source": [
    "## Nodes Features (tags + attributes)"
   ]
  },
  {
   "cell_type": "code",
   "execution_count": 14,
   "id": "2bbab532",
   "metadata": {},
   "outputs": [
    {
     "data": {
      "text/plain": [
       "tensor([[0., 0., 0.,  ..., 0., 0., 0.],\n",
       "        [0., 0., 0.,  ..., 0., 0., 0.],\n",
       "        [0., 0., 0.,  ..., 0., 0., 0.],\n",
       "        ...,\n",
       "        [0., 0., 0.,  ..., 0., 0., 0.],\n",
       "        [0., 0., 0.,  ..., 0., 1., 0.],\n",
       "        [0., 0., 0.,  ..., 0., 0., 0.]], requires_grad=True)"
      ]
     },
     "execution_count": 14,
     "metadata": {},
     "output_type": "execute_result"
    }
   ],
   "source": [
    "feat_tags_attrs = loader.nodes_features_tensor\n",
    "feat_tags_attrs"
   ]
  },
  {
   "cell_type": "code",
   "execution_count": 15,
   "id": "312a6a85",
   "metadata": {},
   "outputs": [
    {
     "data": {
      "text/plain": [
       "array([[0., 0., 0., ..., 0., 0., 0.],\n",
       "       [0., 0., 0., ..., 0., 0., 0.],\n",
       "       [0., 0., 0., ..., 0., 0., 0.],\n",
       "       ...,\n",
       "       [0., 0., 0., ..., 0., 0., 0.],\n",
       "       [0., 0., 0., ..., 0., 1., 0.],\n",
       "       [0., 0., 0., ..., 0., 0., 0.]], dtype=float32)"
      ]
     },
     "execution_count": 15,
     "metadata": {},
     "output_type": "execute_result"
    }
   ],
   "source": [
    "X_feat_tags_attrs = feat_tags_attrs.detach().numpy()\n",
    "X_feat_tags_attrs"
   ]
  },
  {
   "cell_type": "code",
   "execution_count": 16,
   "id": "03c76742",
   "metadata": {},
   "outputs": [
    {
     "data": {
      "text/plain": [
       "array([[0. , 0. , 0. , ..., 0. , 0. , 0. ],\n",
       "       [0. , 0. , 0. , ..., 0. , 0. , 0. ],\n",
       "       [0. , 0. , 0. , ..., 0. , 0. , 0. ],\n",
       "       ...,\n",
       "       [0. , 0. , 0. , ..., 0. , 0. , 0. ],\n",
       "       [0. , 0. , 0. , ..., 0. , 0.5, 0. ],\n",
       "       [0. , 0. , 0. , ..., 0. , 0. , 0. ]], dtype=float32)"
      ]
     },
     "execution_count": 16,
     "metadata": {},
     "output_type": "execute_result"
    }
   ],
   "source": [
    "X_feat_tags_attrs = normalize(X_feat_tags_attrs, norm='l1', axis=1)\n",
    "X_feat_tags_attrs"
   ]
  },
  {
   "cell_type": "markdown",
   "id": "fe26cbf1",
   "metadata": {},
   "source": [
    "## Nodes Features (node2vec)"
   ]
  },
  {
   "cell_type": "code",
   "execution_count": 103,
   "id": "5b1d70f0",
   "metadata": {},
   "outputs": [
    {
     "data": {
      "text/plain": [
       "torch.Size([122, 148])"
      ]
     },
     "execution_count": 103,
     "metadata": {},
     "output_type": "execute_result"
    }
   ],
   "source": [
    "feat_node2vec = loader.nodes_features_tensor[loader.nodes_embedded_tensor].sum(dim=1)\n",
    "feat_node2vec.shape"
   ]
  },
  {
   "cell_type": "code",
   "execution_count": 104,
   "id": "15749b25",
   "metadata": {},
   "outputs": [
    {
     "data": {
      "text/plain": [
       "(122, 148)"
      ]
     },
     "execution_count": 104,
     "metadata": {},
     "output_type": "execute_result"
    }
   ],
   "source": [
    "X_feat_node2vec = feat_node2vec.detach().numpy()\n",
    "X_feat_node2vec.shape"
   ]
  },
  {
   "cell_type": "code",
   "execution_count": 105,
   "id": "85dd3757",
   "metadata": {},
   "outputs": [
    {
     "data": {
      "text/plain": [
       "array([[0., 0., 0., ..., 0., 0., 0.],\n",
       "       [0., 0., 0., ..., 0., 0., 0.],\n",
       "       [0., 0., 0., ..., 0., 0., 0.],\n",
       "       ...,\n",
       "       [0., 0., 0., ..., 0., 0., 0.],\n",
       "       [0., 0., 0., ..., 0., 0., 0.],\n",
       "       [0., 0., 0., ..., 0., 0., 0.]], dtype=float32)"
      ]
     },
     "execution_count": 105,
     "metadata": {},
     "output_type": "execute_result"
    }
   ],
   "source": [
    "X_feat_node2vec = normalize(X_feat_node2vec, norm='l1', axis=1)\n",
    "X_feat_node2vec"
   ]
  },
  {
   "cell_type": "markdown",
   "id": "0b2f56f6",
   "metadata": {},
   "source": [
    "## Nodes Features (all: tags + attributes + node2vec)"
   ]
  },
  {
   "cell_type": "code",
   "execution_count": 106,
   "id": "7883bf32",
   "metadata": {},
   "outputs": [
    {
     "data": {
      "text/plain": [
       "(122, 296)"
      ]
     },
     "execution_count": 106,
     "metadata": {},
     "output_type": "execute_result"
    }
   ],
   "source": [
    "X = np.concatenate((X_feat_tags_attrs, X_feat_node2vec), axis=1)\n",
    "X.shape"
   ]
  },
  {
   "cell_type": "code",
   "execution_count": 107,
   "id": "384e69b3",
   "metadata": {},
   "outputs": [
    {
     "data": {
      "text/plain": [
       "array([[0., 0., 0., ..., 0., 0., 0.],\n",
       "       [0., 0., 0., ..., 0., 0., 0.],\n",
       "       [0., 0., 0., ..., 0., 0., 0.],\n",
       "       ...,\n",
       "       [0., 0., 0., ..., 0., 0., 0.],\n",
       "       [0., 0., 0., ..., 0., 0., 0.],\n",
       "       [0., 0., 0., ..., 0., 0., 0.]], dtype=float32)"
      ]
     },
     "execution_count": 107,
     "metadata": {},
     "output_type": "execute_result"
    }
   ],
   "source": [
    "X = normalize(X, norm='l2', axis=1)\n",
    "X"
   ]
  },
  {
   "cell_type": "markdown",
   "id": "1c7fc5da",
   "metadata": {},
   "source": [
    "## DBSCAN Clustering"
   ]
  },
  {
   "cell_type": "code",
   "execution_count": 108,
   "id": "03b86ec2",
   "metadata": {},
   "outputs": [
    {
     "data": {
      "text/html": [
       "<style>#sk-container-id-5 {color: black;background-color: white;}#sk-container-id-5 pre{padding: 0;}#sk-container-id-5 div.sk-toggleable {background-color: white;}#sk-container-id-5 label.sk-toggleable__label {cursor: pointer;display: block;width: 100%;margin-bottom: 0;padding: 0.3em;box-sizing: border-box;text-align: center;}#sk-container-id-5 label.sk-toggleable__label-arrow:before {content: \"▸\";float: left;margin-right: 0.25em;color: #696969;}#sk-container-id-5 label.sk-toggleable__label-arrow:hover:before {color: black;}#sk-container-id-5 div.sk-estimator:hover label.sk-toggleable__label-arrow:before {color: black;}#sk-container-id-5 div.sk-toggleable__content {max-height: 0;max-width: 0;overflow: hidden;text-align: left;background-color: #f0f8ff;}#sk-container-id-5 div.sk-toggleable__content pre {margin: 0.2em;color: black;border-radius: 0.25em;background-color: #f0f8ff;}#sk-container-id-5 input.sk-toggleable__control:checked~div.sk-toggleable__content {max-height: 200px;max-width: 100%;overflow: auto;}#sk-container-id-5 input.sk-toggleable__control:checked~label.sk-toggleable__label-arrow:before {content: \"▾\";}#sk-container-id-5 div.sk-estimator input.sk-toggleable__control:checked~label.sk-toggleable__label {background-color: #d4ebff;}#sk-container-id-5 div.sk-label input.sk-toggleable__control:checked~label.sk-toggleable__label {background-color: #d4ebff;}#sk-container-id-5 input.sk-hidden--visually {border: 0;clip: rect(1px 1px 1px 1px);clip: rect(1px, 1px, 1px, 1px);height: 1px;margin: -1px;overflow: hidden;padding: 0;position: absolute;width: 1px;}#sk-container-id-5 div.sk-estimator {font-family: monospace;background-color: #f0f8ff;border: 1px dotted black;border-radius: 0.25em;box-sizing: border-box;margin-bottom: 0.5em;}#sk-container-id-5 div.sk-estimator:hover {background-color: #d4ebff;}#sk-container-id-5 div.sk-parallel-item::after {content: \"\";width: 100%;border-bottom: 1px solid gray;flex-grow: 1;}#sk-container-id-5 div.sk-label:hover label.sk-toggleable__label {background-color: #d4ebff;}#sk-container-id-5 div.sk-serial::before {content: \"\";position: absolute;border-left: 1px solid gray;box-sizing: border-box;top: 0;bottom: 0;left: 50%;z-index: 0;}#sk-container-id-5 div.sk-serial {display: flex;flex-direction: column;align-items: center;background-color: white;padding-right: 0.2em;padding-left: 0.2em;position: relative;}#sk-container-id-5 div.sk-item {position: relative;z-index: 1;}#sk-container-id-5 div.sk-parallel {display: flex;align-items: stretch;justify-content: center;background-color: white;position: relative;}#sk-container-id-5 div.sk-item::before, #sk-container-id-5 div.sk-parallel-item::before {content: \"\";position: absolute;border-left: 1px solid gray;box-sizing: border-box;top: 0;bottom: 0;left: 50%;z-index: -1;}#sk-container-id-5 div.sk-parallel-item {display: flex;flex-direction: column;z-index: 1;position: relative;background-color: white;}#sk-container-id-5 div.sk-parallel-item:first-child::after {align-self: flex-end;width: 50%;}#sk-container-id-5 div.sk-parallel-item:last-child::after {align-self: flex-start;width: 50%;}#sk-container-id-5 div.sk-parallel-item:only-child::after {width: 0;}#sk-container-id-5 div.sk-dashed-wrapped {border: 1px dashed gray;margin: 0 0.4em 0.5em 0.4em;box-sizing: border-box;padding-bottom: 0.4em;background-color: white;}#sk-container-id-5 div.sk-label label {font-family: monospace;font-weight: bold;display: inline-block;line-height: 1.2em;}#sk-container-id-5 div.sk-label-container {text-align: center;}#sk-container-id-5 div.sk-container {/* jupyter's `normalize.less` sets `[hidden] { display: none; }` but bootstrap.min.css set `[hidden] { display: none !important; }` so we also need the `!important` here to be able to override the default hidden behavior on the sphinx rendered scikit-learn.org. See: https://github.com/scikit-learn/scikit-learn/issues/21755 */display: inline-block !important;position: relative;}#sk-container-id-5 div.sk-text-repr-fallback {display: none;}</style><div id=\"sk-container-id-5\" class=\"sk-top-container\"><div class=\"sk-text-repr-fallback\"><pre>DBSCAN()</pre><b>In a Jupyter environment, please rerun this cell to show the HTML representation or trust the notebook. <br />On GitHub, the HTML representation is unable to render, please try loading this page with nbviewer.org.</b></div><div class=\"sk-container\" hidden><div class=\"sk-item\"><div class=\"sk-estimator sk-toggleable\"><input class=\"sk-toggleable__control sk-hidden--visually\" id=\"sk-estimator-id-5\" type=\"checkbox\" checked><label for=\"sk-estimator-id-5\" class=\"sk-toggleable__label sk-toggleable__label-arrow\">DBSCAN</label><div class=\"sk-toggleable__content\"><pre>DBSCAN()</pre></div></div></div></div></div>"
      ],
      "text/plain": [
       "DBSCAN()"
      ]
     },
     "execution_count": 108,
     "metadata": {},
     "output_type": "execute_result"
    }
   ],
   "source": [
    "dbscan = DBSCAN()\n",
    "dbscan.fit(X)"
   ]
  },
  {
   "cell_type": "code",
   "execution_count": 109,
   "id": "b96ed0b5",
   "metadata": {},
   "outputs": [
    {
     "data": {
      "text/plain": [
       "-1    86\n",
       " 4    10\n",
       " 2     8\n",
       " 3     7\n",
       " 1     6\n",
       " 0     5\n",
       "dtype: int64"
      ]
     },
     "execution_count": 109,
     "metadata": {},
     "output_type": "execute_result"
    }
   ],
   "source": [
    "labels = pd.Series(dbscan.labels_)\n",
    "labels.value_counts()"
   ]
  },
  {
   "cell_type": "code",
   "execution_count": 110,
   "id": "8c9419e6",
   "metadata": {},
   "outputs": [
    {
     "data": {
      "text/plain": [
       "4    10\n",
       "2     8\n",
       "3     7\n",
       "1     6\n",
       "0     5\n",
       "dtype: int64"
      ]
     },
     "execution_count": 110,
     "metadata": {},
     "output_type": "execute_result"
    }
   ],
   "source": [
    "labels_counts = labels.value_counts()\n",
    "labels_counts[labels_counts.index > -1]"
   ]
  },
  {
   "cell_type": "code",
   "execution_count": 111,
   "id": "a72e8101",
   "metadata": {},
   "outputs": [
    {
     "name": "stdout",
     "output_type": "stream",
     "text": [
      "[\"0.123 -> 0.122: [('tag', 'p')]\" \"0.125 -> 0.122: [('tag', 'p')]\"\n",
      " \"0.129 -> 0.122: [('tag', 'p')]\" \"0.46 -> 0.45: [('tag', 'p')]\"\n",
      " \"0.49 -> 0.48: [('tag', 'p')]\" \"0.53 -> 0.52: [('tag', 'p')]\"]\n",
      "\n",
      "\n",
      "\n",
      "[\"0.61 -> 0.60: [('tag', 'li'), ('class', 'module-list-item')]\"\n",
      " \"0.64 -> 0.60: [('tag', 'li'), ('class', 'module-list-item')]\"\n",
      " \"0.67 -> 0.60: [('tag', 'li'), ('class', 'module-list-item')]\"\n",
      " \"0.70 -> 0.60: [('tag', 'li'), ('class', 'module-list-item')]\"\n",
      " \"0.73 -> 0.60: [('tag', 'li'), ('class', 'module-list-item')]\"\n",
      " \"0.76 -> 0.60: [('tag', 'li'), ('class', 'module-list-item')]\"\n",
      " \"0.79 -> 0.60: [('tag', 'li'), ('class', 'module-list-item')]\"\n",
      " \"0.82 -> 0.60: [('tag', 'li'), ('class', 'module-list-item')]\"]\n",
      "\n",
      "\n",
      "\n",
      "[\"0.62 -> 0.61: [('tag', 'span')]\" \"0.65 -> 0.64: [('tag', 'span')]\"\n",
      " \"0.68 -> 0.67: [('tag', 'span')]\" \"0.71 -> 0.70: [('tag', 'span')]\"\n",
      " \"0.74 -> 0.73: [('tag', 'span')]\" \"0.77 -> 0.76: [('tag', 'span')]\"\n",
      " \"0.80 -> 0.79: [('tag', 'span')]\"]\n",
      "\n",
      "\n",
      "\n",
      "[\"0.101 -> 0.91: [('tag', 'li'), ('class', 'module-list-item')]\"\n",
      " \"0.103 -> 0.91: [('tag', 'li'), ('class', 'module-list-item')]\"\n",
      " \"0.105 -> 0.91: [('tag', 'li'), ('class', 'module-list-item')]\"\n",
      " \"0.107 -> 0.91: [('tag', 'li'), ('class', 'module-list-item')]\"\n",
      " \"0.116 -> 0.112: [('tag', 'li'), ('class', 'module-list-item')]\"\n",
      " \"0.118 -> 0.112: [('tag', 'li'), ('class', 'module-list-item')]\"\n",
      " \"0.92 -> 0.91: [('tag', 'li'), ('class', 'module-list-item')]\"\n",
      " \"0.94 -> 0.91: [('tag', 'li'), ('class', 'module-list-item')]\"\n",
      " \"0.96 -> 0.91: [('tag', 'li'), ('class', 'module-list-item')]\"\n",
      " \"0.99 -> 0.91: [('tag', 'li'), ('class', 'module-list-item')]\"]\n",
      "\n",
      "\n",
      "\n",
      "[\"0.100 -> 0.99: [('tag', 'a'), ('href', 'https://www.ruanyifeng.com/blog/2023/01/weekly-issue-239.html#comment-436688'), ('title', '科技爱好者周刊（第 239 期）：未来两种人会增加'), ('tooltip', '周所众知，统一推送联盟凉了……')]\"\n",
      " \"0.102 -> 0.101: [('tag', 'a'), ('href', 'https://www.ruanyifeng.com/blog/2013/07/rsa_algorithm_part_two.html#comment-436680'), ('title', 'RSA算法原理（二）'), ('tooltip', 'RSA的好处：\\\\n破解难度大\\\\n私钥掌握在自己手里\\\\n坏处：\\\\n加密速度较慢，一个3M的文件能加密十分钟……')]\"\n",
      " \"0.104 -> 0.103: [('tag', 'a'), ('href', 'https://www.ruanyifeng.com/blog/2018/07/json_web_token-tutorial.html#comment-436679'), ('title', 'JSON Web Token 入门教程'), ('tooltip', '\\\\n引用mecode的发言：\\\\n\\\\n有人能解答下下面????这三个问题吗\\\\n受众（audience） 具体指的是什么（最好举例说……')]\"\n",
      " \"0.106 -> 0.105: [('tag', 'a'), ('href', 'https://www.ruanyifeng.com/blog/2022/11/weekly-issue-232.html#comment-436677'), ('title', '科技爱好者周刊（第 232 期）：好用的平面设计软件'), ('tooltip', '本周话题中提到的Adobe Express网址1 会迅速跳转到adobe根 网址2，似乎adobe关闭了express服……')]\"\n",
      " \"0.108 -> 0.107: [('tag', 'a'), ('href', 'https://www.ruanyifeng.com/blog/2020/10/wechat-miniprogram-tutorial-part-three.html#comment-436676'), ('title', '微信小程序入门教程之三：脚本编程'), ('tooltip', '期待更新，逐步跟着你的节奏，写出一个稍微像样的DEMO作品，感谢。比如，带有注册，登录功能的留言板小程序之类。如何和后端……')]\"\n",
      " \"0.109 -> 0.87: [('tag', 'div'), ('class', 'module-categories'), ('class', 'module')]\"\n",
      " \"0.110 -> 0.109: [('tag', 'h2'), ('class', 'module-header')]\"\n",
      " \"0.111 -> 0.109: [('tag', 'div'), ('class', 'module-content')]\"\n",
      " \"0.112 -> 0.111: [('tag', 'ul'), ('class', 'module-list')]\"\n",
      " \"0.113 -> 0.112: [('tag', 'p'), ('class', 'module-list-item')]\"\n",
      " '0.114 -> 0.113: [(\\'tag\\', \\'a\\'), (\\'href\\', \\'https://www.ruanyifeng.com/blog/images/person_shot.jpg\\'), (\\'onclick\\', \"window.open(\\'http://www.ruanyifeng.com/blog/images/person2.jpg\\',\\'popup\\',\\'width=480,height=640,scrollbars=no,resizable=no,toolbar=no,directories=no,location=no,menubar=no,status=no,left=0,top=0\\'); return false\")]'\n",
      " \"0.115 -> 0.114: [('tag', 'img'), ('src', 'https://www.ruanyifeng.com/blog/images/person2_s.jpg'), ('width', '80'), ('height', '106'), ('alt', '个人照片')]\"\n",
      " \"0.117 -> 0.116: [('tag', 'a'), ('href', 'https://www.ruanyifeng.com/blog/archives.html')]\"\n",
      " \"0.119 -> 0.19: [('tag', 'div'), ('id', 'footer')]\"\n",
      " \"0.120 -> 0.119: [('tag', 'div'), ('id', 'footer-inner')]\"\n",
      " \"0.121 -> 0.120: [('tag', 'div'), ('id', 'footer-content')]\"\n",
      " \"0.122 -> 0.121: [('tag', 'section')]\"\n",
      " \"0.124 -> 0.123: [('tag', 'img'), ('src', 'https://www.wangbase.com/blogimg/asset/202001/bg2020013101.jpg'), ('alt', '微信扫描')]\"\n",
      " \"0.126 -> 0.125: [('tag', 'a'), ('title', '微博'), ('href', 'https://weibo.com/ruanyf'), ('target', '_blank')]\"\n",
      " \"0.127 -> 0.125: [('tag', 'a'), ('title', 'Twitter'), ('target', '_blank'), ('href', 'https://twitter.com/ruanyf')]\"\n",
      " \"0.128 -> 0.125: [('tag', 'a'), ('title', 'GitHub'), ('target', '_blank'), ('href', 'https://github.com/ruanyf')]\"\n",
      " \"0.130 -> 0.129: [('tag', 'a'), ('title', '电子邮件'), ('href', '/cdn-cgi/l/email-protection#f38a9a95969d94dd8186929db3949e929a9fdd909c9e'), ('target', '_blank')]\"\n",
      " \"0.131 -> 0.130: [('tag', 'span'), ('class', '__cf_email__'), ('data-cfemail', '334a5a55565d541d4146525d73545e525a5f1d505c5e')]\"\n",
      " \"0.132 -> 0.19: [('tag', 'script'), ('data-cfasync', 'false'), ('src', '/cdn-cgi/scripts/5c5dd728/cloudflare-static/email-decode.min.js')]\"\n",
      " \"0.135 -> 0.19: [('tag', 'script'), ('type', 'text/javascript'), ('src', '/blog/stats.js')]\"\n",
      " \"0.16 -> 0.0: [('tag', 'body'), ('id', 'scrapbook'), ('class', 'mt-main-index'), ('class', 'two-columns')]\"\n",
      " \"0.18 -> 0.16: [('tag', 'div'), ('id', 'container')]\"\n",
      " \"0.19 -> 0.18: [('tag', 'div'), ('id', 'container-inner')]\"\n",
      " \"0.20 -> 0.19: [('tag', 'div'), ('id', 'header')]\"\n",
      " \"0.21 -> 0.20: [('tag', 'div'), ('id', 'header-inner')]\"\n",
      " \"0.22 -> 0.21: [('tag', 'div'), ('id', 'header-content')]\"\n",
      " \"0.23 -> 0.22: [('tag', 'h1'), ('id', 'header-name')]\"\n",
      " \"0.24 -> 0.22: [('tag', 'div'), ('id', 'google_search')]\"\n",
      " \"0.25 -> 0.24: [('tag', 'form'), ('action', 'https://www.baidu.com/s'), ('target', '_blank'), ('method', 'get'), ('id', 'cse-search-box')]\"\n",
      " \"0.26 -> 0.25: [('tag', 'div')]\"\n",
      " \"0.27 -> 0.26: [('tag', 'input'), ('type', 'text'), ('size', '20'), ('name', 'origin'), ('class', 'searchbox'), ('id', 'sbi'), ('value', '')]\"\n",
      " \"0.28 -> 0.26: [('tag', 'input'), ('type', 'hidden'), ('name', 'wd'), ('value', '')]\"\n",
      " '0.29 -> 0.26: [(\\'tag\\', \\'input\\'), (\\'type\\', \\'image\\'), (\\'src\\', \\'/static/themes/theme_scrapbook/images/top_search_submit.gif\\'), (\\'class\\', \\'searchbox_submit\\'), (\\'value\\', \\'\\'), (\\'alt\\', \\'搜索\\'), (\\'name\\', \\'sa\\'), (\\'onclick\\', \"this.form.wd.value = this.form.origin.value + \\' 阮一峰\\'\")]'\n",
      " \"0.30 -> 0.22: [('tag', 'div'), ('id', 'feed_icon')]\"\n",
      " \"0.31 -> 0.30: [('tag', 'a'), ('href', '/feed.html?utm_source='), ('title', '订阅Feed')]\"\n",
      " \"0.32 -> 0.31: [('tag', 'img'), ('src', 'https://wangbase.com/blogimg/asset/202107/bg2021072117.png'), ('alt', ''), ('style', 'border: 0pt none;')]\"\n",
      " \"0.33 -> 0.19: [('tag', 'div'), ('id', 'content')]\"\n",
      " \"0.34 -> 0.33: [('tag', 'div'), ('id', 'content-inner')]\"\n",
      " \"0.35 -> 0.34: [('tag', 'div'), ('id', 'alpha')]\"\n",
      " \"0.36 -> 0.35: [('tag', 'div'), ('id', 'alpha-inner')]\"\n",
      " \"0.37 -> 0.36: [('tag', 'div'), ('id', 'entry-2351'), ('class', 'entry-asset'), ('class', 'asset'), ('class', 'hentry')]\"\n",
      " \"0.38 -> 0.37: [('tag', 'div'), ('class', 'asset-header')]\"\n",
      " \"0.39 -> 0.38: [('tag', 'h2'), ('class', 'asset-name'), ('class', 'entry-title')]\"\n",
      " \"0.40 -> 0.39: [('tag', 'a'), ('href', 'https://www.ruanyifeng.com/blog/2023/01/weekly-issue-239.html'), ('rel', 'bookmark')]\"\n",
      " \"0.41 -> 0.38: [('tag', 'p'), ('id', 'asset-tags')]\"]\n",
      "\n",
      "\n",
      "\n"
     ]
    }
   ],
   "source": [
    "for i in labels_counts[labels_counts.index > -1].index.tolist():\n",
    "    top_label = labels_counts.index.values[i]\n",
    "    top_label\n",
    "\n",
    "    top_nodes_idx = labels[labels == top_label].index.values\n",
    "    top_nodes_idx\n",
    "\n",
    "    nodes = np.array(loader.nodes)[top_nodes_idx]\n",
    "    nodes = sorted(nodes, key=lambda n: n.graph_node_id)\n",
    "#     nodes = list(map(lambda n: f'[{loader.graphs_id_file_map.get(n.graph_id)}] {n.graph_node_id} -> {n.graph_parent_id}: {n.features}', nodes))\n",
    "    nodes = list(map(lambda n: f'{n.graph_node_id} -> {n.graph_parent_id}: {n.features}', nodes))\n",
    "    print(np.array(nodes[:50]))\n",
    "    print('\\n\\n')"
   ]
  },
  {
   "cell_type": "markdown",
   "id": "84d24a2e",
   "metadata": {},
   "source": [
    "## Filter Clusters"
   ]
  },
  {
   "cell_type": "code",
   "execution_count": 112,
   "id": "a5d8c96e",
   "metadata": {},
   "outputs": [
    {
     "data": {
      "text/html": [
       "<div>\n",
       "<style scoped>\n",
       "    .dataframe tbody tr th:only-of-type {\n",
       "        vertical-align: middle;\n",
       "    }\n",
       "\n",
       "    .dataframe tbody tr th {\n",
       "        vertical-align: top;\n",
       "    }\n",
       "\n",
       "    .dataframe thead th {\n",
       "        text-align: right;\n",
       "    }\n",
       "</style>\n",
       "<table border=\"1\" class=\"dataframe\">\n",
       "  <thead>\n",
       "    <tr style=\"text-align: right;\">\n",
       "      <th></th>\n",
       "      <th>id</th>\n",
       "      <th>parent_id</th>\n",
       "      <th>label</th>\n",
       "    </tr>\n",
       "  </thead>\n",
       "  <tbody>\n",
       "    <tr>\n",
       "      <th>0</th>\n",
       "      <td>16</td>\n",
       "      <td>0</td>\n",
       "      <td>-1</td>\n",
       "    </tr>\n",
       "    <tr>\n",
       "      <th>1</th>\n",
       "      <td>17</td>\n",
       "      <td>16</td>\n",
       "      <td>0</td>\n",
       "    </tr>\n",
       "    <tr>\n",
       "      <th>2</th>\n",
       "      <td>18</td>\n",
       "      <td>16</td>\n",
       "      <td>-1</td>\n",
       "    </tr>\n",
       "    <tr>\n",
       "      <th>3</th>\n",
       "      <td>19</td>\n",
       "      <td>18</td>\n",
       "      <td>-1</td>\n",
       "    </tr>\n",
       "    <tr>\n",
       "      <th>4</th>\n",
       "      <td>20</td>\n",
       "      <td>19</td>\n",
       "      <td>-1</td>\n",
       "    </tr>\n",
       "    <tr>\n",
       "      <th>...</th>\n",
       "      <td>...</td>\n",
       "      <td>...</td>\n",
       "      <td>...</td>\n",
       "    </tr>\n",
       "    <tr>\n",
       "      <th>117</th>\n",
       "      <td>133</td>\n",
       "      <td>19</td>\n",
       "      <td>0</td>\n",
       "    </tr>\n",
       "    <tr>\n",
       "      <th>118</th>\n",
       "      <td>134</td>\n",
       "      <td>19</td>\n",
       "      <td>0</td>\n",
       "    </tr>\n",
       "    <tr>\n",
       "      <th>119</th>\n",
       "      <td>135</td>\n",
       "      <td>19</td>\n",
       "      <td>-1</td>\n",
       "    </tr>\n",
       "    <tr>\n",
       "      <th>120</th>\n",
       "      <td>136</td>\n",
       "      <td>19</td>\n",
       "      <td>0</td>\n",
       "    </tr>\n",
       "    <tr>\n",
       "      <th>121</th>\n",
       "      <td>137</td>\n",
       "      <td>16</td>\n",
       "      <td>0</td>\n",
       "    </tr>\n",
       "  </tbody>\n",
       "</table>\n",
       "<p>122 rows × 3 columns</p>\n",
       "</div>"
      ],
      "text/plain": [
       "      id  parent_id  label\n",
       "0     16          0     -1\n",
       "1     17         16      0\n",
       "2     18         16     -1\n",
       "3     19         18     -1\n",
       "4     20         19     -1\n",
       "..   ...        ...    ...\n",
       "117  133         19      0\n",
       "118  134         19      0\n",
       "119  135         19     -1\n",
       "120  136         19      0\n",
       "121  137         16      0\n",
       "\n",
       "[122 rows x 3 columns]"
      ]
     },
     "execution_count": 112,
     "metadata": {},
     "output_type": "execute_result"
    }
   ],
   "source": [
    "df_nodes = pd.DataFrame({\n",
    "    'id': [n.id for n in loader.nodes],\n",
    "    'parent_id': [n.parent_id for n in loader.nodes],\n",
    "    'label': dbscan.labels_,\n",
    "})\n",
    "df_nodes"
   ]
  },
  {
   "cell_type": "code",
   "execution_count": 113,
   "id": "b288bbd1",
   "metadata": {},
   "outputs": [
    {
     "data": {
      "text/html": [
       "<div>\n",
       "<style scoped>\n",
       "    .dataframe tbody tr th:only-of-type {\n",
       "        vertical-align: middle;\n",
       "    }\n",
       "\n",
       "    .dataframe tbody tr th {\n",
       "        vertical-align: top;\n",
       "    }\n",
       "\n",
       "    .dataframe thead th {\n",
       "        text-align: right;\n",
       "    }\n",
       "</style>\n",
       "<table border=\"1\" class=\"dataframe\">\n",
       "  <thead>\n",
       "    <tr style=\"text-align: right;\">\n",
       "      <th></th>\n",
       "      <th>id</th>\n",
       "      <th>parent_id</th>\n",
       "      <th>label</th>\n",
       "    </tr>\n",
       "  </thead>\n",
       "  <tbody>\n",
       "    <tr>\n",
       "      <th>1</th>\n",
       "      <td>17</td>\n",
       "      <td>16</td>\n",
       "      <td>0</td>\n",
       "    </tr>\n",
       "    <tr>\n",
       "      <th>30</th>\n",
       "      <td>46</td>\n",
       "      <td>45</td>\n",
       "      <td>1</td>\n",
       "    </tr>\n",
       "    <tr>\n",
       "      <th>33</th>\n",
       "      <td>49</td>\n",
       "      <td>48</td>\n",
       "      <td>1</td>\n",
       "    </tr>\n",
       "    <tr>\n",
       "      <th>37</th>\n",
       "      <td>53</td>\n",
       "      <td>52</td>\n",
       "      <td>1</td>\n",
       "    </tr>\n",
       "    <tr>\n",
       "      <th>45</th>\n",
       "      <td>61</td>\n",
       "      <td>60</td>\n",
       "      <td>2</td>\n",
       "    </tr>\n",
       "  </tbody>\n",
       "</table>\n",
       "</div>"
      ],
      "text/plain": [
       "    id  parent_id  label\n",
       "1   17         16      0\n",
       "30  46         45      1\n",
       "33  49         48      1\n",
       "37  53         52      1\n",
       "45  61         60      2"
      ]
     },
     "execution_count": 113,
     "metadata": {},
     "output_type": "execute_result"
    }
   ],
   "source": [
    "df_nodes = df_nodes[df_nodes.label != -1]\n",
    "df_nodes.head()"
   ]
  },
  {
   "cell_type": "code",
   "execution_count": 114,
   "id": "693dd3dd",
   "metadata": {},
   "outputs": [
    {
     "data": {
      "text/html": [
       "<div>\n",
       "<style scoped>\n",
       "    .dataframe tbody tr th:only-of-type {\n",
       "        vertical-align: middle;\n",
       "    }\n",
       "\n",
       "    .dataframe tbody tr th {\n",
       "        vertical-align: top;\n",
       "    }\n",
       "\n",
       "    .dataframe thead th {\n",
       "        text-align: right;\n",
       "    }\n",
       "</style>\n",
       "<table border=\"1\" class=\"dataframe\">\n",
       "  <thead>\n",
       "    <tr style=\"text-align: right;\">\n",
       "      <th></th>\n",
       "      <th>label</th>\n",
       "      <th>entropy</th>\n",
       "    </tr>\n",
       "  </thead>\n",
       "  <tbody>\n",
       "    <tr>\n",
       "      <th>0</th>\n",
       "      <td>2</td>\n",
       "      <td>0.000000</td>\n",
       "    </tr>\n",
       "    <tr>\n",
       "      <th>1</th>\n",
       "      <td>4</td>\n",
       "      <td>0.500402</td>\n",
       "    </tr>\n",
       "    <tr>\n",
       "      <th>2</th>\n",
       "      <td>0</td>\n",
       "      <td>0.673012</td>\n",
       "    </tr>\n",
       "    <tr>\n",
       "      <th>3</th>\n",
       "      <td>1</td>\n",
       "      <td>1.242453</td>\n",
       "    </tr>\n",
       "    <tr>\n",
       "      <th>4</th>\n",
       "      <td>3</td>\n",
       "      <td>1.945910</td>\n",
       "    </tr>\n",
       "  </tbody>\n",
       "</table>\n",
       "</div>"
      ],
      "text/plain": [
       "   label   entropy\n",
       "0      2  0.000000\n",
       "1      4  0.500402\n",
       "2      0  0.673012\n",
       "3      1  1.242453\n",
       "4      3  1.945910"
      ]
     },
     "execution_count": 114,
     "metadata": {},
     "output_type": "execute_result"
    }
   ],
   "source": [
    "df_labels = df_nodes \\\n",
    "    .groupby('label')[['parent_id']] \\\n",
    "    .agg(lambda s: entropy(s.value_counts())) \\\n",
    "    .rename(columns={'parent_id': 'entropy'}) \\\n",
    "    .sort_values(by='entropy', ascending=True) \\\n",
    "    .reset_index()\n",
    "df_labels"
   ]
  },
  {
   "cell_type": "code",
   "execution_count": 115,
   "id": "91401b93",
   "metadata": {
    "scrolled": false
   },
   "outputs": [
    {
     "name": "stdout",
     "output_type": "stream",
     "text": [
      "label: 2\n",
      "entropy:    label  entropy\n",
      "0      2      0.0\n",
      "[60 60 60 60 60 60 60 60]\n",
      "[{'id': 61, 'parent_id': 60, 'graph_id': 0, 'features': [('tag', 'li'), ('class', 'module-list-item')]}\n",
      " {'id': 64, 'parent_id': 60, 'graph_id': 0, 'features': [('tag', 'li'), ('class', 'module-list-item')]}\n",
      " {'id': 67, 'parent_id': 60, 'graph_id': 0, 'features': [('tag', 'li'), ('class', 'module-list-item')]}\n",
      " {'id': 70, 'parent_id': 60, 'graph_id': 0, 'features': [('tag', 'li'), ('class', 'module-list-item')]}\n",
      " {'id': 73, 'parent_id': 60, 'graph_id': 0, 'features': [('tag', 'li'), ('class', 'module-list-item')]}\n",
      " {'id': 76, 'parent_id': 60, 'graph_id': 0, 'features': [('tag', 'li'), ('class', 'module-list-item')]}\n",
      " {'id': 79, 'parent_id': 60, 'graph_id': 0, 'features': [('tag', 'li'), ('class', 'module-list-item')]}\n",
      " {'id': 82, 'parent_id': 60, 'graph_id': 0, 'features': [('tag', 'li'), ('class', 'module-list-item')]}]\n",
      "\n",
      "\n"
     ]
    }
   ],
   "source": [
    "for label in df_labels[df_labels.entropy < 0.5].label.tolist():\n",
    "    # mask\n",
    "    mask = df_nodes.label == label\n",
    "\n",
    "    # entropy\n",
    "    arr = df_nodes[mask].parent_id\n",
    "    prob = arr.value_counts(normalize=True)\n",
    "    ent = df_labels[df_labels.label == label]\n",
    "\n",
    "    # nodes\n",
    "    nodes_ids = df_nodes[mask].id.values\n",
    "    nodes = np.array([n for n in loader.nodes if n.id in nodes_ids])\n",
    "\n",
    "    # results\n",
    "    print(f'label: {label}')\n",
    "    print(f'entropy: {ent}')\n",
    "    print(df_nodes[mask].parent_id.values)\n",
    "    print(nodes)\n",
    "    print('\\n')"
   ]
  },
  {
   "cell_type": "code",
   "execution_count": null,
   "id": "6d24957c",
   "metadata": {},
   "outputs": [],
   "source": []
  }
 ],
 "metadata": {
  "kernelspec": {
   "display_name": "Python 3 (ipykernel)",
   "language": "python",
   "name": "python3"
  },
  "language_info": {
   "codemirror_mode": {
    "name": "ipython",
    "version": 3
   },
   "file_extension": ".py",
   "mimetype": "text/x-python",
   "name": "python",
   "nbconvert_exporter": "python",
   "pygments_lexer": "ipython3",
   "version": "3.10.9"
  }
 },
 "nbformat": 4,
 "nbformat_minor": 5
}
