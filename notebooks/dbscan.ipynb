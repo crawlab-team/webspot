{
 "cells": [
  {
   "cell_type": "code",
   "execution_count": 1,
   "id": "9a33f506",
   "metadata": {},
   "outputs": [],
   "source": [
    "import init\n",
    "\n",
    "import pandas as pd\n",
    "import numpy as np\n",
    "from sklearn.cluster import DBSCAN\n",
    "from sklearn.preprocessing import normalize\n",
    "from scipy.stats import entropy\n",
    "\n",
    "from dataset.graph_loader import GraphLoader"
   ]
  },
  {
   "cell_type": "code",
   "execution_count": 178,
   "id": "cf3162a7",
   "metadata": {},
   "outputs": [
    {
     "name": "stdout",
     "output_type": "stream",
     "text": [
      "Graph(num_nodes=555, num_edges=555,\n",
      "      ndata_schemes={'feat': Scheme(shape=(233,), dtype=torch.float32)}\n",
      "      edata_schemes={})\n"
     ]
    },
    {
     "name": "stderr",
     "output_type": "stream",
     "text": [
      "/Users/marvzhang/projects/tikazyq/auto-html/venv/lib/python3.10/site-packages/dgl/heterograph.py:72: DGLWarning: Recommend creating graphs by `dgl.graph(data)` instead of `dgl.DGLGraph(data)`.\n",
      "  dgl_warning('Recommend creating graphs by `dgl.graph(data)`'\n",
      "/Users/marvzhang/projects/tikazyq/auto-html/venv/lib/python3.10/site-packages/sklearn/preprocessing/_label.py:116: DataConversionWarning: A column-vector y was passed when a 1d array was expected. Please change the shape of y to (n_samples, ), for example using ravel().\n",
      "  y = column_or_1d(y, warn=True)\n"
     ]
    }
   ],
   "source": [
    "loader = GraphLoader(\n",
    "#     data_path='/Users/marvzhang/projects/tikazyq/auto-html/data/quotes.toscrape.com/json/http___quotes_toscrape_com_.json', \n",
    "#     data_path='/Users/marvzhang/projects/tikazyq/auto-html/data/ssr1.scrape.center/json/https___ssr1_scrape_center.json', \n",
    "    data_path='/Users/marvzhang/projects/tikazyq/auto-html/data/docs.scrapy.org/json/https___docs_scrapy_org_en_latest_.json', \n",
    "    embed_walk_length=3,\n",
    ")\n",
    "\n",
    "loader.run()"
   ]
  },
  {
   "cell_type": "code",
   "execution_count": 179,
   "id": "a473625b",
   "metadata": {},
   "outputs": [
    {
     "data": {
      "text/plain": [
       "tensor([[280,   0, 412, 313],\n",
       "        [291, 280,   0, 412],\n",
       "        [302, 291, 280,   0],\n",
       "        ...,\n",
       "        [512, 510, 506, 428],\n",
       "        [513, 280,   0, 412],\n",
       "        [514, 280,   0, 412]])"
      ]
     },
     "execution_count": 179,
     "metadata": {},
     "output_type": "execute_result"
    }
   ],
   "source": [
    "loader.nodes_embedded_tensor"
   ]
  },
  {
   "cell_type": "code",
   "execution_count": 180,
   "id": "44a41615",
   "metadata": {},
   "outputs": [
    {
     "data": {
      "text/plain": [
       "tensor([390, 368, 357, 324])"
      ]
     },
     "execution_count": 180,
     "metadata": {},
     "output_type": "execute_result"
    }
   ],
   "source": [
    "idx = loader.nodes_embedded_tensor[10]\n",
    "idx"
   ]
  },
  {
   "cell_type": "code",
   "execution_count": 181,
   "id": "e136a62a",
   "metadata": {},
   "outputs": [
    {
     "data": {
      "text/plain": [
       "tensor([[0., 0., 0., 0., 0., 0., 0., 0., 0., 0., 0., 0., 0., 0., 0., 0., 0., 0.,\n",
       "         0., 0., 0., 0., 0., 0., 0., 0., 0., 0., 0., 0., 0., 0., 0., 0., 0., 0.,\n",
       "         0., 0., 0., 0., 0., 0., 0., 0., 0., 0., 0., 0., 0., 0., 0., 0., 0., 0.,\n",
       "         0., 0., 0., 0., 0., 0., 0., 0., 0., 0., 0., 0., 0., 0., 0., 0., 0., 0.,\n",
       "         0., 0., 0., 0., 0., 0., 0., 0., 0., 0., 0., 0., 0., 0., 0., 0., 0., 0.,\n",
       "         0., 0., 0., 0., 0., 0., 0., 0., 0., 0., 0., 0., 0., 0., 0., 0., 0., 0.,\n",
       "         0., 0., 0., 0., 0., 0., 0., 0., 0., 0., 0., 0., 0., 0., 0., 0., 0., 0.,\n",
       "         0., 0., 0., 0., 0., 0., 0., 0., 0., 0., 0., 0., 0., 0., 0., 0., 0., 0.,\n",
       "         0., 0., 0., 0., 0., 0., 0., 0., 0., 0., 0., 0., 0., 0., 0., 0., 0., 0.,\n",
       "         0., 0., 0., 0., 0., 0., 0., 0., 0., 0., 0., 0., 0., 0., 0., 0., 0., 0.,\n",
       "         0., 0., 0., 0., 0., 0., 0., 0., 0., 0., 0., 0., 0., 0., 0., 0., 0., 0.,\n",
       "         0., 0., 0., 0., 0., 0., 0., 0., 0., 0., 0., 0., 0., 0., 0., 0., 1., 0.,\n",
       "         0., 0., 0., 0., 0., 0., 0., 0., 0., 0., 0., 0., 0., 0., 0., 0., 0.],\n",
       "        [0., 0., 0., 0., 0., 0., 0., 0., 0., 0., 0., 0., 0., 0., 0., 0., 0., 0.,\n",
       "         0., 0., 0., 0., 0., 0., 0., 0., 0., 0., 0., 0., 0., 0., 0., 0., 0., 0.,\n",
       "         0., 0., 0., 0., 0., 0., 0., 0., 0., 0., 0., 0., 0., 0., 0., 0., 0., 0.,\n",
       "         0., 0., 0., 0., 0., 0., 0., 0., 0., 0., 0., 0., 0., 0., 0., 0., 0., 0.,\n",
       "         0., 0., 0., 0., 0., 0., 0., 0., 0., 0., 0., 0., 0., 0., 0., 0., 0., 0.,\n",
       "         0., 0., 0., 0., 0., 0., 0., 0., 0., 0., 0., 0., 0., 0., 0., 0., 0., 0.,\n",
       "         0., 0., 0., 0., 0., 0., 0., 0., 0., 0., 0., 0., 0., 0., 0., 0., 0., 0.,\n",
       "         0., 0., 0., 0., 0., 0., 0., 0., 0., 0., 0., 0., 0., 0., 0., 0., 0., 0.,\n",
       "         0., 0., 0., 0., 0., 0., 0., 0., 0., 0., 0., 0., 0., 0., 0., 0., 0., 0.,\n",
       "         0., 0., 0., 0., 0., 0., 0., 0., 0., 0., 0., 0., 0., 0., 0., 0., 0., 0.,\n",
       "         0., 0., 0., 0., 0., 0., 0., 0., 0., 0., 0., 0., 0., 0., 0., 0., 0., 0.,\n",
       "         0., 0., 0., 0., 0., 0., 0., 0., 0., 1., 0., 0., 0., 0., 0., 0., 0., 0.,\n",
       "         0., 0., 0., 0., 0., 0., 0., 0., 0., 0., 0., 0., 0., 0., 0., 0., 0.],\n",
       "        [0., 0., 0., 0., 0., 0., 0., 0., 0., 0., 0., 0., 0., 0., 0., 0., 0., 0.,\n",
       "         0., 0., 0., 0., 0., 0., 0., 0., 0., 0., 0., 0., 0., 0., 0., 0., 0., 0.,\n",
       "         0., 0., 0., 0., 0., 0., 0., 0., 0., 0., 0., 0., 0., 0., 0., 0., 0., 0.,\n",
       "         0., 0., 0., 0., 0., 0., 0., 0., 0., 0., 0., 0., 0., 0., 0., 0., 0., 0.,\n",
       "         0., 0., 0., 0., 0., 0., 0., 0., 0., 0., 0., 0., 0., 0., 0., 0., 0., 0.,\n",
       "         0., 0., 0., 0., 0., 0., 0., 0., 0., 0., 0., 0., 0., 0., 0., 0., 0., 0.,\n",
       "         0., 0., 0., 0., 0., 0., 0., 0., 0., 0., 0., 0., 0., 0., 0., 0., 0., 0.,\n",
       "         0., 0., 0., 0., 0., 0., 0., 0., 0., 0., 0., 0., 0., 0., 0., 0., 0., 0.,\n",
       "         0., 0., 0., 0., 0., 0., 0., 0., 0., 0., 0., 0., 0., 0., 0., 0., 0., 0.,\n",
       "         0., 0., 0., 0., 0., 0., 0., 0., 0., 0., 0., 0., 0., 0., 0., 0., 0., 0.,\n",
       "         0., 0., 0., 0., 0., 0., 0., 0., 0., 0., 0., 0., 0., 0., 0., 0., 0., 0.,\n",
       "         0., 0., 0., 0., 0., 0., 0., 0., 0., 0., 0., 0., 0., 0., 0., 0., 0., 0.,\n",
       "         0., 0., 0., 0., 1., 0., 0., 0., 0., 0., 0., 0., 0., 0., 0., 0., 0.],\n",
       "        [0., 0., 0., 0., 0., 0., 0., 0., 0., 0., 0., 0., 0., 0., 0., 0., 0., 0.,\n",
       "         0., 0., 0., 0., 0., 0., 0., 0., 0., 0., 0., 1., 0., 0., 0., 0., 0., 0.,\n",
       "         1., 0., 0., 0., 0., 0., 0., 0., 0., 0., 0., 0., 0., 0., 0., 0., 0., 0.,\n",
       "         0., 0., 0., 0., 0., 0., 0., 0., 0., 0., 0., 0., 0., 0., 0., 0., 0., 0.,\n",
       "         0., 0., 0., 0., 0., 0., 0., 0., 0., 0., 0., 0., 0., 0., 0., 0., 0., 0.,\n",
       "         0., 0., 0., 0., 0., 0., 0., 0., 0., 0., 0., 0., 0., 0., 0., 0., 0., 0.,\n",
       "         0., 0., 0., 0., 0., 0., 0., 0., 0., 0., 0., 0., 0., 0., 0., 0., 0., 0.,\n",
       "         0., 0., 0., 0., 0., 0., 0., 0., 0., 0., 0., 0., 0., 0., 0., 0., 0., 0.,\n",
       "         0., 0., 0., 0., 0., 1., 0., 0., 0., 0., 0., 0., 0., 0., 0., 0., 0., 0.,\n",
       "         0., 0., 0., 0., 0., 0., 0., 0., 0., 0., 0., 0., 0., 0., 0., 0., 0., 0.,\n",
       "         0., 0., 0., 0., 0., 0., 0., 0., 0., 0., 0., 0., 0., 0., 0., 0., 0., 0.,\n",
       "         0., 0., 0., 0., 0., 0., 1., 0., 0., 0., 0., 0., 0., 0., 0., 0., 0., 0.,\n",
       "         0., 0., 0., 0., 0., 0., 0., 0., 0., 0., 0., 0., 0., 0., 0., 0., 0.]],\n",
       "       grad_fn=<IndexBackward0>)"
      ]
     },
     "execution_count": 181,
     "metadata": {},
     "output_type": "execute_result"
    }
   ],
   "source": [
    "loader.nodes_features_tensor[idx]"
   ]
  },
  {
   "cell_type": "code",
   "execution_count": 182,
   "id": "08070fd8",
   "metadata": {},
   "outputs": [
    {
     "data": {
      "text/plain": [
       "torch.Size([4, 233])"
      ]
     },
     "execution_count": 182,
     "metadata": {},
     "output_type": "execute_result"
    }
   ],
   "source": [
    "loader.nodes_features_tensor[idx].shape"
   ]
  },
  {
   "cell_type": "code",
   "execution_count": 183,
   "id": "a90bce0a",
   "metadata": {},
   "outputs": [
    {
     "data": {
      "text/plain": [
       "torch.Size([555, 4, 233])"
      ]
     },
     "execution_count": 183,
     "metadata": {},
     "output_type": "execute_result"
    }
   ],
   "source": [
    "loader.nodes_features_tensor[loader.nodes_embedded_tensor].shape"
   ]
  },
  {
   "cell_type": "code",
   "execution_count": 184,
   "id": "13da0129",
   "metadata": {},
   "outputs": [
    {
     "data": {
      "text/plain": [
       "tensor([[[0., 0., 0.,  ..., 0., 0., 0.],\n",
       "         [0., 0., 0.,  ..., 0., 0., 0.],\n",
       "         [0., 0., 0.,  ..., 0., 0., 0.],\n",
       "         [0., 0., 0.,  ..., 0., 0., 0.]],\n",
       "\n",
       "        [[0., 0., 0.,  ..., 0., 0., 0.],\n",
       "         [0., 0., 0.,  ..., 0., 0., 0.],\n",
       "         [0., 0., 0.,  ..., 0., 0., 0.],\n",
       "         [0., 0., 0.,  ..., 0., 0., 0.]],\n",
       "\n",
       "        [[0., 0., 0.,  ..., 0., 0., 0.],\n",
       "         [0., 0., 0.,  ..., 0., 0., 0.],\n",
       "         [0., 0., 0.,  ..., 0., 0., 0.],\n",
       "         [0., 0., 0.,  ..., 0., 0., 0.]],\n",
       "\n",
       "        ...,\n",
       "\n",
       "        [[0., 0., 0.,  ..., 0., 0., 0.],\n",
       "         [0., 0., 0.,  ..., 0., 0., 0.],\n",
       "         [0., 0., 0.,  ..., 0., 0., 0.],\n",
       "         [0., 0., 0.,  ..., 0., 0., 0.]],\n",
       "\n",
       "        [[0., 0., 0.,  ..., 0., 0., 0.],\n",
       "         [0., 0., 0.,  ..., 0., 0., 0.],\n",
       "         [0., 0., 0.,  ..., 0., 0., 0.],\n",
       "         [0., 0., 0.,  ..., 0., 0., 0.]],\n",
       "\n",
       "        [[0., 0., 0.,  ..., 0., 0., 0.],\n",
       "         [0., 0., 0.,  ..., 0., 0., 0.],\n",
       "         [0., 0., 0.,  ..., 0., 0., 0.],\n",
       "         [0., 0., 0.,  ..., 0., 0., 0.]]], grad_fn=<IndexBackward0>)"
      ]
     },
     "execution_count": 184,
     "metadata": {},
     "output_type": "execute_result"
    }
   ],
   "source": [
    "loader.nodes_features_tensor[loader.nodes_embedded_tensor]"
   ]
  },
  {
   "cell_type": "markdown",
   "id": "3cab251d",
   "metadata": {},
   "source": [
    "## Nodes Features (tags + attributes)"
   ]
  },
  {
   "cell_type": "code",
   "execution_count": 185,
   "id": "2bbab532",
   "metadata": {},
   "outputs": [
    {
     "data": {
      "text/plain": [
       "tensor([[0., 0., 0.,  ..., 0., 0., 0.],\n",
       "        [0., 0., 0.,  ..., 0., 0., 0.],\n",
       "        [0., 0., 0.,  ..., 0., 0., 0.],\n",
       "        ...,\n",
       "        [0., 0., 0.,  ..., 0., 0., 0.],\n",
       "        [0., 0., 0.,  ..., 0., 0., 0.],\n",
       "        [0., 0., 0.,  ..., 1., 0., 0.]], requires_grad=True)"
      ]
     },
     "execution_count": 185,
     "metadata": {},
     "output_type": "execute_result"
    }
   ],
   "source": [
    "feat_tags_attrs = loader.nodes_features_tensor\n",
    "feat_tags_attrs"
   ]
  },
  {
   "cell_type": "code",
   "execution_count": 186,
   "id": "312a6a85",
   "metadata": {},
   "outputs": [
    {
     "data": {
      "text/plain": [
       "array([[0., 0., 0., ..., 0., 0., 0.],\n",
       "       [0., 0., 0., ..., 0., 0., 0.],\n",
       "       [0., 0., 0., ..., 0., 0., 0.],\n",
       "       ...,\n",
       "       [0., 0., 0., ..., 0., 0., 0.],\n",
       "       [0., 0., 0., ..., 0., 0., 0.],\n",
       "       [0., 0., 0., ..., 1., 0., 0.]], dtype=float32)"
      ]
     },
     "execution_count": 186,
     "metadata": {},
     "output_type": "execute_result"
    }
   ],
   "source": [
    "X_feat_tags_attrs = feat_tags_attrs.detach().numpy()\n",
    "X_feat_tags_attrs"
   ]
  },
  {
   "cell_type": "code",
   "execution_count": 187,
   "id": "03c76742",
   "metadata": {},
   "outputs": [
    {
     "data": {
      "text/plain": [
       "array([[0. , 0. , 0. , ..., 0. , 0. , 0. ],\n",
       "       [0. , 0. , 0. , ..., 0. , 0. , 0. ],\n",
       "       [0. , 0. , 0. , ..., 0. , 0. , 0. ],\n",
       "       ...,\n",
       "       [0. , 0. , 0. , ..., 0. , 0. , 0. ],\n",
       "       [0. , 0. , 0. , ..., 0. , 0. , 0. ],\n",
       "       [0. , 0. , 0. , ..., 0.5, 0. , 0. ]], dtype=float32)"
      ]
     },
     "execution_count": 187,
     "metadata": {},
     "output_type": "execute_result"
    }
   ],
   "source": [
    "X_feat_tags_attrs = normalize(X_feat_tags_attrs, norm='l1', axis=1)\n",
    "X_feat_tags_attrs"
   ]
  },
  {
   "cell_type": "markdown",
   "id": "fe26cbf1",
   "metadata": {},
   "source": [
    "## Nodes Features (node2vec)"
   ]
  },
  {
   "cell_type": "code",
   "execution_count": 188,
   "id": "5b1d70f0",
   "metadata": {},
   "outputs": [
    {
     "data": {
      "text/plain": [
       "torch.Size([555, 233])"
      ]
     },
     "execution_count": 188,
     "metadata": {},
     "output_type": "execute_result"
    }
   ],
   "source": [
    "feat_node2vec = loader.nodes_features_tensor[loader.nodes_embedded_tensor].sum(dim=1)\n",
    "feat_node2vec.shape"
   ]
  },
  {
   "cell_type": "code",
   "execution_count": 189,
   "id": "15749b25",
   "metadata": {},
   "outputs": [
    {
     "data": {
      "text/plain": [
       "(555, 233)"
      ]
     },
     "execution_count": 189,
     "metadata": {},
     "output_type": "execute_result"
    }
   ],
   "source": [
    "X_feat_node2vec = feat_node2vec.detach().numpy()\n",
    "X_feat_node2vec.shape"
   ]
  },
  {
   "cell_type": "code",
   "execution_count": 190,
   "id": "85dd3757",
   "metadata": {},
   "outputs": [
    {
     "data": {
      "text/plain": [
       "array([[0., 0., 0., ..., 0., 0., 0.],\n",
       "       [0., 0., 0., ..., 0., 0., 0.],\n",
       "       [0., 0., 0., ..., 0., 0., 0.],\n",
       "       ...,\n",
       "       [0., 0., 0., ..., 0., 0., 0.],\n",
       "       [0., 0., 0., ..., 0., 0., 0.],\n",
       "       [0., 0., 0., ..., 0., 0., 0.]], dtype=float32)"
      ]
     },
     "execution_count": 190,
     "metadata": {},
     "output_type": "execute_result"
    }
   ],
   "source": [
    "X_feat_node2vec = normalize(X_feat_node2vec, norm='l1', axis=1)\n",
    "X_feat_node2vec"
   ]
  },
  {
   "cell_type": "markdown",
   "id": "0b2f56f6",
   "metadata": {},
   "source": [
    "## Nodes Features (all: tags + attributes + node2vec)"
   ]
  },
  {
   "cell_type": "code",
   "execution_count": 191,
   "id": "7883bf32",
   "metadata": {},
   "outputs": [
    {
     "data": {
      "text/plain": [
       "(555, 466)"
      ]
     },
     "execution_count": 191,
     "metadata": {},
     "output_type": "execute_result"
    }
   ],
   "source": [
    "X = np.concatenate((X_feat_tags_attrs, X_feat_node2vec), axis=1)\n",
    "X.shape"
   ]
  },
  {
   "cell_type": "code",
   "execution_count": 192,
   "id": "384e69b3",
   "metadata": {},
   "outputs": [
    {
     "data": {
      "text/plain": [
       "array([[0., 0., 0., ..., 0., 0., 0.],\n",
       "       [0., 0., 0., ..., 0., 0., 0.],\n",
       "       [0., 0., 0., ..., 0., 0., 0.],\n",
       "       ...,\n",
       "       [0., 0., 0., ..., 0., 0., 0.],\n",
       "       [0., 0., 0., ..., 0., 0., 0.],\n",
       "       [0., 0., 0., ..., 0., 0., 0.]], dtype=float32)"
      ]
     },
     "execution_count": 192,
     "metadata": {},
     "output_type": "execute_result"
    }
   ],
   "source": [
    "X = normalize(X, norm='l2', axis=1)\n",
    "X"
   ]
  },
  {
   "cell_type": "markdown",
   "id": "1c7fc5da",
   "metadata": {},
   "source": [
    "## DBSCAN Clustering"
   ]
  },
  {
   "cell_type": "code",
   "execution_count": 193,
   "id": "03b86ec2",
   "metadata": {},
   "outputs": [
    {
     "data": {
      "text/html": [
       "<style>#sk-container-id-4 {color: black;background-color: white;}#sk-container-id-4 pre{padding: 0;}#sk-container-id-4 div.sk-toggleable {background-color: white;}#sk-container-id-4 label.sk-toggleable__label {cursor: pointer;display: block;width: 100%;margin-bottom: 0;padding: 0.3em;box-sizing: border-box;text-align: center;}#sk-container-id-4 label.sk-toggleable__label-arrow:before {content: \"▸\";float: left;margin-right: 0.25em;color: #696969;}#sk-container-id-4 label.sk-toggleable__label-arrow:hover:before {color: black;}#sk-container-id-4 div.sk-estimator:hover label.sk-toggleable__label-arrow:before {color: black;}#sk-container-id-4 div.sk-toggleable__content {max-height: 0;max-width: 0;overflow: hidden;text-align: left;background-color: #f0f8ff;}#sk-container-id-4 div.sk-toggleable__content pre {margin: 0.2em;color: black;border-radius: 0.25em;background-color: #f0f8ff;}#sk-container-id-4 input.sk-toggleable__control:checked~div.sk-toggleable__content {max-height: 200px;max-width: 100%;overflow: auto;}#sk-container-id-4 input.sk-toggleable__control:checked~label.sk-toggleable__label-arrow:before {content: \"▾\";}#sk-container-id-4 div.sk-estimator input.sk-toggleable__control:checked~label.sk-toggleable__label {background-color: #d4ebff;}#sk-container-id-4 div.sk-label input.sk-toggleable__control:checked~label.sk-toggleable__label {background-color: #d4ebff;}#sk-container-id-4 input.sk-hidden--visually {border: 0;clip: rect(1px 1px 1px 1px);clip: rect(1px, 1px, 1px, 1px);height: 1px;margin: -1px;overflow: hidden;padding: 0;position: absolute;width: 1px;}#sk-container-id-4 div.sk-estimator {font-family: monospace;background-color: #f0f8ff;border: 1px dotted black;border-radius: 0.25em;box-sizing: border-box;margin-bottom: 0.5em;}#sk-container-id-4 div.sk-estimator:hover {background-color: #d4ebff;}#sk-container-id-4 div.sk-parallel-item::after {content: \"\";width: 100%;border-bottom: 1px solid gray;flex-grow: 1;}#sk-container-id-4 div.sk-label:hover label.sk-toggleable__label {background-color: #d4ebff;}#sk-container-id-4 div.sk-serial::before {content: \"\";position: absolute;border-left: 1px solid gray;box-sizing: border-box;top: 0;bottom: 0;left: 50%;z-index: 0;}#sk-container-id-4 div.sk-serial {display: flex;flex-direction: column;align-items: center;background-color: white;padding-right: 0.2em;padding-left: 0.2em;position: relative;}#sk-container-id-4 div.sk-item {position: relative;z-index: 1;}#sk-container-id-4 div.sk-parallel {display: flex;align-items: stretch;justify-content: center;background-color: white;position: relative;}#sk-container-id-4 div.sk-item::before, #sk-container-id-4 div.sk-parallel-item::before {content: \"\";position: absolute;border-left: 1px solid gray;box-sizing: border-box;top: 0;bottom: 0;left: 50%;z-index: -1;}#sk-container-id-4 div.sk-parallel-item {display: flex;flex-direction: column;z-index: 1;position: relative;background-color: white;}#sk-container-id-4 div.sk-parallel-item:first-child::after {align-self: flex-end;width: 50%;}#sk-container-id-4 div.sk-parallel-item:last-child::after {align-self: flex-start;width: 50%;}#sk-container-id-4 div.sk-parallel-item:only-child::after {width: 0;}#sk-container-id-4 div.sk-dashed-wrapped {border: 1px dashed gray;margin: 0 0.4em 0.5em 0.4em;box-sizing: border-box;padding-bottom: 0.4em;background-color: white;}#sk-container-id-4 div.sk-label label {font-family: monospace;font-weight: bold;display: inline-block;line-height: 1.2em;}#sk-container-id-4 div.sk-label-container {text-align: center;}#sk-container-id-4 div.sk-container {/* jupyter's `normalize.less` sets `[hidden] { display: none; }` but bootstrap.min.css set `[hidden] { display: none !important; }` so we also need the `!important` here to be able to override the default hidden behavior on the sphinx rendered scikit-learn.org. See: https://github.com/scikit-learn/scikit-learn/issues/21755 */display: inline-block !important;position: relative;}#sk-container-id-4 div.sk-text-repr-fallback {display: none;}</style><div id=\"sk-container-id-4\" class=\"sk-top-container\"><div class=\"sk-text-repr-fallback\"><pre>DBSCAN()</pre><b>In a Jupyter environment, please rerun this cell to show the HTML representation or trust the notebook. <br />On GitHub, the HTML representation is unable to render, please try loading this page with nbviewer.org.</b></div><div class=\"sk-container\" hidden><div class=\"sk-item\"><div class=\"sk-estimator sk-toggleable\"><input class=\"sk-toggleable__control sk-hidden--visually\" id=\"sk-estimator-id-4\" type=\"checkbox\" checked><label for=\"sk-estimator-id-4\" class=\"sk-toggleable__label sk-toggleable__label-arrow\">DBSCAN</label><div class=\"sk-toggleable__content\"><pre>DBSCAN()</pre></div></div></div></div></div>"
      ],
      "text/plain": [
       "DBSCAN()"
      ]
     },
     "execution_count": 193,
     "metadata": {},
     "output_type": "execute_result"
    }
   ],
   "source": [
    "dbscan = DBSCAN()\n",
    "dbscan.fit(X)"
   ]
  },
  {
   "cell_type": "code",
   "execution_count": 194,
   "id": "8c9419e6",
   "metadata": {},
   "outputs": [
    {
     "data": {
      "text/plain": [
       "11    82\n",
       "5     58\n",
       "10    50\n",
       "7     48\n",
       "3     47\n",
       "4     10\n",
       "6      7\n",
       "0      6\n",
       "2      6\n",
       "8      6\n",
       "9      6\n",
       "1      5\n",
       "12     5\n",
       "dtype: int64"
      ]
     },
     "execution_count": 194,
     "metadata": {},
     "output_type": "execute_result"
    }
   ],
   "source": [
    "labels = pd.Series(dbscan.labels_)\n",
    "labels_counts = labels.value_counts()\n",
    "labels_counts[labels_counts.index > -1]"
   ]
  },
  {
   "cell_type": "code",
   "execution_count": 195,
   "id": "a72e8101",
   "metadata": {},
   "outputs": [
    {
     "name": "stdout",
     "output_type": "stream",
     "text": [
      "[\"0.224 -> 0.220: [('tag', 'dl'), ('class', 'simple')]\"\n",
      " \"0.250 -> 0.245: [('tag', 'dl'), ('class', 'simple')]\"\n",
      " \"0.317 -> 0.313: [('tag', 'dl'), ('class', 'simple')]\"\n",
      " \"0.342 -> 0.338: [('tag', 'dl'), ('class', 'simple')]\"\n",
      " \"0.431 -> 0.426: [('tag', 'dl'), ('class', 'simple')]\"\n",
      " \"0.481 -> 0.477: [('tag', 'dl'), ('class', 'simple')]\"]\n",
      "\n",
      "\n",
      "\n",
      "[\"0.103 -> 0.102: [('tag', 'li'), ('class', 'toctree-l1')]\"\n",
      " \"0.105 -> 0.102: [('tag', 'li'), ('class', 'toctree-l1')]\"\n",
      " \"0.107 -> 0.102: [('tag', 'li'), ('class', 'toctree-l1')]\"\n",
      " \"0.109 -> 0.102: [('tag', 'li'), ('class', 'toctree-l1')]\"\n",
      " \"0.111 -> 0.102: [('tag', 'li'), ('class', 'toctree-l1')]\"\n",
      " \"0.113 -> 0.102: [('tag', 'li'), ('class', 'toctree-l1')]\"\n",
      " \"0.115 -> 0.102: [('tag', 'li'), ('class', 'toctree-l1')]\"\n",
      " \"0.117 -> 0.102: [('tag', 'li'), ('class', 'toctree-l1')]\"\n",
      " \"0.119 -> 0.102: [('tag', 'li'), ('class', 'toctree-l1')]\"\n",
      " \"0.121 -> 0.102: [('tag', 'li'), ('class', 'toctree-l1')]\"\n",
      " \"0.123 -> 0.102: [('tag', 'li'), ('class', 'toctree-l1')]\"\n",
      " \"0.125 -> 0.102: [('tag', 'li'), ('class', 'toctree-l1')]\"\n",
      " \"0.127 -> 0.102: [('tag', 'li'), ('class', 'toctree-l1')]\"\n",
      " \"0.129 -> 0.102: [('tag', 'li'), ('class', 'toctree-l1')]\"\n",
      " \"0.131 -> 0.102: [('tag', 'li'), ('class', 'toctree-l1')]\"\n",
      " \"0.136 -> 0.135: [('tag', 'li'), ('class', 'toctree-l1')]\"\n",
      " \"0.138 -> 0.135: [('tag', 'li'), ('class', 'toctree-l1')]\"\n",
      " \"0.140 -> 0.135: [('tag', 'li'), ('class', 'toctree-l1')]\"\n",
      " \"0.142 -> 0.135: [('tag', 'li'), ('class', 'toctree-l1')]\"\n",
      " \"0.144 -> 0.135: [('tag', 'li'), ('class', 'toctree-l1')]\"\n",
      " \"0.146 -> 0.135: [('tag', 'li'), ('class', 'toctree-l1')]\"\n",
      " \"0.148 -> 0.135: [('tag', 'li'), ('class', 'toctree-l1')]\"\n",
      " \"0.150 -> 0.135: [('tag', 'li'), ('class', 'toctree-l1')]\"\n",
      " \"0.152 -> 0.135: [('tag', 'li'), ('class', 'toctree-l1')]\"\n",
      " \"0.157 -> 0.156: [('tag', 'li'), ('class', 'toctree-l1')]\"\n",
      " \"0.159 -> 0.156: [('tag', 'li'), ('class', 'toctree-l1')]\"\n",
      " \"0.161 -> 0.156: [('tag', 'li'), ('class', 'toctree-l1')]\"\n",
      " \"0.54 -> 0.53: [('tag', 'li'), ('class', 'toctree-l1')]\"\n",
      " \"0.56 -> 0.53: [('tag', 'li'), ('class', 'toctree-l1')]\"\n",
      " \"0.58 -> 0.53: [('tag', 'li'), ('class', 'toctree-l1')]\"\n",
      " \"0.60 -> 0.53: [('tag', 'li'), ('class', 'toctree-l1')]\"\n",
      " \"0.65 -> 0.64: [('tag', 'li'), ('class', 'toctree-l1')]\"\n",
      " \"0.67 -> 0.64: [('tag', 'li'), ('class', 'toctree-l1')]\"\n",
      " \"0.69 -> 0.64: [('tag', 'li'), ('class', 'toctree-l1')]\"\n",
      " \"0.71 -> 0.64: [('tag', 'li'), ('class', 'toctree-l1')]\"\n",
      " \"0.73 -> 0.64: [('tag', 'li'), ('class', 'toctree-l1')]\"\n",
      " \"0.75 -> 0.64: [('tag', 'li'), ('class', 'toctree-l1')]\"\n",
      " \"0.77 -> 0.64: [('tag', 'li'), ('class', 'toctree-l1')]\"\n",
      " \"0.79 -> 0.64: [('tag', 'li'), ('class', 'toctree-l1')]\"\n",
      " \"0.81 -> 0.64: [('tag', 'li'), ('class', 'toctree-l1')]\"\n",
      " \"0.83 -> 0.64: [('tag', 'li'), ('class', 'toctree-l1')]\"\n",
      " \"0.85 -> 0.64: [('tag', 'li'), ('class', 'toctree-l1')]\"\n",
      " \"0.87 -> 0.64: [('tag', 'li'), ('class', 'toctree-l1')]\"\n",
      " \"0.92 -> 0.91: [('tag', 'li'), ('class', 'toctree-l1')]\"\n",
      " \"0.94 -> 0.91: [('tag', 'li'), ('class', 'toctree-l1')]\"\n",
      " \"0.96 -> 0.91: [('tag', 'li'), ('class', 'toctree-l1')]\"\n",
      " \"0.98 -> 0.91: [('tag', 'li'), ('class', 'toctree-l1')]\"]\n",
      "\n",
      "\n",
      "\n",
      "[\"0.223 -> 0.220: [('tag', 'div'), ('class', 'toctree-wrapper'), ('class', 'compound')]\"\n",
      " \"0.249 -> 0.245: [('tag', 'div'), ('class', 'toctree-wrapper'), ('class', 'compound')]\"\n",
      " \"0.316 -> 0.313: [('tag', 'div'), ('class', 'toctree-wrapper'), ('class', 'compound')]\"\n",
      " \"0.341 -> 0.338: [('tag', 'div'), ('class', 'toctree-wrapper'), ('class', 'compound')]\"\n",
      " \"0.430 -> 0.426: [('tag', 'div'), ('class', 'toctree-wrapper'), ('class', 'compound')]\"\n",
      " \"0.480 -> 0.477: [('tag', 'div'), ('class', 'toctree-wrapper'), ('class', 'compound')]\"]\n",
      "\n",
      "\n",
      "\n",
      "[\"0.188 -> 0.186: [('tag', 'h2')]\" \"0.221 -> 0.220: [('tag', 'h2')]\"\n",
      " \"0.247 -> 0.245: [('tag', 'h2')]\" \"0.314 -> 0.313: [('tag', 'h2')]\"\n",
      " \"0.339 -> 0.338: [('tag', 'h2')]\" \"0.428 -> 0.426: [('tag', 'h2')]\"\n",
      " \"0.478 -> 0.477: [('tag', 'h2')]\"]\n",
      "\n",
      "\n",
      "\n",
      "[\"0.225 -> 0.224: [('tag', 'dt')]\" \"0.230 -> 0.224: [('tag', 'dt')]\"\n",
      " \"0.235 -> 0.224: [('tag', 'dt')]\" \"0.240 -> 0.224: [('tag', 'dt')]\"\n",
      " \"0.251 -> 0.250: [('tag', 'dt')]\" \"0.256 -> 0.250: [('tag', 'dt')]\"\n",
      " \"0.261 -> 0.250: [('tag', 'dt')]\" \"0.266 -> 0.250: [('tag', 'dt')]\"\n",
      " \"0.271 -> 0.250: [('tag', 'dt')]\" \"0.276 -> 0.250: [('tag', 'dt')]\"\n",
      " \"0.281 -> 0.250: [('tag', 'dt')]\" \"0.286 -> 0.250: [('tag', 'dt')]\"\n",
      " \"0.291 -> 0.250: [('tag', 'dt')]\" \"0.296 -> 0.250: [('tag', 'dt')]\"\n",
      " \"0.301 -> 0.250: [('tag', 'dt')]\" \"0.308 -> 0.250: [('tag', 'dt')]\"\n",
      " \"0.318 -> 0.317: [('tag', 'dt')]\" \"0.323 -> 0.317: [('tag', 'dt')]\"\n",
      " \"0.328 -> 0.317: [('tag', 'dt')]\" \"0.333 -> 0.317: [('tag', 'dt')]\"\n",
      " \"0.343 -> 0.342: [('tag', 'dt')]\" \"0.348 -> 0.342: [('tag', 'dt')]\"\n",
      " \"0.353 -> 0.342: [('tag', 'dt')]\" \"0.358 -> 0.342: [('tag', 'dt')]\"\n",
      " \"0.363 -> 0.342: [('tag', 'dt')]\" \"0.368 -> 0.342: [('tag', 'dt')]\"\n",
      " \"0.373 -> 0.342: [('tag', 'dt')]\" \"0.378 -> 0.342: [('tag', 'dt')]\"\n",
      " \"0.383 -> 0.342: [('tag', 'dt')]\" \"0.388 -> 0.342: [('tag', 'dt')]\"\n",
      " \"0.393 -> 0.342: [('tag', 'dt')]\" \"0.398 -> 0.342: [('tag', 'dt')]\"\n",
      " \"0.403 -> 0.342: [('tag', 'dt')]\" \"0.408 -> 0.342: [('tag', 'dt')]\"\n",
      " \"0.415 -> 0.342: [('tag', 'dt')]\" \"0.432 -> 0.431: [('tag', 'dt')]\"\n",
      " \"0.437 -> 0.431: [('tag', 'dt')]\" \"0.442 -> 0.431: [('tag', 'dt')]\"\n",
      " \"0.447 -> 0.431: [('tag', 'dt')]\" \"0.452 -> 0.431: [('tag', 'dt')]\"\n",
      " \"0.457 -> 0.431: [('tag', 'dt')]\" \"0.462 -> 0.431: [('tag', 'dt')]\"\n",
      " \"0.467 -> 0.431: [('tag', 'dt')]\" \"0.472 -> 0.431: [('tag', 'dt')]\"\n",
      " \"0.482 -> 0.481: [('tag', 'dt')]\" \"0.487 -> 0.481: [('tag', 'dt')]\"\n",
      " \"0.492 -> 0.481: [('tag', 'dt')]\" \"0.516 -> 0.515: [('tag', 'dt')]\"\n",
      " \"0.578 -> 0.577: [('tag', 'dt')]\" \"0.586 -> 0.585: [('tag', 'dt')]\"]\n",
      "\n",
      "\n",
      "\n",
      "[\"0.195 -> 0.194: [('tag', 'span'), ('class', 'doc')]\"\n",
      " \"0.227 -> 0.226: [('tag', 'span'), ('class', 'doc')]\"\n",
      " \"0.232 -> 0.231: [('tag', 'span'), ('class', 'doc')]\"\n",
      " \"0.237 -> 0.236: [('tag', 'span'), ('class', 'doc')]\"\n",
      " \"0.242 -> 0.241: [('tag', 'span'), ('class', 'doc')]\"\n",
      " \"0.253 -> 0.252: [('tag', 'span'), ('class', 'doc')]\"\n",
      " \"0.258 -> 0.257: [('tag', 'span'), ('class', 'doc')]\"\n",
      " \"0.263 -> 0.262: [('tag', 'span'), ('class', 'doc')]\"\n",
      " \"0.268 -> 0.267: [('tag', 'span'), ('class', 'doc')]\"\n",
      " \"0.273 -> 0.272: [('tag', 'span'), ('class', 'doc')]\"\n",
      " \"0.278 -> 0.277: [('tag', 'span'), ('class', 'doc')]\"\n",
      " \"0.283 -> 0.282: [('tag', 'span'), ('class', 'doc')]\"\n",
      " \"0.288 -> 0.287: [('tag', 'span'), ('class', 'doc')]\"\n",
      " \"0.293 -> 0.292: [('tag', 'span'), ('class', 'doc')]\"\n",
      " \"0.298 -> 0.297: [('tag', 'span'), ('class', 'doc')]\"\n",
      " \"0.303 -> 0.302: [('tag', 'span'), ('class', 'doc')]\"\n",
      " \"0.310 -> 0.309: [('tag', 'span'), ('class', 'doc')]\"\n",
      " \"0.320 -> 0.319: [('tag', 'span'), ('class', 'doc')]\"\n",
      " \"0.325 -> 0.324: [('tag', 'span'), ('class', 'doc')]\"\n",
      " \"0.330 -> 0.329: [('tag', 'span'), ('class', 'doc')]\"\n",
      " \"0.335 -> 0.334: [('tag', 'span'), ('class', 'doc')]\"\n",
      " \"0.345 -> 0.344: [('tag', 'span'), ('class', 'doc')]\"\n",
      " \"0.350 -> 0.349: [('tag', 'span'), ('class', 'doc')]\"\n",
      " \"0.355 -> 0.354: [('tag', 'span'), ('class', 'doc')]\"\n",
      " \"0.360 -> 0.359: [('tag', 'span'), ('class', 'doc')]\"\n",
      " \"0.365 -> 0.364: [('tag', 'span'), ('class', 'doc')]\"\n",
      " \"0.370 -> 0.369: [('tag', 'span'), ('class', 'doc')]\"\n",
      " \"0.375 -> 0.374: [('tag', 'span'), ('class', 'doc')]\"\n",
      " \"0.380 -> 0.379: [('tag', 'span'), ('class', 'doc')]\"\n",
      " \"0.385 -> 0.384: [('tag', 'span'), ('class', 'doc')]\"\n",
      " \"0.390 -> 0.389: [('tag', 'span'), ('class', 'doc')]\"\n",
      " \"0.395 -> 0.394: [('tag', 'span'), ('class', 'doc')]\"\n",
      " \"0.400 -> 0.399: [('tag', 'span'), ('class', 'doc')]\"\n",
      " \"0.405 -> 0.404: [('tag', 'span'), ('class', 'doc')]\"\n",
      " \"0.410 -> 0.409: [('tag', 'span'), ('class', 'doc')]\"\n",
      " \"0.417 -> 0.416: [('tag', 'span'), ('class', 'doc')]\"\n",
      " \"0.434 -> 0.433: [('tag', 'span'), ('class', 'doc')]\"\n",
      " \"0.439 -> 0.438: [('tag', 'span'), ('class', 'doc')]\"\n",
      " \"0.444 -> 0.443: [('tag', 'span'), ('class', 'doc')]\"\n",
      " \"0.449 -> 0.448: [('tag', 'span'), ('class', 'doc')]\"\n",
      " \"0.454 -> 0.453: [('tag', 'span'), ('class', 'doc')]\"\n",
      " \"0.459 -> 0.458: [('tag', 'span'), ('class', 'doc')]\"\n",
      " \"0.464 -> 0.463: [('tag', 'span'), ('class', 'doc')]\"\n",
      " \"0.469 -> 0.468: [('tag', 'span'), ('class', 'doc')]\"\n",
      " \"0.474 -> 0.473: [('tag', 'span'), ('class', 'doc')]\"\n",
      " \"0.484 -> 0.483: [('tag', 'span'), ('class', 'doc')]\"\n",
      " \"0.489 -> 0.488: [('tag', 'span'), ('class', 'doc')]\"\n",
      " \"0.494 -> 0.493: [('tag', 'span'), ('class', 'doc')]\"]\n",
      "\n",
      "\n",
      "\n",
      "[\"0.171 -> 0.170: [('tag', 'li')]\" \"0.173 -> 0.170: [('tag', 'li')]\"\n",
      " \"0.192 -> 0.191: [('tag', 'li')]\" \"0.196 -> 0.191: [('tag', 'li')]\"\n",
      " \"0.202 -> 0.191: [('tag', 'li')]\" \"0.205 -> 0.191: [('tag', 'li')]\"\n",
      " \"0.208 -> 0.191: [('tag', 'li')]\" \"0.211 -> 0.191: [('tag', 'li')]\"\n",
      " \"0.214 -> 0.191: [('tag', 'li')]\" \"0.217 -> 0.191: [('tag', 'li')]\"]\n",
      "\n",
      "\n",
      "\n",
      "[\"0.101 -> 0.100: [('tag', 'span'), ('class', 'caption-text')]\"\n",
      " \"0.104 -> 0.103: [('tag', 'a'), ('class', 'reference'), ('class', 'internal'), ('href', 'faq.html')]\"\n",
      " \"0.106 -> 0.105: [('tag', 'a'), ('class', 'reference'), ('class', 'internal'), ('href', 'topics/debug.html')]\"\n",
      " \"0.108 -> 0.107: [('tag', 'a'), ('class', 'reference'), ('class', 'internal'), ('href', 'topics/contracts.html')]\"\n",
      " \"0.110 -> 0.109: [('tag', 'a'), ('class', 'reference'), ('class', 'internal'), ('href', 'topics/practices.html')]\"\n",
      " \"0.112 -> 0.111: [('tag', 'a'), ('class', 'reference'), ('class', 'internal'), ('href', 'topics/broad-crawls.html')]\"\n",
      " \"0.114 -> 0.113: [('tag', 'a'), ('class', 'reference'), ('class', 'internal'), ('href', 'topics/developer-tools.html')]\"\n",
      " \"0.116 -> 0.115: [('tag', 'a'), ('class', 'reference'), ('class', 'internal'), ('href', 'topics/dynamic-content.html')]\"\n",
      " \"0.118 -> 0.117: [('tag', 'a'), ('class', 'reference'), ('class', 'internal'), ('href', 'topics/leaks.html')]\"\n",
      " \"0.120 -> 0.119: [('tag', 'a'), ('class', 'reference'), ('class', 'internal'), ('href', 'topics/media-pipeline.html')]\"\n",
      " \"0.122 -> 0.121: [('tag', 'a'), ('class', 'reference'), ('class', 'internal'), ('href', 'topics/deploy.html')]\"\n",
      " \"0.124 -> 0.123: [('tag', 'a'), ('class', 'reference'), ('class', 'internal'), ('href', 'topics/autothrottle.html')]\"\n",
      " \"0.126 -> 0.125: [('tag', 'a'), ('class', 'reference'), ('class', 'internal'), ('href', 'topics/benchmarking.html')]\"\n",
      " \"0.128 -> 0.127: [('tag', 'a'), ('class', 'reference'), ('class', 'internal'), ('href', 'topics/jobs.html')]\"\n",
      " \"0.130 -> 0.129: [('tag', 'a'), ('class', 'reference'), ('class', 'internal'), ('href', 'topics/coroutines.html')]\"\n",
      " \"0.132 -> 0.131: [('tag', 'a'), ('class', 'reference'), ('class', 'internal'), ('href', 'topics/asyncio.html')]\"\n",
      " \"0.137 -> 0.136: [('tag', 'a'), ('class', 'reference'), ('class', 'internal'), ('href', 'topics/architecture.html')]\"\n",
      " \"0.139 -> 0.138: [('tag', 'a'), ('class', 'reference'), ('class', 'internal'), ('href', 'topics/downloader-middleware.html')]\"\n",
      " \"0.141 -> 0.140: [('tag', 'a'), ('class', 'reference'), ('class', 'internal'), ('href', 'topics/spider-middleware.html')]\"\n",
      " \"0.143 -> 0.142: [('tag', 'a'), ('class', 'reference'), ('class', 'internal'), ('href', 'topics/extensions.html')]\"\n",
      " \"0.145 -> 0.144: [('tag', 'a'), ('class', 'reference'), ('class', 'internal'), ('href', 'topics/signals.html')]\"\n",
      " \"0.147 -> 0.146: [('tag', 'a'), ('class', 'reference'), ('class', 'internal'), ('href', 'topics/scheduler.html')]\"\n",
      " \"0.149 -> 0.148: [('tag', 'a'), ('class', 'reference'), ('class', 'internal'), ('href', 'topics/exporters.html')]\"\n",
      " \"0.151 -> 0.150: [('tag', 'a'), ('class', 'reference'), ('class', 'internal'), ('href', 'topics/components.html')]\"\n",
      " \"0.153 -> 0.152: [('tag', 'a'), ('class', 'reference'), ('class', 'internal'), ('href', 'topics/api.html')]\"\n",
      " \"0.158 -> 0.157: [('tag', 'a'), ('class', 'reference'), ('class', 'internal'), ('href', 'news.html')]\"\n",
      " \"0.160 -> 0.159: [('tag', 'a'), ('class', 'reference'), ('class', 'internal'), ('href', 'contributing.html')]\"\n",
      " \"0.162 -> 0.161: [('tag', 'a'), ('class', 'reference'), ('class', 'internal'), ('href', 'versioning.html')]\"\n",
      " \"0.163 -> 0.39: [('tag', 'section'), ('data-toggle', 'wy-nav-shift'), ('class', 'wy-nav-content-wrap')]\"\n",
      " \"0.164 -> 0.163: [('tag', 'nav'), ('class', 'wy-nav-top'), ('aria-label', 'Mobile navigation menu')]\"\n",
      " \"0.165 -> 0.164: [('tag', 'i'), ('data-toggle', 'wy-nav-top'), ('class', 'fa'), ('class', 'fa-bars')]\"\n",
      " \"0.166 -> 0.164: [('tag', 'a'), ('href', '#')]\"\n",
      " \"0.167 -> 0.163: [('tag', 'div'), ('class', 'wy-nav-content')]\"\n",
      " \"0.168 -> 0.167: [('tag', 'div'), ('class', 'rst-content')]\"\n",
      " \"0.169 -> 0.168: [('tag', 'div'), ('role', 'navigation'), ('aria-label', 'Page navigation')]\"\n",
      " \"0.170 -> 0.169: [('tag', 'ul'), ('class', 'wy-breadcrumbs')]\"\n",
      " \"0.172 -> 0.171: [('tag', 'a'), ('href', '#'), ('class', 'icon'), ('class', 'icon-home')]\"\n",
      " \"0.174 -> 0.170: [('tag', 'li'), ('class', 'wy-breadcrumbs-aside')]\"\n",
      " \"0.175 -> 0.174: [('tag', 'a'), ('href', 'https://github.com/scrapy/scrapy/blob/2.7/docs/index.rst'), ('class', 'fa'), ('class', 'fa-github')]\"\n",
      " \"0.176 -> 0.169: [('tag', 'hr')]\"\n",
      " \"0.177 -> 0.168: [('tag', 'div'), ('role', 'main'), ('class', 'document'), ('itemscope', 'itemscope'), ('itemtype', 'http://schema.org/Article')]\"\n",
      " \"0.178 -> 0.177: [('tag', 'div'), ('itemprop', 'articleBody')]\"\n",
      " \"0.179 -> 0.178: [('tag', 'section'), ('id', 'scrapy-version-documentation')]\"\n",
      " \"0.180 -> 0.179: [('tag', 'span'), ('id', 'topics-index')]\"\n",
      " \"0.181 -> 0.179: [('tag', 'h1')]\"\n",
      " \"0.182 -> 0.181: [('tag', 'a'), ('class', 'headerlink'), ('href', '#scrapy-version-documentation'), ('title', 'Permalink to this heading')]\"\n",
      " \"0.184 -> 0.183: [('tag', 'a'), ('class', 'reference'), ('class', 'external'), ('href', 'https://en.wikipedia.org/wiki/Web_crawler')]\"\n",
      " \"0.185 -> 0.183: [('tag', 'a'), ('class', 'reference'), ('class', 'external'), ('href', 'https://en.wikipedia.org/wiki/Web_scraping')]\"\n",
      " \"0.186 -> 0.179: [('tag', 'section'), ('id', 'getting-help')]\"\n",
      " \"0.187 -> 0.186: [('tag', 'span'), ('id', 'id1')]\"]\n",
      "\n",
      "\n",
      "\n",
      "[\"0.183 -> 0.179: [('tag', 'p')]\" \"0.190 -> 0.186: [('tag', 'p')]\"\n",
      " \"0.193 -> 0.192: [('tag', 'p')]\" \"0.197 -> 0.196: [('tag', 'p')]\"\n",
      " \"0.203 -> 0.202: [('tag', 'p')]\" \"0.206 -> 0.205: [('tag', 'p')]\"\n",
      " \"0.209 -> 0.208: [('tag', 'p')]\" \"0.212 -> 0.211: [('tag', 'p')]\"\n",
      " \"0.215 -> 0.214: [('tag', 'p')]\" \"0.218 -> 0.217: [('tag', 'p')]\"\n",
      " \"0.229 -> 0.228: [('tag', 'p')]\" \"0.234 -> 0.233: [('tag', 'p')]\"\n",
      " \"0.239 -> 0.238: [('tag', 'p')]\" \"0.244 -> 0.243: [('tag', 'p')]\"\n",
      " \"0.255 -> 0.254: [('tag', 'p')]\" \"0.260 -> 0.259: [('tag', 'p')]\"\n",
      " \"0.265 -> 0.264: [('tag', 'p')]\" \"0.270 -> 0.269: [('tag', 'p')]\"\n",
      " \"0.275 -> 0.274: [('tag', 'p')]\" \"0.280 -> 0.279: [('tag', 'p')]\"\n",
      " \"0.285 -> 0.284: [('tag', 'p')]\" \"0.290 -> 0.289: [('tag', 'p')]\"\n",
      " \"0.295 -> 0.294: [('tag', 'p')]\" \"0.300 -> 0.299: [('tag', 'p')]\"\n",
      " \"0.305 -> 0.304: [('tag', 'p')]\" \"0.312 -> 0.311: [('tag', 'p')]\"\n",
      " \"0.322 -> 0.321: [('tag', 'p')]\" \"0.327 -> 0.326: [('tag', 'p')]\"\n",
      " \"0.332 -> 0.331: [('tag', 'p')]\" \"0.337 -> 0.336: [('tag', 'p')]\"\n",
      " \"0.347 -> 0.346: [('tag', 'p')]\" \"0.352 -> 0.351: [('tag', 'p')]\"\n",
      " \"0.357 -> 0.356: [('tag', 'p')]\" \"0.362 -> 0.361: [('tag', 'p')]\"\n",
      " \"0.367 -> 0.366: [('tag', 'p')]\" \"0.372 -> 0.371: [('tag', 'p')]\"\n",
      " \"0.377 -> 0.376: [('tag', 'p')]\" \"0.382 -> 0.381: [('tag', 'p')]\"\n",
      " \"0.387 -> 0.386: [('tag', 'p')]\" \"0.392 -> 0.391: [('tag', 'p')]\"\n",
      " \"0.397 -> 0.396: [('tag', 'p')]\" \"0.402 -> 0.401: [('tag', 'p')]\"\n",
      " \"0.407 -> 0.406: [('tag', 'p')]\" \"0.412 -> 0.411: [('tag', 'p')]\"\n",
      " \"0.419 -> 0.418: [('tag', 'p')]\" \"0.436 -> 0.435: [('tag', 'p')]\"\n",
      " \"0.441 -> 0.440: [('tag', 'p')]\" \"0.446 -> 0.445: [('tag', 'p')]\"\n",
      " \"0.451 -> 0.450: [('tag', 'p')]\" \"0.456 -> 0.455: [('tag', 'p')]\"]\n",
      "\n",
      "\n",
      "\n",
      "[\"0.100 -> 0.50: [('tag', 'p'), ('class', 'caption'), ('role', 'heading')]\"\n",
      " \"0.133 -> 0.50: [('tag', 'p'), ('class', 'caption'), ('role', 'heading')]\"\n",
      " \"0.154 -> 0.50: [('tag', 'p'), ('class', 'caption'), ('role', 'heading')]\"\n",
      " \"0.51 -> 0.50: [('tag', 'p'), ('class', 'caption'), ('role', 'heading')]\"\n",
      " \"0.62 -> 0.50: [('tag', 'p'), ('class', 'caption'), ('role', 'heading')]\"\n",
      " \"0.89 -> 0.50: [('tag', 'p'), ('class', 'caption'), ('role', 'heading')]\"]\n",
      "\n",
      "\n",
      "\n",
      "[\"0.102 -> 0.50: [('tag', 'ul')]\" \"0.135 -> 0.50: [('tag', 'ul')]\"\n",
      " \"0.156 -> 0.50: [('tag', 'ul')]\" \"0.53 -> 0.50: [('tag', 'ul')]\"\n",
      " \"0.64 -> 0.50: [('tag', 'ul')]\" \"0.91 -> 0.50: [('tag', 'ul')]\"]\n",
      "\n",
      "\n",
      "\n",
      "[\"0.228 -> 0.224: [('tag', 'dd')]\" \"0.233 -> 0.224: [('tag', 'dd')]\"\n",
      " \"0.238 -> 0.224: [('tag', 'dd')]\" \"0.243 -> 0.224: [('tag', 'dd')]\"\n",
      " \"0.254 -> 0.250: [('tag', 'dd')]\" \"0.259 -> 0.250: [('tag', 'dd')]\"\n",
      " \"0.264 -> 0.250: [('tag', 'dd')]\" \"0.269 -> 0.250: [('tag', 'dd')]\"\n",
      " \"0.274 -> 0.250: [('tag', 'dd')]\" \"0.279 -> 0.250: [('tag', 'dd')]\"\n",
      " \"0.284 -> 0.250: [('tag', 'dd')]\" \"0.289 -> 0.250: [('tag', 'dd')]\"\n",
      " \"0.294 -> 0.250: [('tag', 'dd')]\" \"0.299 -> 0.250: [('tag', 'dd')]\"\n",
      " \"0.304 -> 0.250: [('tag', 'dd')]\" \"0.311 -> 0.250: [('tag', 'dd')]\"\n",
      " \"0.321 -> 0.317: [('tag', 'dd')]\" \"0.326 -> 0.317: [('tag', 'dd')]\"\n",
      " \"0.331 -> 0.317: [('tag', 'dd')]\" \"0.336 -> 0.317: [('tag', 'dd')]\"\n",
      " \"0.346 -> 0.342: [('tag', 'dd')]\" \"0.351 -> 0.342: [('tag', 'dd')]\"\n",
      " \"0.356 -> 0.342: [('tag', 'dd')]\" \"0.361 -> 0.342: [('tag', 'dd')]\"\n",
      " \"0.366 -> 0.342: [('tag', 'dd')]\" \"0.371 -> 0.342: [('tag', 'dd')]\"\n",
      " \"0.376 -> 0.342: [('tag', 'dd')]\" \"0.381 -> 0.342: [('tag', 'dd')]\"\n",
      " \"0.386 -> 0.342: [('tag', 'dd')]\" \"0.391 -> 0.342: [('tag', 'dd')]\"\n",
      " \"0.396 -> 0.342: [('tag', 'dd')]\" \"0.401 -> 0.342: [('tag', 'dd')]\"\n",
      " \"0.406 -> 0.342: [('tag', 'dd')]\" \"0.411 -> 0.342: [('tag', 'dd')]\"\n",
      " \"0.418 -> 0.342: [('tag', 'dd')]\" \"0.435 -> 0.431: [('tag', 'dd')]\"\n",
      " \"0.440 -> 0.431: [('tag', 'dd')]\" \"0.445 -> 0.431: [('tag', 'dd')]\"\n",
      " \"0.450 -> 0.431: [('tag', 'dd')]\" \"0.455 -> 0.431: [('tag', 'dd')]\"\n",
      " \"0.460 -> 0.431: [('tag', 'dd')]\" \"0.465 -> 0.431: [('tag', 'dd')]\"\n",
      " \"0.470 -> 0.431: [('tag', 'dd')]\" \"0.475 -> 0.431: [('tag', 'dd')]\"\n",
      " \"0.485 -> 0.481: [('tag', 'dd')]\" \"0.490 -> 0.481: [('tag', 'dd')]\"\n",
      " \"0.495 -> 0.481: [('tag', 'dd')]\" \"0.517 -> 0.515: [('tag', 'dd')]\"\n",
      " \"0.519 -> 0.515: [('tag', 'dd')]\" \"0.521 -> 0.515: [('tag', 'dd')]\"]\n",
      "\n",
      "\n",
      "\n",
      "[\"0.134 -> 0.133: [('tag', 'span'), ('class', 'caption-text')]\"\n",
      " \"0.155 -> 0.154: [('tag', 'span'), ('class', 'caption-text')]\"\n",
      " \"0.52 -> 0.51: [('tag', 'span'), ('class', 'caption-text')]\"\n",
      " \"0.63 -> 0.62: [('tag', 'span'), ('class', 'caption-text')]\"\n",
      " \"0.90 -> 0.89: [('tag', 'span'), ('class', 'caption-text')]\"]\n",
      "\n",
      "\n",
      "\n"
     ]
    }
   ],
   "source": [
    "for i in labels_counts[labels_counts.index > -1].index.tolist():\n",
    "    top_label = labels_counts.index.values[i]\n",
    "    top_label\n",
    "\n",
    "    top_nodes_idx = labels[labels == top_label].index.values\n",
    "    top_nodes_idx\n",
    "\n",
    "    nodes = np.array(loader.nodes)[top_nodes_idx]\n",
    "    nodes = sorted(nodes, key=lambda n: n.graph_node_id)\n",
    "#     nodes = list(map(lambda n: f'[{loader.graphs_id_file_map.get(n.graph_id)}] {n.graph_node_id} -> {n.graph_parent_id}: {n.features}', nodes))\n",
    "    nodes = list(map(lambda n: f'{n.graph_node_id} -> {n.graph_parent_id}: {n.features}', nodes))\n",
    "    print(np.array(nodes[:50]))\n",
    "    print('\\n\\n')"
   ]
  },
  {
   "cell_type": "markdown",
   "id": "84d24a2e",
   "metadata": {},
   "source": [
    "## Filter Clusters"
   ]
  },
  {
   "cell_type": "code",
   "execution_count": 196,
   "id": "a5d8c96e",
   "metadata": {},
   "outputs": [
    {
     "data": {
      "text/html": [
       "<div>\n",
       "<style scoped>\n",
       "    .dataframe tbody tr th:only-of-type {\n",
       "        vertical-align: middle;\n",
       "    }\n",
       "\n",
       "    .dataframe tbody tr th {\n",
       "        vertical-align: top;\n",
       "    }\n",
       "\n",
       "    .dataframe thead th {\n",
       "        text-align: right;\n",
       "    }\n",
       "</style>\n",
       "<table border=\"1\" class=\"dataframe\">\n",
       "  <thead>\n",
       "    <tr style=\"text-align: right;\">\n",
       "      <th></th>\n",
       "      <th>id</th>\n",
       "      <th>parent_id</th>\n",
       "      <th>label</th>\n",
       "    </tr>\n",
       "  </thead>\n",
       "  <tbody>\n",
       "    <tr>\n",
       "      <th>0</th>\n",
       "      <td>38</td>\n",
       "      <td>1</td>\n",
       "      <td>-1</td>\n",
       "    </tr>\n",
       "    <tr>\n",
       "      <th>1</th>\n",
       "      <td>39</td>\n",
       "      <td>38</td>\n",
       "      <td>-1</td>\n",
       "    </tr>\n",
       "    <tr>\n",
       "      <th>2</th>\n",
       "      <td>40</td>\n",
       "      <td>39</td>\n",
       "      <td>-1</td>\n",
       "    </tr>\n",
       "    <tr>\n",
       "      <th>3</th>\n",
       "      <td>41</td>\n",
       "      <td>40</td>\n",
       "      <td>-1</td>\n",
       "    </tr>\n",
       "    <tr>\n",
       "      <th>4</th>\n",
       "      <td>42</td>\n",
       "      <td>41</td>\n",
       "      <td>-1</td>\n",
       "    </tr>\n",
       "    <tr>\n",
       "      <th>...</th>\n",
       "      <td>...</td>\n",
       "      <td>...</td>\n",
       "      <td>...</td>\n",
       "    </tr>\n",
       "    <tr>\n",
       "      <th>550</th>\n",
       "      <td>588</td>\n",
       "      <td>587</td>\n",
       "      <td>-1</td>\n",
       "    </tr>\n",
       "    <tr>\n",
       "      <th>551</th>\n",
       "      <td>589</td>\n",
       "      <td>585</td>\n",
       "      <td>11</td>\n",
       "    </tr>\n",
       "    <tr>\n",
       "      <th>552</th>\n",
       "      <td>590</td>\n",
       "      <td>589</td>\n",
       "      <td>-1</td>\n",
       "    </tr>\n",
       "    <tr>\n",
       "      <th>553</th>\n",
       "      <td>591</td>\n",
       "      <td>38</td>\n",
       "      <td>-1</td>\n",
       "    </tr>\n",
       "    <tr>\n",
       "      <th>554</th>\n",
       "      <td>592</td>\n",
       "      <td>38</td>\n",
       "      <td>-1</td>\n",
       "    </tr>\n",
       "  </tbody>\n",
       "</table>\n",
       "<p>555 rows × 3 columns</p>\n",
       "</div>"
      ],
      "text/plain": [
       "      id  parent_id  label\n",
       "0     38          1     -1\n",
       "1     39         38     -1\n",
       "2     40         39     -1\n",
       "3     41         40     -1\n",
       "4     42         41     -1\n",
       "..   ...        ...    ...\n",
       "550  588        587     -1\n",
       "551  589        585     11\n",
       "552  590        589     -1\n",
       "553  591         38     -1\n",
       "554  592         38     -1\n",
       "\n",
       "[555 rows x 3 columns]"
      ]
     },
     "execution_count": 196,
     "metadata": {},
     "output_type": "execute_result"
    }
   ],
   "source": [
    "df_nodes = pd.DataFrame({\n",
    "    'id': [n.id for n in loader.nodes],\n",
    "    'parent_id': [n.parent_id for n in loader.nodes],\n",
    "    'label': dbscan.labels_,\n",
    "})\n",
    "df_nodes"
   ]
  },
  {
   "cell_type": "code",
   "execution_count": 197,
   "id": "b288bbd1",
   "metadata": {},
   "outputs": [
    {
     "data": {
      "text/html": [
       "<div>\n",
       "<style scoped>\n",
       "    .dataframe tbody tr th:only-of-type {\n",
       "        vertical-align: middle;\n",
       "    }\n",
       "\n",
       "    .dataframe tbody tr th {\n",
       "        vertical-align: top;\n",
       "    }\n",
       "\n",
       "    .dataframe thead th {\n",
       "        text-align: right;\n",
       "    }\n",
       "</style>\n",
       "<table border=\"1\" class=\"dataframe\">\n",
       "  <thead>\n",
       "    <tr style=\"text-align: right;\">\n",
       "      <th></th>\n",
       "      <th>id</th>\n",
       "      <th>parent_id</th>\n",
       "      <th>label</th>\n",
       "    </tr>\n",
       "  </thead>\n",
       "  <tbody>\n",
       "    <tr>\n",
       "      <th>13</th>\n",
       "      <td>51</td>\n",
       "      <td>50</td>\n",
       "      <td>0</td>\n",
       "    </tr>\n",
       "    <tr>\n",
       "      <th>14</th>\n",
       "      <td>52</td>\n",
       "      <td>51</td>\n",
       "      <td>1</td>\n",
       "    </tr>\n",
       "    <tr>\n",
       "      <th>15</th>\n",
       "      <td>62</td>\n",
       "      <td>50</td>\n",
       "      <td>0</td>\n",
       "    </tr>\n",
       "    <tr>\n",
       "      <th>16</th>\n",
       "      <td>63</td>\n",
       "      <td>62</td>\n",
       "      <td>1</td>\n",
       "    </tr>\n",
       "    <tr>\n",
       "      <th>17</th>\n",
       "      <td>89</td>\n",
       "      <td>50</td>\n",
       "      <td>0</td>\n",
       "    </tr>\n",
       "  </tbody>\n",
       "</table>\n",
       "</div>"
      ],
      "text/plain": [
       "    id  parent_id  label\n",
       "13  51         50      0\n",
       "14  52         51      1\n",
       "15  62         50      0\n",
       "16  63         62      1\n",
       "17  89         50      0"
      ]
     },
     "execution_count": 197,
     "metadata": {},
     "output_type": "execute_result"
    }
   ],
   "source": [
    "df_nodes = df_nodes[df_nodes.label != -1]\n",
    "df_nodes.head()"
   ]
  },
  {
   "cell_type": "code",
   "execution_count": 198,
   "id": "693dd3dd",
   "metadata": {},
   "outputs": [
    {
     "data": {
      "text/html": [
       "<div>\n",
       "<style scoped>\n",
       "    .dataframe tbody tr th:only-of-type {\n",
       "        vertical-align: middle;\n",
       "    }\n",
       "\n",
       "    .dataframe tbody tr th {\n",
       "        vertical-align: top;\n",
       "    }\n",
       "\n",
       "    .dataframe thead th {\n",
       "        text-align: right;\n",
       "    }\n",
       "</style>\n",
       "<table border=\"1\" class=\"dataframe\">\n",
       "  <thead>\n",
       "    <tr style=\"text-align: right;\">\n",
       "      <th></th>\n",
       "      <th>label</th>\n",
       "      <th>entropy</th>\n",
       "    </tr>\n",
       "  </thead>\n",
       "  <tbody>\n",
       "    <tr>\n",
       "      <th>0</th>\n",
       "      <td>0</td>\n",
       "      <td>0.000000</td>\n",
       "    </tr>\n",
       "    <tr>\n",
       "      <th>1</th>\n",
       "      <td>2</td>\n",
       "      <td>0.000000</td>\n",
       "    </tr>\n",
       "    <tr>\n",
       "      <th>2</th>\n",
       "      <td>4</td>\n",
       "      <td>0.500402</td>\n",
       "    </tr>\n",
       "    <tr>\n",
       "      <th>3</th>\n",
       "      <td>1</td>\n",
       "      <td>1.609438</td>\n",
       "    </tr>\n",
       "    <tr>\n",
       "      <th>4</th>\n",
       "      <td>12</td>\n",
       "      <td>1.609438</td>\n",
       "    </tr>\n",
       "    <tr>\n",
       "      <th>5</th>\n",
       "      <td>3</td>\n",
       "      <td>1.624598</td>\n",
       "    </tr>\n",
       "    <tr>\n",
       "      <th>6</th>\n",
       "      <td>8</td>\n",
       "      <td>1.791759</td>\n",
       "    </tr>\n",
       "    <tr>\n",
       "      <th>7</th>\n",
       "      <td>9</td>\n",
       "      <td>1.791759</td>\n",
       "    </tr>\n",
       "    <tr>\n",
       "      <th>8</th>\n",
       "      <td>10</td>\n",
       "      <td>1.820006</td>\n",
       "    </tr>\n",
       "    <tr>\n",
       "      <th>9</th>\n",
       "      <td>11</td>\n",
       "      <td>1.829660</td>\n",
       "    </tr>\n",
       "    <tr>\n",
       "      <th>10</th>\n",
       "      <td>6</td>\n",
       "      <td>1.945910</td>\n",
       "    </tr>\n",
       "    <tr>\n",
       "      <th>11</th>\n",
       "      <td>7</td>\n",
       "      <td>3.871201</td>\n",
       "    </tr>\n",
       "    <tr>\n",
       "      <th>12</th>\n",
       "      <td>5</td>\n",
       "      <td>4.060443</td>\n",
       "    </tr>\n",
       "  </tbody>\n",
       "</table>\n",
       "</div>"
      ],
      "text/plain": [
       "    label   entropy\n",
       "0       0  0.000000\n",
       "1       2  0.000000\n",
       "2       4  0.500402\n",
       "3       1  1.609438\n",
       "4      12  1.609438\n",
       "5       3  1.624598\n",
       "6       8  1.791759\n",
       "7       9  1.791759\n",
       "8      10  1.820006\n",
       "9      11  1.829660\n",
       "10      6  1.945910\n",
       "11      7  3.871201\n",
       "12      5  4.060443"
      ]
     },
     "execution_count": 198,
     "metadata": {},
     "output_type": "execute_result"
    }
   ],
   "source": [
    "df_labels = df_nodes \\\n",
    "    .groupby('label')[['parent_id']] \\\n",
    "    .agg(lambda s: entropy(s.value_counts())) \\\n",
    "    .rename(columns={'parent_id': 'entropy'}) \\\n",
    "    .sort_values(by='entropy', ascending=True) \\\n",
    "    .reset_index()\n",
    "df_labels"
   ]
  },
  {
   "cell_type": "code",
   "execution_count": 199,
   "id": "91401b93",
   "metadata": {
    "scrolled": false
   },
   "outputs": [
    {
     "name": "stdout",
     "output_type": "stream",
     "text": [
      "label: 0\n",
      "entropy:    label  entropy\n",
      "0      0      0.0\n",
      "[50 50 50 50 50 50]\n",
      "[{'id': 51, 'parent_id': 50, 'graph_id': 0, 'features': [('tag', 'p'), ('class', 'caption'), ('role', 'heading')]}\n",
      " {'id': 62, 'parent_id': 50, 'graph_id': 0, 'features': [('tag', 'p'), ('class', 'caption'), ('role', 'heading')]}\n",
      " {'id': 89, 'parent_id': 50, 'graph_id': 0, 'features': [('tag', 'p'), ('class', 'caption'), ('role', 'heading')]}\n",
      " {'id': 100, 'parent_id': 50, 'graph_id': 0, 'features': [('tag', 'p'), ('class', 'caption'), ('role', 'heading')]}\n",
      " {'id': 133, 'parent_id': 50, 'graph_id': 0, 'features': [('tag', 'p'), ('class', 'caption'), ('role', 'heading')]}\n",
      " {'id': 154, 'parent_id': 50, 'graph_id': 0, 'features': [('tag', 'p'), ('class', 'caption'), ('role', 'heading')]}]\n",
      "\n",
      "\n",
      "label: 2\n",
      "entropy:    label  entropy\n",
      "1      2      0.0\n",
      "[50 50 50 50 50 50]\n",
      "[{'id': 53, 'parent_id': 50, 'graph_id': 0, 'features': [('tag', 'ul')]}\n",
      " {'id': 64, 'parent_id': 50, 'graph_id': 0, 'features': [('tag', 'ul')]}\n",
      " {'id': 91, 'parent_id': 50, 'graph_id': 0, 'features': [('tag', 'ul')]}\n",
      " {'id': 102, 'parent_id': 50, 'graph_id': 0, 'features': [('tag', 'ul')]}\n",
      " {'id': 135, 'parent_id': 50, 'graph_id': 0, 'features': [('tag', 'ul')]}\n",
      " {'id': 156, 'parent_id': 50, 'graph_id': 0, 'features': [('tag', 'ul')]}]\n",
      "\n",
      "\n"
     ]
    }
   ],
   "source": [
    "for label in df_labels[df_labels.entropy < 0.5].label.tolist():\n",
    "    # mask\n",
    "    mask = df_nodes.label == label\n",
    "    \n",
    "    # entropy\n",
    "    arr = df_nodes[mask].parent_id\n",
    "    prob = arr.value_counts(normalize=True)\n",
    "    ent = df_labels[df_labels.label == label]\n",
    "    \n",
    "    # nodes\n",
    "    nodes_ids = df_nodes[mask].id.values\n",
    "    nodes = np.array([n for n in loader.nodes if n.id in nodes_ids])\n",
    "    \n",
    "    # results\n",
    "    print(f'label: {label}')\n",
    "    print(f'entropy: {ent}')\n",
    "    print(df_nodes[mask].parent_id.values)\n",
    "    print(nodes)\n",
    "    print('\\n')"
   ]
  },
  {
   "cell_type": "code",
   "execution_count": null,
   "id": "6d24957c",
   "metadata": {},
   "outputs": [],
   "source": []
  }
 ],
 "metadata": {
  "kernelspec": {
   "display_name": "Python 3 (ipykernel)",
   "language": "python",
   "name": "python3"
  },
  "language_info": {
   "codemirror_mode": {
    "name": "ipython",
    "version": 3
   },
   "file_extension": ".py",
   "mimetype": "text/x-python",
   "name": "python",
   "nbconvert_exporter": "python",
   "pygments_lexer": "ipython3",
   "version": "3.10.9"
  }
 },
 "nbformat": 4,
 "nbformat_minor": 5
}
