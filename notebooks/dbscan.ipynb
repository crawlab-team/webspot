{
 "cells": [
  {
   "cell_type": "code",
   "execution_count": 49,
   "id": "9a33f506",
   "metadata": {},
   "outputs": [],
   "source": [
    "import init\n",
    "\n",
    "import pandas as pd\n",
    "import numpy as np\n",
    "from sklearn.cluster import DBSCAN\n",
    "from sklearn.preprocessing import normalize\n",
    "\n",
    "from dataset.graph_loader import GraphLoader"
   ]
  },
  {
   "cell_type": "code",
   "execution_count": 50,
   "id": "425f5ff3",
   "metadata": {},
   "outputs": [
    {
     "name": "stdout",
     "output_type": "stream",
     "text": [
      "Graph(num_nodes=145, num_edges=145,\n",
      "      ndata_schemes={'feat': Scheme(shape=(106,), dtype=torch.float32)}\n",
      "      edata_schemes={})\n"
     ]
    }
   ],
   "source": [
    "loader = GraphLoader(\n",
    "    data_path='/Users/marvzhang/projects/crawlab-team/auto-html/data/quotes.toscrape.com/json/http___quotes_toscrape_com_.json', \n",
    "    embed_walk_length=3,\n",
    ")\n",
    "\n",
    "loader.run()"
   ]
  },
  {
   "cell_type": "code",
   "execution_count": 51,
   "id": "2592cc62",
   "metadata": {},
   "outputs": [
    {
     "data": {
      "text/plain": [
       "tensor([[112,   0, 134, 123],\n",
       "        [123, 112,   0, 134],\n",
       "        [134, 123, 112,   0],\n",
       "        [  0, 134, 123, 112],\n",
       "        [ 11,   0, 134, 123],\n",
       "        [ 22,  11,   0, 134],\n",
       "        [ 33, 134, 123, 112],\n",
       "        [ 44,  33, 134, 123],\n",
       "        [ 55,  44,  33, 134],\n",
       "        [ 58, 123, 112,   0],\n",
       "        [ 59,  58, 123, 112],\n",
       "        [ 60,  59,  58, 123],\n",
       "        [ 61,  60,  59,  58],\n",
       "        [ 62,  60,  59,  58],\n",
       "        [ 63,  62,  60,  59],\n",
       "        [ 64,  62,  60,  59],\n",
       "        [ 65,  60,  59,  58],\n",
       "        [ 66,  65,  60,  59],\n",
       "        [ 67,  65,  60,  59],\n",
       "        [ 68,  65,  60,  59],\n",
       "        [ 69,  65,  60,  59],\n",
       "        [ 70,  65,  60,  59],\n",
       "        [ 71,  59,  58, 123],\n",
       "        [ 72,  71,  59,  58],\n",
       "        [ 73,  71,  59,  58],\n",
       "        [ 74,  73,  71,  59],\n",
       "        [ 75,  73,  71,  59],\n",
       "        [ 76,  71,  59,  58],\n",
       "        [ 77,  76,  71,  59],\n",
       "        [ 78,  76,  71,  59],\n",
       "        [ 79,  76,  71,  59],\n",
       "        [ 80,  59,  58, 123],\n",
       "        [ 81,  80,  59,  58],\n",
       "        [ 82,  80,  59,  58],\n",
       "        [ 83,  82,  80,  59],\n",
       "        [ 84,  82,  80,  59],\n",
       "        [ 85,  80,  59,  58],\n",
       "        [ 86,  85,  80,  59],\n",
       "        [ 87,  85,  80,  59],\n",
       "        [ 88,  85,  80,  59],\n",
       "        [ 89,  85,  80,  59],\n",
       "        [ 90,  85,  80,  59],\n",
       "        [ 91,  85,  80,  59],\n",
       "        [ 92,  59,  58, 123],\n",
       "        [ 93,  92,  59,  58],\n",
       "        [ 94,  92,  59,  58],\n",
       "        [ 95,  94,  92,  59],\n",
       "        [ 96,  94,  92,  59],\n",
       "        [ 97,  92,  59,  58],\n",
       "        [ 98,  97,  92,  59],\n",
       "        [ 99,  97,  92,  59],\n",
       "        [100,  97,  92,  59],\n",
       "        [101,  97,  92,  59],\n",
       "        [102,  97,  92,  59],\n",
       "        [103,  59,  58, 123],\n",
       "        [104, 103,  59,  58],\n",
       "        [105, 103,  59,  58],\n",
       "        [106, 105, 103,  59],\n",
       "        [107, 105, 103,  59],\n",
       "        [108, 103,  59,  58],\n",
       "        [109, 108, 103,  59],\n",
       "        [110, 108, 103,  59],\n",
       "        [111, 108, 103,  59],\n",
       "        [113,  59,  58, 123],\n",
       "        [114, 113,  59,  58],\n",
       "        [115, 113,  59,  58],\n",
       "        [116, 115, 113,  59],\n",
       "        [117, 115, 113,  59],\n",
       "        [118, 113,  59,  58],\n",
       "        [119, 118, 113,  59],\n",
       "        [120, 118, 113,  59],\n",
       "        [121, 118, 113,  59],\n",
       "        [122, 118, 113,  59],\n",
       "        [124,  59,  58, 123],\n",
       "        [125, 124,  59,  58],\n",
       "        [126, 124,  59,  58],\n",
       "        [127, 126, 124,  59],\n",
       "        [128, 126, 124,  59],\n",
       "        [129, 124,  59,  58],\n",
       "        [130, 129, 124,  59],\n",
       "        [131, 129, 124,  59],\n",
       "        [132, 129, 124,  59],\n",
       "        [133,  59,  58, 123],\n",
       "        [135, 133,  59,  58],\n",
       "        [136, 133,  59,  58],\n",
       "        [137, 136, 133,  59],\n",
       "        [138, 136, 133,  59],\n",
       "        [139, 133,  59,  58],\n",
       "        [140, 139, 133,  59],\n",
       "        [141, 139, 133,  59],\n",
       "        [142, 139, 133,  59],\n",
       "        [143, 139, 133,  59],\n",
       "        [144, 139, 133,  59],\n",
       "        [  1,  59,  58, 123],\n",
       "        [  2,   1,  59,  58],\n",
       "        [  3,   1,  59,  58],\n",
       "        [  4,   3,   1,  59],\n",
       "        [  5,   3,   1,  59],\n",
       "        [  6,   1,  59,  58],\n",
       "        [  7,   6,   1,  59],\n",
       "        [  8,   6,   1,  59],\n",
       "        [  9,  59,  58, 123],\n",
       "        [ 10,   9,  59,  58],\n",
       "        [ 12,   9,  59,  58],\n",
       "        [ 13,  12,   9,  59],\n",
       "        [ 14,  12,   9,  59],\n",
       "        [ 15,   9,  59,  58],\n",
       "        [ 16,  15,   9,  59],\n",
       "        [ 17,  15,   9,  59],\n",
       "        [ 18,  15,   9,  59],\n",
       "        [ 19,  15,   9,  59],\n",
       "        [ 20,  59,  58, 123],\n",
       "        [ 21,  20,  59,  58],\n",
       "        [ 23,  21,  20,  59],\n",
       "        [ 24,  23,  21,  20],\n",
       "        [ 25,  24,  23,  21],\n",
       "        [ 26,  58, 123, 112],\n",
       "        [ 27,  26,  58, 123],\n",
       "        [ 28,  26,  58, 123],\n",
       "        [ 29,  28,  26,  58],\n",
       "        [ 30,  26,  58, 123],\n",
       "        [ 31,  30,  26,  58],\n",
       "        [ 32,  26,  58, 123],\n",
       "        [ 34,  32,  26,  58],\n",
       "        [ 35,  26,  58, 123],\n",
       "        [ 36,  35,  26,  58],\n",
       "        [ 37,  26,  58, 123],\n",
       "        [ 38,  37,  26,  58],\n",
       "        [ 39,  26,  58, 123],\n",
       "        [ 40,  39,  26,  58],\n",
       "        [ 41,  26,  58, 123],\n",
       "        [ 42,  41,  26,  58],\n",
       "        [ 43,  26,  58, 123],\n",
       "        [ 45,  43,  26,  58],\n",
       "        [ 46,  26,  58, 123],\n",
       "        [ 47,  46,  26,  58],\n",
       "        [ 48,  26,  58, 123],\n",
       "        [ 49,  48,  26,  58],\n",
       "        [ 50, 112,   0, 134],\n",
       "        [ 51,  50, 112,   0],\n",
       "        [ 52,  51,  50, 112],\n",
       "        [ 53,  52,  51,  50],\n",
       "        [ 54,  51,  50, 112],\n",
       "        [ 56,  54,  51,  50],\n",
       "        [ 57,  54,  51,  50]])"
      ]
     },
     "execution_count": 51,
     "metadata": {},
     "output_type": "execute_result"
    }
   ],
   "source": [
    "loader.nodes_embedded_tensor"
   ]
  },
  {
   "cell_type": "code",
   "execution_count": 52,
   "id": "84fd3c89",
   "metadata": {},
   "outputs": [
    {
     "data": {
      "text/plain": [
       "tensor([ 59,  58, 123, 112])"
      ]
     },
     "execution_count": 52,
     "metadata": {},
     "output_type": "execute_result"
    }
   ],
   "source": [
    "idx = loader.nodes_embedded_tensor[10]\n",
    "idx"
   ]
  },
  {
   "cell_type": "code",
   "execution_count": 53,
   "id": "7f31dcc7",
   "metadata": {},
   "outputs": [
    {
     "data": {
      "text/plain": [
       "tensor([[0., 0., 0., 0., 0., 0., 0., 0., 0., 0., 0., 0., 0., 0., 0., 0., 1., 0.,\n",
       "         0., 0., 0., 0., 0., 0., 0., 0., 0., 0., 0., 0., 0., 0., 0., 0., 0., 0.,\n",
       "         0., 0., 0., 0., 0., 0., 0., 0., 0., 0., 0., 0., 0., 0., 0., 0., 0., 0.,\n",
       "         0., 0., 0., 0., 0., 0., 0., 0., 0., 0., 0., 0., 0., 0., 0., 0., 0., 0.,\n",
       "         0., 0., 0., 0., 0., 0., 0., 0., 0., 0., 0., 0., 0., 0., 0., 0., 0., 0.,\n",
       "         0., 0., 0., 0., 0., 1., 0., 0., 0., 0., 0., 0., 0., 0., 0., 0.],\n",
       "        [0., 0., 0., 0., 0., 0., 0., 0., 0., 0., 0., 0., 0., 0., 0., 0., 0., 0.,\n",
       "         0., 0., 0., 0., 0., 0., 0., 0., 0., 0., 0., 0., 0., 0., 0., 0., 0., 0.,\n",
       "         1., 0., 0., 0., 0., 0., 0., 0., 0., 0., 0., 0., 0., 0., 0., 0., 0., 0.,\n",
       "         0., 0., 0., 0., 0., 0., 0., 0., 0., 0., 0., 0., 0., 0., 0., 0., 0., 0.,\n",
       "         0., 0., 0., 0., 0., 0., 0., 0., 0., 0., 0., 0., 0., 0., 0., 0., 0., 0.,\n",
       "         0., 0., 0., 1., 0., 0., 0., 0., 0., 0., 0., 0., 0., 0., 0., 0.],\n",
       "        [0., 0., 0., 0., 0., 0., 0., 0., 0., 0., 0., 0., 0., 0., 1., 0., 0., 0.,\n",
       "         0., 0., 0., 0., 0., 0., 0., 0., 0., 0., 0., 0., 0., 0., 0., 0., 0., 0.,\n",
       "         0., 0., 0., 0., 0., 0., 0., 0., 0., 0., 0., 0., 0., 0., 0., 0., 0., 0.,\n",
       "         0., 0., 0., 0., 0., 1., 0., 0., 0., 0., 0., 0., 0., 0., 0., 0., 0., 0.,\n",
       "         0., 0., 0., 0., 0., 0., 0., 0., 0., 0., 0., 0., 0., 0., 0., 0., 1., 0.,\n",
       "         0., 0., 0., 1., 0., 0., 0., 0., 0., 0., 0., 0., 0., 0., 0., 0.],\n",
       "        [0., 0., 0., 0., 0., 0., 0., 0., 0., 0., 1., 0., 0., 0., 0., 0., 0., 0.,\n",
       "         0., 0., 0., 0., 0., 0., 0., 0., 0., 0., 0., 0., 0., 0., 0., 0., 0., 0.,\n",
       "         0., 0., 0., 0., 0., 0., 0., 0., 0., 0., 0., 0., 0., 0., 0., 0., 0., 0.,\n",
       "         0., 0., 0., 0., 0., 0., 0., 0., 0., 0., 0., 0., 0., 0., 0., 0., 0., 0.,\n",
       "         0., 0., 0., 0., 0., 0., 0., 0., 0., 0., 0., 0., 0., 0., 0., 0., 0., 0.,\n",
       "         0., 0., 0., 0., 0., 0., 0., 0., 0., 0., 0., 0., 0., 0., 0., 1.]],\n",
       "       grad_fn=<IndexBackward0>)"
      ]
     },
     "execution_count": 53,
     "metadata": {},
     "output_type": "execute_result"
    }
   ],
   "source": [
    "loader.nodes_features_tensor[idx]"
   ]
  },
  {
   "cell_type": "code",
   "execution_count": 54,
   "id": "0148e3f0",
   "metadata": {},
   "outputs": [
    {
     "data": {
      "text/plain": [
       "torch.Size([4, 106])"
      ]
     },
     "execution_count": 54,
     "metadata": {},
     "output_type": "execute_result"
    }
   ],
   "source": [
    "loader.nodes_features_tensor[idx].shape"
   ]
  },
  {
   "cell_type": "code",
   "execution_count": 55,
   "id": "e71487a4",
   "metadata": {},
   "outputs": [
    {
     "data": {
      "text/plain": [
       "torch.Size([145, 4, 106])"
      ]
     },
     "execution_count": 55,
     "metadata": {},
     "output_type": "execute_result"
    }
   ],
   "source": [
    "loader.nodes_features_tensor[loader.nodes_embedded_tensor].shape"
   ]
  },
  {
   "cell_type": "code",
   "execution_count": 56,
   "id": "1106097e",
   "metadata": {},
   "outputs": [
    {
     "data": {
      "text/plain": [
       "tensor([[[0., 0., 0.,  ..., 0., 0., 1.],\n",
       "         [0., 0., 0.,  ..., 0., 0., 0.],\n",
       "         [0., 0., 0.,  ..., 0., 1., 0.],\n",
       "         [0., 0., 0.,  ..., 0., 0., 0.]],\n",
       "\n",
       "        [[0., 0., 0.,  ..., 0., 0., 0.],\n",
       "         [0., 0., 0.,  ..., 0., 0., 1.],\n",
       "         [0., 0., 0.,  ..., 0., 0., 0.],\n",
       "         [0., 0., 0.,  ..., 0., 1., 0.]],\n",
       "\n",
       "        [[0., 0., 0.,  ..., 0., 1., 0.],\n",
       "         [0., 0., 0.,  ..., 0., 0., 0.],\n",
       "         [0., 0., 0.,  ..., 0., 0., 1.],\n",
       "         [0., 0., 0.,  ..., 0., 0., 0.]],\n",
       "\n",
       "        ...,\n",
       "\n",
       "        [[0., 0., 0.,  ..., 0., 0., 0.],\n",
       "         [0., 0., 0.,  ..., 0., 0., 0.],\n",
       "         [0., 0., 0.,  ..., 0., 0., 0.],\n",
       "         [0., 0., 0.,  ..., 0., 0., 1.]],\n",
       "\n",
       "        [[0., 0., 0.,  ..., 0., 1., 0.],\n",
       "         [0., 0., 0.,  ..., 0., 0., 0.],\n",
       "         [0., 0., 0.,  ..., 0., 0., 0.],\n",
       "         [0., 0., 0.,  ..., 0., 0., 0.]],\n",
       "\n",
       "        [[0., 1., 0.,  ..., 1., 0., 0.],\n",
       "         [0., 0., 0.,  ..., 0., 0., 0.],\n",
       "         [0., 0., 0.,  ..., 0., 0., 0.],\n",
       "         [0., 0., 0.,  ..., 0., 0., 0.]]], grad_fn=<IndexBackward0>)"
      ]
     },
     "execution_count": 56,
     "metadata": {},
     "output_type": "execute_result"
    }
   ],
   "source": [
    "loader.nodes_features_tensor[loader.nodes_embedded_tensor]"
   ]
  },
  {
   "cell_type": "markdown",
   "id": "083d176a",
   "metadata": {},
   "source": [
    "## Nodes Features (tags + attributes)"
   ]
  },
  {
   "cell_type": "code",
   "execution_count": 57,
   "id": "a24b2b66",
   "metadata": {},
   "outputs": [
    {
     "data": {
      "text/plain": [
       "tensor([[0., 0., 0.,  ..., 0., 0., 0.],\n",
       "        [0., 0., 0.,  ..., 0., 0., 0.],\n",
       "        [0., 0., 0.,  ..., 0., 0., 0.],\n",
       "        ...,\n",
       "        [0., 0., 0.,  ..., 0., 0., 0.],\n",
       "        [0., 0., 0.,  ..., 0., 1., 0.],\n",
       "        [0., 0., 0.,  ..., 0., 0., 0.]], requires_grad=True)"
      ]
     },
     "execution_count": 57,
     "metadata": {},
     "output_type": "execute_result"
    }
   ],
   "source": [
    "feat_tags_attrs = loader.nodes_features_tensor\n",
    "feat_tags_attrs"
   ]
  },
  {
   "cell_type": "code",
   "execution_count": 58,
   "id": "8d261e63",
   "metadata": {},
   "outputs": [
    {
     "data": {
      "text/plain": [
       "array([[0., 0., 0., ..., 0., 0., 0.],\n",
       "       [0., 0., 0., ..., 0., 0., 0.],\n",
       "       [0., 0., 0., ..., 0., 0., 0.],\n",
       "       ...,\n",
       "       [0., 0., 0., ..., 0., 0., 0.],\n",
       "       [0., 0., 0., ..., 0., 1., 0.],\n",
       "       [0., 0., 0., ..., 0., 0., 0.]], dtype=float32)"
      ]
     },
     "execution_count": 58,
     "metadata": {},
     "output_type": "execute_result"
    }
   ],
   "source": [
    "X_feat_tags_attrs = feat_tags_attrs.detach().numpy()\n",
    "X_feat_tags_attrs"
   ]
  },
  {
   "cell_type": "code",
   "execution_count": 59,
   "id": "3d19468e",
   "metadata": {},
   "outputs": [
    {
     "data": {
      "text/plain": [
       "array([[0. , 0. , 0. , ..., 0. , 0. , 0. ],\n",
       "       [0. , 0. , 0. , ..., 0. , 0. , 0. ],\n",
       "       [0. , 0. , 0. , ..., 0. , 0. , 0. ],\n",
       "       ...,\n",
       "       [0. , 0. , 0. , ..., 0. , 0. , 0. ],\n",
       "       [0. , 0. , 0. , ..., 0. , 0.5, 0. ],\n",
       "       [0. , 0. , 0. , ..., 0. , 0. , 0. ]], dtype=float32)"
      ]
     },
     "execution_count": 59,
     "metadata": {},
     "output_type": "execute_result"
    }
   ],
   "source": [
    "X_feat_tags_attrs = normalize(X_feat_tags_attrs, norm='l1', axis=1)\n",
    "X_feat_tags_attrs"
   ]
  },
  {
   "cell_type": "markdown",
   "id": "2c424311",
   "metadata": {},
   "source": [
    "## Nodes Features (node2vec)"
   ]
  },
  {
   "cell_type": "code",
   "execution_count": 60,
   "id": "2268630a",
   "metadata": {},
   "outputs": [
    {
     "data": {
      "text/plain": [
       "torch.Size([145, 106])"
      ]
     },
     "execution_count": 60,
     "metadata": {},
     "output_type": "execute_result"
    }
   ],
   "source": [
    "feat_node2vec = loader.nodes_features_tensor[loader.nodes_embedded_tensor].sum(dim=1)\n",
    "feat_node2vec.shape"
   ]
  },
  {
   "cell_type": "code",
   "execution_count": 61,
   "id": "aa9017c8",
   "metadata": {},
   "outputs": [
    {
     "data": {
      "text/plain": [
       "(145, 106)"
      ]
     },
     "execution_count": 61,
     "metadata": {},
     "output_type": "execute_result"
    }
   ],
   "source": [
    "X_feat_node2vec = feat_node2vec.detach().numpy()\n",
    "X_feat_node2vec.shape"
   ]
  },
  {
   "cell_type": "code",
   "execution_count": 62,
   "id": "5235b813",
   "metadata": {},
   "outputs": [
    {
     "data": {
      "text/plain": [
       "array([[0.        , 0.        , 0.        , ..., 0.        , 0.11111111,\n",
       "        0.11111111],\n",
       "       [0.        , 0.        , 0.        , ..., 0.        , 0.11111111,\n",
       "        0.11111111],\n",
       "       [0.        , 0.        , 0.        , ..., 0.        , 0.11111111,\n",
       "        0.11111111],\n",
       "       ...,\n",
       "       [0.        , 0.        , 0.        , ..., 0.        , 0.        ,\n",
       "        0.08333334],\n",
       "       [0.        , 0.        , 0.        , ..., 0.        , 0.09090909,\n",
       "        0.        ],\n",
       "       [0.        , 0.07692308, 0.        , ..., 0.07692308, 0.        ,\n",
       "        0.        ]], dtype=float32)"
      ]
     },
     "execution_count": 62,
     "metadata": {},
     "output_type": "execute_result"
    }
   ],
   "source": [
    "X_feat_node2vec = normalize(X_feat_node2vec, norm='l1', axis=1)\n",
    "X_feat_node2vec"
   ]
  },
  {
   "cell_type": "markdown",
   "id": "e76f027b",
   "metadata": {},
   "source": [
    "## Nodes Features (all: tags + attributes + node2vec)"
   ]
  },
  {
   "cell_type": "code",
   "execution_count": 63,
   "id": "435fdc51",
   "metadata": {},
   "outputs": [
    {
     "data": {
      "text/plain": [
       "(145, 212)"
      ]
     },
     "execution_count": 63,
     "metadata": {},
     "output_type": "execute_result"
    }
   ],
   "source": [
    "X = np.concatenate((X_feat_tags_attrs, X_feat_node2vec), axis=1)\n",
    "X.shape"
   ]
  },
  {
   "cell_type": "code",
   "execution_count": 64,
   "id": "b9e7879a",
   "metadata": {},
   "outputs": [
    {
     "data": {
      "text/plain": [
       "array([[0.        , 0.        , 0.        , ..., 0.        , 0.10540926,\n",
       "        0.10540926],\n",
       "       [0.        , 0.        , 0.        , ..., 0.        , 0.14213382,\n",
       "        0.14213382],\n",
       "       [0.        , 0.        , 0.        , ..., 0.        , 0.16666666,\n",
       "        0.16666666],\n",
       "       ...,\n",
       "       [0.        , 0.        , 0.        , ..., 0.        , 0.        ,\n",
       "        0.10660036],\n",
       "       [0.        , 0.        , 0.        , ..., 0.        , 0.11508708,\n",
       "        0.        ],\n",
       "       [0.        , 0.        , 0.        , ..., 0.09925836, 0.        ,\n",
       "        0.        ]], dtype=float32)"
      ]
     },
     "execution_count": 64,
     "metadata": {},
     "output_type": "execute_result"
    }
   ],
   "source": [
    "X = normalize(X, norm='l2', axis=1)\n",
    "X"
   ]
  },
  {
   "cell_type": "markdown",
   "id": "3803c1a2",
   "metadata": {},
   "source": [
    "## DBSCAN Clustering"
   ]
  },
  {
   "cell_type": "code",
   "execution_count": 65,
   "id": "022cef0a",
   "metadata": {},
   "outputs": [
    {
     "data": {
      "text/html": [
       "<style>#sk-container-id-3 {color: black;background-color: white;}#sk-container-id-3 pre{padding: 0;}#sk-container-id-3 div.sk-toggleable {background-color: white;}#sk-container-id-3 label.sk-toggleable__label {cursor: pointer;display: block;width: 100%;margin-bottom: 0;padding: 0.3em;box-sizing: border-box;text-align: center;}#sk-container-id-3 label.sk-toggleable__label-arrow:before {content: \"▸\";float: left;margin-right: 0.25em;color: #696969;}#sk-container-id-3 label.sk-toggleable__label-arrow:hover:before {color: black;}#sk-container-id-3 div.sk-estimator:hover label.sk-toggleable__label-arrow:before {color: black;}#sk-container-id-3 div.sk-toggleable__content {max-height: 0;max-width: 0;overflow: hidden;text-align: left;background-color: #f0f8ff;}#sk-container-id-3 div.sk-toggleable__content pre {margin: 0.2em;color: black;border-radius: 0.25em;background-color: #f0f8ff;}#sk-container-id-3 input.sk-toggleable__control:checked~div.sk-toggleable__content {max-height: 200px;max-width: 100%;overflow: auto;}#sk-container-id-3 input.sk-toggleable__control:checked~label.sk-toggleable__label-arrow:before {content: \"▾\";}#sk-container-id-3 div.sk-estimator input.sk-toggleable__control:checked~label.sk-toggleable__label {background-color: #d4ebff;}#sk-container-id-3 div.sk-label input.sk-toggleable__control:checked~label.sk-toggleable__label {background-color: #d4ebff;}#sk-container-id-3 input.sk-hidden--visually {border: 0;clip: rect(1px 1px 1px 1px);clip: rect(1px, 1px, 1px, 1px);height: 1px;margin: -1px;overflow: hidden;padding: 0;position: absolute;width: 1px;}#sk-container-id-3 div.sk-estimator {font-family: monospace;background-color: #f0f8ff;border: 1px dotted black;border-radius: 0.25em;box-sizing: border-box;margin-bottom: 0.5em;}#sk-container-id-3 div.sk-estimator:hover {background-color: #d4ebff;}#sk-container-id-3 div.sk-parallel-item::after {content: \"\";width: 100%;border-bottom: 1px solid gray;flex-grow: 1;}#sk-container-id-3 div.sk-label:hover label.sk-toggleable__label {background-color: #d4ebff;}#sk-container-id-3 div.sk-serial::before {content: \"\";position: absolute;border-left: 1px solid gray;box-sizing: border-box;top: 0;bottom: 0;left: 50%;z-index: 0;}#sk-container-id-3 div.sk-serial {display: flex;flex-direction: column;align-items: center;background-color: white;padding-right: 0.2em;padding-left: 0.2em;position: relative;}#sk-container-id-3 div.sk-item {position: relative;z-index: 1;}#sk-container-id-3 div.sk-parallel {display: flex;align-items: stretch;justify-content: center;background-color: white;position: relative;}#sk-container-id-3 div.sk-item::before, #sk-container-id-3 div.sk-parallel-item::before {content: \"\";position: absolute;border-left: 1px solid gray;box-sizing: border-box;top: 0;bottom: 0;left: 50%;z-index: -1;}#sk-container-id-3 div.sk-parallel-item {display: flex;flex-direction: column;z-index: 1;position: relative;background-color: white;}#sk-container-id-3 div.sk-parallel-item:first-child::after {align-self: flex-end;width: 50%;}#sk-container-id-3 div.sk-parallel-item:last-child::after {align-self: flex-start;width: 50%;}#sk-container-id-3 div.sk-parallel-item:only-child::after {width: 0;}#sk-container-id-3 div.sk-dashed-wrapped {border: 1px dashed gray;margin: 0 0.4em 0.5em 0.4em;box-sizing: border-box;padding-bottom: 0.4em;background-color: white;}#sk-container-id-3 div.sk-label label {font-family: monospace;font-weight: bold;display: inline-block;line-height: 1.2em;}#sk-container-id-3 div.sk-label-container {text-align: center;}#sk-container-id-3 div.sk-container {/* jupyter's `normalize.less` sets `[hidden] { display: none; }` but bootstrap.min.css set `[hidden] { display: none !important; }` so we also need the `!important` here to be able to override the default hidden behavior on the sphinx rendered scikit-learn.org. See: https://github.com/scikit-learn/scikit-learn/issues/21755 */display: inline-block !important;position: relative;}#sk-container-id-3 div.sk-text-repr-fallback {display: none;}</style><div id=\"sk-container-id-3\" class=\"sk-top-container\"><div class=\"sk-text-repr-fallback\"><pre>DBSCAN()</pre><b>In a Jupyter environment, please rerun this cell to show the HTML representation or trust the notebook. <br />On GitHub, the HTML representation is unable to render, please try loading this page with nbviewer.org.</b></div><div class=\"sk-container\" hidden><div class=\"sk-item\"><div class=\"sk-estimator sk-toggleable\"><input class=\"sk-toggleable__control sk-hidden--visually\" id=\"sk-estimator-id-3\" type=\"checkbox\" checked><label for=\"sk-estimator-id-3\" class=\"sk-toggleable__label sk-toggleable__label-arrow\">DBSCAN</label><div class=\"sk-toggleable__content\"><pre>DBSCAN()</pre></div></div></div></div></div>"
      ],
      "text/plain": [
       "DBSCAN()"
      ]
     },
     "execution_count": 65,
     "metadata": {},
     "output_type": "execute_result"
    }
   ],
   "source": [
    "dbscan = DBSCAN()\n",
    "dbscan.fit(X)"
   ]
  },
  {
   "cell_type": "code",
   "execution_count": 66,
   "id": "3a36894a",
   "metadata": {},
   "outputs": [
    {
     "data": {
      "text/plain": [
       "0    10\n",
       "1    10\n",
       "2    10\n",
       "3    10\n",
       "5    10\n",
       "4     8\n",
       "dtype: int64"
      ]
     },
     "execution_count": 66,
     "metadata": {},
     "output_type": "execute_result"
    }
   ],
   "source": [
    "labels = pd.Series(dbscan.labels_)\n",
    "labels_counts = labels.value_counts()\n",
    "labels_counts[labels_counts.index > -1]"
   ]
  },
  {
   "cell_type": "code",
   "execution_count": 67,
   "id": "4aad8365",
   "metadata": {
    "scrolled": false
   },
   "outputs": [
    {
     "name": "stdout",
     "output_type": "stream",
     "text": [
      "[\"0.10 -> 0.9: [('tag', 'div'), ('class', 'col-md-8')]\"\n",
      " \"0.103 -> 0.102: [('tag', 'small'), ('class', 'author'), ('itemprop', 'author')]\"\n",
      " \"0.104 -> 0.102: [('tag', 'a'), ('href', '/author/Eleanor-Roosevelt')]\"\n",
      " \"0.106 -> 0.105: [('tag', 'meta'), ('class', 'keywords'), ('itemprop', 'keywords'), ('content', 'misattributed-eleanor-roosevelt')]\"\n",
      " \"0.107 -> 0.105: [('tag', 'a'), ('class', 'tag'), ('href', '/tag/misattributed-eleanor-roosevelt/page/1/')]\"\n",
      " \"0.11 -> 0.10: [('tag', 'h1')]\"\n",
      " \"0.112 -> 0.110: [('tag', 'a'), ('href', '/author/Steve-Martin')]\"\n",
      " \"0.114 -> 0.113: [('tag', 'meta'), ('class', 'keywords'), ('itemprop', 'keywords'), ('content', 'humor,obvious,simile')]\"\n",
      " \"0.115 -> 0.113: [('tag', 'a'), ('class', 'tag'), ('href', '/tag/humor/page/1/')]\"\n",
      " \"0.116 -> 0.113: [('tag', 'a'), ('class', 'tag'), ('href', '/tag/obvious/page/1/')]\"\n",
      " \"0.117 -> 0.113: [('tag', 'a'), ('class', 'tag'), ('href', '/tag/simile/page/1/')]\"\n",
      " \"0.118 -> 0.17: [('tag', 'nav')]\"\n",
      " \"0.119 -> 0.118: [('tag', 'ul'), ('class', 'pager')]\"\n",
      " \"0.12 -> 0.11: [('tag', 'a'), ('href', '/'), ('style', 'text-decoration: none')]\"\n",
      " \"0.120 -> 0.119: [('tag', 'li'), ('class', 'next')]\"\n",
      " \"0.121 -> 0.120: [('tag', 'a'), ('href', '/page/2/')]\"\n",
      " \"0.122 -> 0.121: [('tag', 'span'), ('aria-hidden', 'true')]\"\n",
      " \"0.123 -> 0.16: [('tag', 'div'), ('class', 'col-md-4'), ('class', 'tags-box')]\"\n",
      " \"0.124 -> 0.123: [('tag', 'h2')]\"\n",
      " \"0.126 -> 0.125: [('tag', 'a'), ('class', 'tag'), ('style', 'font-size: 28px'), ('href', '/tag/love/')]\"\n",
      " \"0.128 -> 0.127: [('tag', 'a'), ('class', 'tag'), ('style', 'font-size: 26px'), ('href', '/tag/inspirational/')]\"\n",
      " \"0.13 -> 0.9: [('tag', 'div'), ('class', 'col-md-4')]\"\n",
      " \"0.130 -> 0.129: [('tag', 'a'), ('class', 'tag'), ('style', 'font-size: 26px'), ('href', '/tag/life/')]\"\n",
      " \"0.132 -> 0.131: [('tag', 'a'), ('class', 'tag'), ('style', 'font-size: 24px'), ('href', '/tag/humor/')]\"\n",
      " \"0.134 -> 0.133: [('tag', 'a'), ('class', 'tag'), ('style', 'font-size: 22px'), ('href', '/tag/books/')]\"\n",
      " \"0.136 -> 0.135: [('tag', 'a'), ('class', 'tag'), ('style', 'font-size: 14px'), ('href', '/tag/reading/')]\"\n",
      " \"0.138 -> 0.137: [('tag', 'a'), ('class', 'tag'), ('style', 'font-size: 10px'), ('href', '/tag/friendship/')]\"\n",
      " \"0.14 -> 0.13: [('tag', 'p')]\"\n",
      " \"0.140 -> 0.139: [('tag', 'a'), ('class', 'tag'), ('style', 'font-size: 8px'), ('href', '/tag/friends/')]\"\n",
      " \"0.142 -> 0.141: [('tag', 'a'), ('class', 'tag'), ('style', 'font-size: 8px'), ('href', '/tag/truth/')]\"\n",
      " \"0.144 -> 0.143: [('tag', 'a'), ('class', 'tag'), ('style', 'font-size: 6px'), ('href', '/tag/simile/')]\"\n",
      " \"0.145 -> 0.7: [('tag', 'footer'), ('class', 'footer')]\"\n",
      " \"0.146 -> 0.145: [('tag', 'div'), ('class', 'container')]\"\n",
      " \"0.147 -> 0.146: [('tag', 'p'), ('class', 'text-muted')]\"\n",
      " \"0.148 -> 0.147: [('tag', 'a'), ('href', 'https://www.goodreads.com/quotes')]\"\n",
      " \"0.149 -> 0.146: [('tag', 'p'), ('class', 'copyright')]\"\n",
      " \"0.15 -> 0.14: [('tag', 'a'), ('href', '/login')]\"\n",
      " \"0.150 -> 0.149: [('tag', 'span'), ('class', 'sh-red')]\"\n",
      " \"0.151 -> 0.149: [('tag', 'a'), ('href', 'https://scrapinghub.com')]\"\n",
      " \"0.16 -> 0.8: [('tag', 'div'), ('class', 'row')]\"\n",
      " \"0.17 -> 0.16: [('tag', 'div'), ('class', 'col-md-8')]\"\n",
      " \"0.22 -> 0.20: [('tag', 'a'), ('href', '/author/Albert-Einstein')]\"\n",
      " \"0.24 -> 0.23: [('tag', 'meta'), ('class', 'keywords'), ('itemprop', 'keywords'), ('content', 'change,deep-thoughts,thinking,world')]\"\n",
      " \"0.25 -> 0.23: [('tag', 'a'), ('class', 'tag'), ('href', '/tag/change/page/1/')]\"\n",
      " \"0.26 -> 0.23: [('tag', 'a'), ('class', 'tag'), ('href', '/tag/deep-thoughts/page/1/')]\"\n",
      " \"0.27 -> 0.23: [('tag', 'a'), ('class', 'tag'), ('href', '/tag/thinking/page/1/')]\"\n",
      " \"0.28 -> 0.23: [('tag', 'a'), ('class', 'tag'), ('href', '/tag/world/page/1/')]\"\n",
      " \"0.33 -> 0.31: [('tag', 'a'), ('href', '/author/J-K-Rowling')]\"\n",
      " \"0.35 -> 0.34: [('tag', 'meta'), ('class', 'keywords'), ('itemprop', 'keywords'), ('content', 'abilities,choices')]\"\n",
      " \"0.36 -> 0.34: [('tag', 'a'), ('class', 'tag'), ('href', '/tag/abilities/page/1/')]\"]\n",
      "\n",
      "\n",
      "\n",
      "[\"0.100 -> 0.17: [('tag', 'div'), ('class', 'quote'), ('itemscope', ''), ('itemtype', 'http://schema.org/CreativeWork')]\"\n",
      " \"0.108 -> 0.17: [('tag', 'div'), ('class', 'quote'), ('itemscope', ''), ('itemtype', 'http://schema.org/CreativeWork')]\"\n",
      " \"0.18 -> 0.17: [('tag', 'div'), ('class', 'quote'), ('itemscope', ''), ('itemtype', 'http://schema.org/CreativeWork')]\"\n",
      " \"0.29 -> 0.17: [('tag', 'div'), ('class', 'quote'), ('itemscope', ''), ('itemtype', 'http://schema.org/CreativeWork')]\"\n",
      " \"0.38 -> 0.17: [('tag', 'div'), ('class', 'quote'), ('itemscope', ''), ('itemtype', 'http://schema.org/CreativeWork')]\"\n",
      " \"0.50 -> 0.17: [('tag', 'div'), ('class', 'quote'), ('itemscope', ''), ('itemtype', 'http://schema.org/CreativeWork')]\"\n",
      " \"0.61 -> 0.17: [('tag', 'div'), ('class', 'quote'), ('itemscope', ''), ('itemtype', 'http://schema.org/CreativeWork')]\"\n",
      " \"0.70 -> 0.17: [('tag', 'div'), ('class', 'quote'), ('itemscope', ''), ('itemtype', 'http://schema.org/CreativeWork')]\"\n",
      " \"0.80 -> 0.17: [('tag', 'div'), ('class', 'quote'), ('itemscope', ''), ('itemtype', 'http://schema.org/CreativeWork')]\"\n",
      " \"0.89 -> 0.17: [('tag', 'div'), ('class', 'quote'), ('itemscope', ''), ('itemtype', 'http://schema.org/CreativeWork')]\"]\n",
      "\n",
      "\n",
      "\n",
      "[\"0.101 -> 0.100: [('tag', 'span'), ('class', 'text'), ('itemprop', 'text')]\"\n",
      " \"0.109 -> 0.108: [('tag', 'span'), ('class', 'text'), ('itemprop', 'text')]\"\n",
      " \"0.19 -> 0.18: [('tag', 'span'), ('class', 'text'), ('itemprop', 'text')]\"\n",
      " \"0.30 -> 0.29: [('tag', 'span'), ('class', 'text'), ('itemprop', 'text')]\"\n",
      " \"0.39 -> 0.38: [('tag', 'span'), ('class', 'text'), ('itemprop', 'text')]\"\n",
      " \"0.51 -> 0.50: [('tag', 'span'), ('class', 'text'), ('itemprop', 'text')]\"\n",
      " \"0.62 -> 0.61: [('tag', 'span'), ('class', 'text'), ('itemprop', 'text')]\"\n",
      " \"0.71 -> 0.70: [('tag', 'span'), ('class', 'text'), ('itemprop', 'text')]\"\n",
      " \"0.81 -> 0.80: [('tag', 'span'), ('class', 'text'), ('itemprop', 'text')]\"\n",
      " \"0.90 -> 0.89: [('tag', 'span'), ('class', 'text'), ('itemprop', 'text')]\"]\n",
      "\n",
      "\n",
      "\n",
      "[\"0.102 -> 0.100: [('tag', 'span')]\" \"0.110 -> 0.108: [('tag', 'span')]\"\n",
      " \"0.20 -> 0.18: [('tag', 'span')]\" \"0.31 -> 0.29: [('tag', 'span')]\"\n",
      " \"0.40 -> 0.38: [('tag', 'span')]\" \"0.52 -> 0.50: [('tag', 'span')]\"\n",
      " \"0.63 -> 0.61: [('tag', 'span')]\" \"0.72 -> 0.70: [('tag', 'span')]\"\n",
      " \"0.82 -> 0.80: [('tag', 'span')]\" \"0.91 -> 0.89: [('tag', 'span')]\"]\n",
      "\n",
      "\n",
      "\n",
      "[\"0.125 -> 0.123: [('tag', 'span'), ('class', 'tag-item')]\"\n",
      " \"0.127 -> 0.123: [('tag', 'span'), ('class', 'tag-item')]\"\n",
      " \"0.129 -> 0.123: [('tag', 'span'), ('class', 'tag-item')]\"\n",
      " \"0.131 -> 0.123: [('tag', 'span'), ('class', 'tag-item')]\"\n",
      " \"0.133 -> 0.123: [('tag', 'span'), ('class', 'tag-item')]\"\n",
      " \"0.135 -> 0.123: [('tag', 'span'), ('class', 'tag-item')]\"\n",
      " \"0.137 -> 0.123: [('tag', 'span'), ('class', 'tag-item')]\"\n",
      " \"0.139 -> 0.123: [('tag', 'span'), ('class', 'tag-item')]\"\n",
      " \"0.141 -> 0.123: [('tag', 'span'), ('class', 'tag-item')]\"\n",
      " \"0.143 -> 0.123: [('tag', 'span'), ('class', 'tag-item')]\"]\n",
      "\n",
      "\n",
      "\n",
      "[\"0.105 -> 0.100: [('tag', 'div'), ('class', 'tags')]\"\n",
      " \"0.113 -> 0.108: [('tag', 'div'), ('class', 'tags')]\"\n",
      " \"0.23 -> 0.18: [('tag', 'div'), ('class', 'tags')]\"\n",
      " \"0.34 -> 0.29: [('tag', 'div'), ('class', 'tags')]\"\n",
      " \"0.43 -> 0.38: [('tag', 'div'), ('class', 'tags')]\"\n",
      " \"0.55 -> 0.50: [('tag', 'div'), ('class', 'tags')]\"\n",
      " \"0.66 -> 0.61: [('tag', 'div'), ('class', 'tags')]\"\n",
      " \"0.75 -> 0.70: [('tag', 'div'), ('class', 'tags')]\"\n",
      " \"0.85 -> 0.80: [('tag', 'div'), ('class', 'tags')]\"\n",
      " \"0.94 -> 0.89: [('tag', 'div'), ('class', 'tags')]\"]\n",
      "\n",
      "\n",
      "\n"
     ]
    }
   ],
   "source": [
    "for i in labels_counts[labels_counts.index > -1].index.tolist():\n",
    "    top_label = labels_counts.index.values[i]\n",
    "    top_label\n",
    "\n",
    "    top_nodes_idx = labels[labels == top_label].index.values\n",
    "    top_nodes_idx\n",
    "\n",
    "    nodes = np.array(loader.nodes)[top_nodes_idx]\n",
    "    nodes = sorted(nodes, key=lambda n: n.graph_node_id)\n",
    "#     nodes = list(map(lambda n: f'[{loader.graphs_id_file_map.get(n.graph_id)}] {n.graph_node_id} -> {n.graph_parent_id}: {n.features}', nodes))\n",
    "    nodes = list(map(lambda n: f'{n.graph_node_id} -> {n.graph_parent_id}: {n.features}', nodes))\n",
    "    print(np.array(nodes[:50]))\n",
    "    print('\\n\\n')"
   ]
  },
  {
   "cell_type": "code",
   "execution_count": null,
   "id": "09fbec41",
   "metadata": {},
   "outputs": [],
   "source": []
  }
 ],
 "metadata": {
  "kernelspec": {
   "display_name": "Python 3 (ipykernel)",
   "language": "python",
   "name": "python3"
  },
  "language_info": {
   "codemirror_mode": {
    "name": "ipython",
    "version": 3
   },
   "file_extension": ".py",
   "mimetype": "text/x-python",
   "name": "python",
   "nbconvert_exporter": "python",
   "pygments_lexer": "ipython3",
   "version": "3.10.9"
  }
 },
 "nbformat": 4,
 "nbformat_minor": 5
}
