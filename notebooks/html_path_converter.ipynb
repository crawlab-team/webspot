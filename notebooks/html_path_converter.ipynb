{
 "cells": [
  {
   "cell_type": "code",
   "execution_count": 12,
   "id": "cb4f46fa",
   "metadata": {},
   "outputs": [],
   "source": [
    "import init\n",
    "import numpy as np"
   ]
  },
  {
   "cell_type": "code",
   "execution_count": 2,
   "id": "144bc6fe",
   "metadata": {},
   "outputs": [],
   "source": [
    "from dataset.graph_loader import GraphLoader"
   ]
  },
  {
   "cell_type": "code",
   "execution_count": 4,
   "id": "f00cea74",
   "metadata": {},
   "outputs": [
    {
     "name": "stdout",
     "output_type": "stream",
     "text": [
      "Graph(num_nodes=145, num_edges=145,\n",
      "      ndata_schemes={'feat': Scheme(shape=(106,), dtype=torch.float32)}\n",
      "      edata_schemes={})\n"
     ]
    },
    {
     "name": "stderr",
     "output_type": "stream",
     "text": [
      "/Users/marvzhang/projects/tikazyq/auto-html/venv/lib/python3.10/site-packages/sklearn/preprocessing/_label.py:116: DataConversionWarning: A column-vector y was passed when a 1d array was expected. Please change the shape of y to (n_samples, ), for example using ravel().\n",
      "  y = column_or_1d(y, warn=True)\n"
     ]
    }
   ],
   "source": [
    "data_path = '/Users/marvzhang/projects/tikazyq/auto-html/data/quotes.toscrape.com/json/http___quotes_toscrape_com_.json'\n",
    "loader = GraphLoader(data_path)\n",
    "loader.run()"
   ]
  },
  {
   "cell_type": "code",
   "execution_count": 7,
   "id": "cb4d633e",
   "metadata": {},
   "outputs": [
    {
     "data": {
      "text/plain": [
       "array([ 1., 10.,  2.,  2.,  2.,  1.,  1.,  1., 10.,  1.,  1., 10.,  2.,\n",
       "        1., 40., 10., 10.,  1., 10.,  1.,  1.,  1.,  1.,  1.,  1.,  1.,\n",
       "        1.,  1.,  1.,  1.,  1.,  3.,  1.,  1.,  1.,  1.,  1.,  1.,  1.,\n",
       "        1.,  1.,  1.,  1.,  1.,  1.,  1.,  1.,  1.,  1.,  1.,  1.,  1.,\n",
       "        1.,  1.,  1.,  1.,  2.,  1.,  3.,  1.,  2.,  1.,  1.,  1.,  1.,\n",
       "        1.,  1.,  1.,  1.,  1.,  1.,  1.,  1.,  1.,  1.,  1.,  1.,  1.,\n",
       "        1., 10., 10., 10., 10., 10.,  1.,  1.,  1.,  1.,  2.,  1.,  1.,\n",
       "        2.,  1., 55.,  1., 28.,  1.,  1.,  1.,  1., 10.,  1.,  3., 10.,\n",
       "       32.,  1.], dtype=float32)"
      ]
     },
     "execution_count": 7,
     "metadata": {},
     "output_type": "execute_result"
    }
   ],
   "source": [
    "features_counts = loader.nodes_features_tensor.detach().numpy().sum(axis=0)\n",
    "features_counts"
   ]
  },
  {
   "cell_type": "code",
   "execution_count": 58,
   "id": "f8e7645c",
   "metadata": {},
   "outputs": [
    {
     "data": {
      "text/plain": [
       "array([  0,   5,   6,   7,   9,  10,  13,  17,  19,  20,  21,  22,  23,\n",
       "        24,  25,  26,  27,  28,  29,  30,  32,  33,  34,  35,  36,  37,\n",
       "        38,  39,  40,  41,  42,  43,  44,  45,  46,  47,  48,  49,  50,\n",
       "        51,  52,  53,  54,  55,  57,  59,  61,  62,  63,  64,  65,  66,\n",
       "        67,  68,  69,  70,  71,  72,  73,  74,  75,  76,  77,  78,  84,\n",
       "        85,  86,  87,  89,  90,  92,  94,  96,  97,  98,  99, 101, 105])"
      ]
     },
     "execution_count": 58,
     "metadata": {},
     "output_type": "execute_result"
    }
   ],
   "source": [
    "unique_features_idx = np.argwhere(features_counts == 1).T[0]\n",
    "unique_features_idx"
   ]
  },
  {
   "cell_type": "code",
   "execution_count": 60,
   "id": "a107e5c6",
   "metadata": {
    "collapsed": true
   },
   "outputs": [
    {
     "data": {
      "text/plain": [
       "array([{'tag=body': 1},\n",
       "       {'tag=a': 1, 'href=/': 1, 'style=text-decoration: none': 1},\n",
       "       {'tag=div': 1, 'class=col-md-4': 1}, {'tag=p': 1},\n",
       "       {'tag=div': 1, 'class=row': 1},\n",
       "       {'tag=div': 1, 'class=col-md-8': 1}, {'tag=span': 1},\n",
       "       {'tag=meta': 1, 'class=keywords': 1, 'itemprop=keywords': 1, 'content=change,deep-thoughts,thinking,world': 1},\n",
       "       {'tag=a': 1, 'class=tag': 1, 'href=/tag/deep-thoughts/page/1/': 1},\n",
       "       {'tag=a': 1, 'class=tag': 1, 'href=/tag/thinking/page/1/': 1},\n",
       "       {'tag=a': 1, 'class=tag': 1, 'href=/tag/world/page/1/': 1},\n",
       "       {'tag=div': 1, 'class=quote': 1, 'itemscope=': 1, 'itemtype=http://schema.org/CreativeWork': 1},\n",
       "       {'tag=span': 1, 'class=text': 1, 'itemprop=text': 1},\n",
       "       {'tag=span': 1},\n",
       "       {'tag=small': 1, 'class=author': 1, 'itemprop=author': 1},\n",
       "       {'tag=a': 1, 'href=/author/J-K-Rowling': 1},\n",
       "       {'tag=div': 1, 'class=tags': 1},\n",
       "       {'tag=meta': 1, 'class=keywords': 1, 'itemprop=keywords': 1, 'content=abilities,choices': 1},\n",
       "       {'tag=a': 1, 'class=tag': 1, 'href=/tag/abilities/page/1/': 1},\n",
       "       {'tag=a': 1, 'class=tag': 1, 'href=/tag/choices/page/1/': 1},\n",
       "       {'tag=span': 1, 'class=text': 1, 'itemprop=text': 1},\n",
       "       {'tag=span': 1},\n",
       "       {'tag=small': 1, 'class=author': 1, 'itemprop=author': 1},\n",
       "       {'tag=a': 1, 'href=/author/Albert-Einstein': 1},\n",
       "       {'tag=div': 1, 'class=tags': 1},\n",
       "       {'tag=meta': 1, 'class=keywords': 1, 'itemprop=keywords': 1, 'content=inspirational,life,live,miracle,miracles': 1},\n",
       "       {'tag=a': 1, 'class=tag': 1, 'href=/tag/inspirational/page/1/': 1},\n",
       "       {'tag=a': 1, 'class=tag': 1, 'href=/tag/life/page/1/': 1},\n",
       "       {'tag=a': 1, 'class=tag': 1, 'href=/tag/live/page/1/': 1},\n",
       "       {'tag=a': 1, 'class=tag': 1, 'href=/tag/miracle/page/1/': 1},\n",
       "       {'tag=a': 1, 'class=tag': 1, 'href=/tag/miracles/page/1/': 1},\n",
       "       {'tag=div': 1, 'class=quote': 1, 'itemscope=': 1, 'itemtype=http://schema.org/CreativeWork': 1},\n",
       "       {'tag=span': 1, 'class=text': 1, 'itemprop=text': 1},\n",
       "       {'tag=span': 1},\n",
       "       {'tag=small': 1, 'class=author': 1, 'itemprop=author': 1},\n",
       "       {'tag=a': 1, 'href=/author/Jane-Austen': 1},\n",
       "       {'tag=div': 1, 'class=tags': 1},\n",
       "       {'tag=meta': 1, 'class=keywords': 1, 'itemprop=keywords': 1, 'content=aliteracy,books,classic,humor': 1},\n",
       "       {'tag=a': 1, 'class=tag': 1, 'href=/tag/aliteracy/page/1/': 1},\n",
       "       {'tag=a': 1, 'class=tag': 1, 'href=/tag/books/page/1/': 1},\n",
       "       {'tag=a': 1, 'class=tag': 1, 'href=/tag/classic/page/1/': 1},\n",
       "       {'tag=a': 1, 'class=tag': 1, 'href=/tag/humor/page/1/': 1},\n",
       "       {'tag=div': 1, 'class=quote': 1, 'itemscope=': 1, 'itemtype=http://schema.org/CreativeWork': 1},\n",
       "       {'tag=span': 1, 'class=text': 1, 'itemprop=text': 1},\n",
       "       {'tag=small': 1, 'class=author': 1, 'itemprop=author': 1},\n",
       "       {'tag=div': 1, 'class=tags': 1},\n",
       "       {'tag=a': 1, 'class=tag': 1, 'href=/tag/be-yourself/page/1/': 1},\n",
       "       {'tag=a': 1, 'class=tag': 1, 'href=/tag/inspirational/page/1/': 1},\n",
       "       {'tag=div': 1, 'class=quote': 1, 'itemscope=': 1, 'itemtype=http://schema.org/CreativeWork': 1},\n",
       "       {'tag=span': 1, 'class=text': 1, 'itemprop=text': 1},\n",
       "       {'tag=span': 1},\n",
       "       {'tag=small': 1, 'class=author': 1, 'itemprop=author': 1},\n",
       "       {'tag=a': 1, 'href=/author/Albert-Einstein': 1},\n",
       "       {'tag=div': 1, 'class=tags': 1},\n",
       "       {'tag=meta': 1, 'class=keywords': 1, 'itemprop=keywords': 1, 'content=adulthood,success,value': 1},\n",
       "       {'tag=a': 1, 'class=tag': 1, 'href=/tag/adulthood/page/1/': 1},\n",
       "       {'tag=a': 1, 'class=tag': 1, 'href=/tag/success/page/1/': 1},\n",
       "       {'tag=a': 1, 'class=tag': 1, 'href=/tag/value/page/1/': 1},\n",
       "       {'tag=div': 1, 'class=quote': 1, 'itemscope=': 1, 'itemtype=http://schema.org/CreativeWork': 1},\n",
       "       {'tag=span': 1, 'class=text': 1, 'itemprop=text': 1},\n",
       "       {'tag=span': 1},\n",
       "       {'tag=small': 1, 'class=author': 1, 'itemprop=author': 1},\n",
       "       {'tag=a': 1, 'href=/author/Andre-Gide': 1},\n",
       "       {'tag=div': 1, 'class=tags': 1}, {'tag=span': 1},\n",
       "       {'tag=small': 1, 'class=author': 1, 'itemprop=author': 1},\n",
       "       {'tag=a': 1, 'href=/author/Thomas-A-Edison': 1},\n",
       "       {'tag=div': 1, 'class=tags': 1},\n",
       "       {'tag=a': 1, 'class=tag': 1, 'href=/tag/edison/page/1/': 1},\n",
       "       {'tag=a': 1, 'class=tag': 1, 'href=/tag/failure/page/1/': 1},\n",
       "       {'tag=a': 1, 'class=tag': 1, 'href=/tag/paraphrased/page/1/': 1},\n",
       "       {'tag=span': 1, 'class=text': 1, 'itemprop=text': 1},\n",
       "       {'tag=small': 1, 'class=author': 1, 'itemprop=author': 1},\n",
       "       {'tag=a': 1, 'href=/author/Eleanor-Roosevelt': 1},\n",
       "       {'tag=div': 1, 'class=tags': 1},\n",
       "       {'tag=meta': 1, 'class=keywords': 1, 'itemprop=keywords': 1, 'content=misattributed-eleanor-roosevelt': 1},\n",
       "       {'tag=div': 1, 'class=quote': 1, 'itemscope=': 1, 'itemtype=http://schema.org/CreativeWork': 1},\n",
       "       {'tag=a': 1, 'href=/author/Steve-Martin': 1}], dtype=object)"
      ]
     },
     "execution_count": 60,
     "metadata": {},
     "output_type": "execute_result"
    }
   ],
   "source": [
    "np.array(loader.nodes_features)[unique_features_idx]"
   ]
  },
  {
   "cell_type": "code",
   "execution_count": 43,
   "id": "7dcbc64d",
   "metadata": {
    "collapsed": true
   },
   "outputs": [
    {
     "data": {
      "text/plain": [
       "['class=author',\n",
       " 'class=col-md-4',\n",
       " 'class=col-md-8',\n",
       " 'class=container',\n",
       " 'class=copyright',\n",
       " 'class=footer',\n",
       " 'class=header-box',\n",
       " 'class=keywords',\n",
       " 'class=next',\n",
       " 'class=pager',\n",
       " 'class=quote',\n",
       " 'class=row',\n",
       " 'class=sh-red',\n",
       " 'class=tag',\n",
       " 'class=tag-item',\n",
       " 'class=tags',\n",
       " 'class=tags-box',\n",
       " 'class=text',\n",
       " 'class=text-muted',\n",
       " 'tag=a',\n",
       " 'tag=body',\n",
       " 'tag=div',\n",
       " 'tag=footer',\n",
       " 'tag=h1',\n",
       " 'tag=h2',\n",
       " 'tag=li',\n",
       " 'tag=meta',\n",
       " 'tag=nav',\n",
       " 'tag=p',\n",
       " 'tag=small',\n",
       " 'tag=span',\n",
       " 'tag=ul']"
      ]
     },
     "execution_count": 43,
     "metadata": {},
     "output_type": "execute_result"
    }
   ],
   "source": [
    "available_feature_names = [f for f in loader.nodes_features_enc.feature_names_ if f.split('=')[0] in ['class', 'tag', 'id']]\n",
    "available_feature_names"
   ]
  },
  {
   "cell_type": "code",
   "execution_count": 51,
   "id": "aa2d647f",
   "metadata": {},
   "outputs": [
    {
     "data": {
      "text/plain": [
       "array([[  1,   2,   3,   4,   5,   6,   7,   8,   9,  10,  11,  12,  13,\n",
       "         14,  15,  16,  17,  18,  19,  93,  94,  95,  96,  97,  98,  99,\n",
       "        100, 101, 102, 103, 104, 105]])"
      ]
     },
     "execution_count": 51,
     "metadata": {},
     "output_type": "execute_result"
    }
   ],
   "source": [
    "available_features_idx = np.argwhere(np.isin(loader.nodes_features_enc.feature_names_, np.array(available_feature_names))).T\n",
    "available_features_idx"
   ]
  },
  {
   "cell_type": "code",
   "execution_count": 52,
   "id": "13b184ae",
   "metadata": {},
   "outputs": [
    {
     "data": {
      "text/plain": [
       "array([['class=author', 'class=col-md-4', 'class=col-md-8',\n",
       "        'class=container', 'class=copyright', 'class=footer',\n",
       "        'class=header-box', 'class=keywords', 'class=next',\n",
       "        'class=pager', 'class=quote', 'class=row', 'class=sh-red',\n",
       "        'class=tag', 'class=tag-item', 'class=tags', 'class=tags-box',\n",
       "        'class=text', 'class=text-muted', 'tag=a', 'tag=body', 'tag=div',\n",
       "        'tag=footer', 'tag=h1', 'tag=h2', 'tag=li', 'tag=meta',\n",
       "        'tag=nav', 'tag=p', 'tag=small', 'tag=span', 'tag=ul']],\n",
       "      dtype='<U49')"
      ]
     },
     "execution_count": 52,
     "metadata": {},
     "output_type": "execute_result"
    }
   ],
   "source": [
    "np.array(loader.nodes_features_enc.feature_names_)[available_features_idx]"
   ]
  },
  {
   "cell_type": "code",
   "execution_count": 62,
   "id": "326fe5fb",
   "metadata": {},
   "outputs": [
    {
     "data": {
      "text/plain": [
       "array([  5,   6,   7,   9,  10,  13,  17,  19,  94,  96,  97,  98,  99,\n",
       "       101, 105])"
      ]
     },
     "execution_count": 62,
     "metadata": {},
     "output_type": "execute_result"
    }
   ],
   "source": [
    "unique_available_features_idx = np.intersect1d(unique_features_idx, available_features_idx)\n",
    "unique_available_features_idx"
   ]
  },
  {
   "cell_type": "code",
   "execution_count": 61,
   "id": "e3b8e592",
   "metadata": {},
   "outputs": [
    {
     "data": {
      "text/plain": [
       "array(['class=copyright', 'class=footer', 'class=header-box',\n",
       "       'class=next', 'class=pager', 'class=sh-red', 'class=tags-box',\n",
       "       'class=text-muted', 'tag=body', 'tag=footer', 'tag=h1', 'tag=h2',\n",
       "       'tag=li', 'tag=nav', 'tag=ul'], dtype='<U49')"
      ]
     },
     "execution_count": 61,
     "metadata": {},
     "output_type": "execute_result"
    }
   ],
   "source": [
    "np.array(loader.nodes_features_enc.feature_names_)[unique_available_features_idx]"
   ]
  }
 ],
 "metadata": {
  "kernelspec": {
   "display_name": "Python 3 (ipykernel)",
   "language": "python",
   "name": "python3"
  },
  "language_info": {
   "codemirror_mode": {
    "name": "ipython",
    "version": 3
   },
   "file_extension": ".py",
   "mimetype": "text/x-python",
   "name": "python",
   "nbconvert_exporter": "python",
   "pygments_lexer": "ipython3",
   "version": "3.10.9"
  }
 },
 "nbformat": 4,
 "nbformat_minor": 5
}
