{
 "cells": [
  {
   "cell_type": "code",
   "execution_count": 1,
   "id": "cb4f46fa",
   "metadata": {},
   "outputs": [],
   "source": [
    "import init\n",
    "import numpy as np"
   ]
  },
  {
   "cell_type": "code",
   "execution_count": 2,
   "id": "144bc6fe",
   "metadata": {},
   "outputs": [],
   "source": [
    "from dataset.graph_loader import GraphLoader\n",
    "from detect.detectors.plain_list import PlainListDetector"
   ]
  },
  {
   "cell_type": "markdown",
   "id": "da72a8e3",
   "metadata": {},
   "source": [
    "## Unique Features"
   ]
  },
  {
   "cell_type": "code",
   "execution_count": 3,
   "id": "f00cea74",
   "metadata": {},
   "outputs": [
    {
     "name": "stdout",
     "output_type": "stream",
     "text": [
      "Graph(num_nodes=145, num_edges=145,\n",
      "      ndata_schemes={'feat': Scheme(shape=(106,), dtype=torch.float32)}\n",
      "      edata_schemes={})\n"
     ]
    },
    {
     "name": "stderr",
     "output_type": "stream",
     "text": [
      "/Users/marvzhang/projects/tikazyq/auto-html/venv/lib/python3.10/site-packages/dgl/heterograph.py:72: DGLWarning: Recommend creating graphs by `dgl.graph(data)` instead of `dgl.DGLGraph(data)`.\n",
      "  dgl_warning('Recommend creating graphs by `dgl.graph(data)`'\n",
      "/Users/marvzhang/projects/tikazyq/auto-html/venv/lib/python3.10/site-packages/sklearn/preprocessing/_label.py:116: DataConversionWarning: A column-vector y was passed when a 1d array was expected. Please change the shape of y to (n_samples, ), for example using ravel().\n",
      "  y = column_or_1d(y, warn=True)\n"
     ]
    }
   ],
   "source": [
    "data_path = '/Users/marvzhang/projects/tikazyq/auto-html/data/quotes.toscrape.com/json/http___quotes_toscrape_com_.json'\n",
    "# data_path = '/Users/marvzhang/projects/tikazyq/auto-html/data/www.ruanyifeng.com/json/http___www_ruanyifeng_com_blog_.json'\n",
    "detector = PlainListDetector(data_path)\n",
    "detector.run()\n",
    "loader = detector.graph_loader"
   ]
  },
  {
   "cell_type": "code",
   "execution_count": 4,
   "id": "a4ee16ac",
   "metadata": {},
   "outputs": [
    {
     "data": {
      "text/plain": [
       "[{'root': {'id': 16,\n",
       "   'parent_id': 15,\n",
       "   'graph_id': 0,\n",
       "   'features': [('tag', 'div'), ('class', 'col-md-8')]},\n",
       "  'nodes': [{'id': 17,\n",
       "    'parent_id': 16,\n",
       "    'graph_id': 0,\n",
       "    'features': [('tag', 'div'),\n",
       "     ('class', 'quote'),\n",
       "     ('itemscope', ''),\n",
       "     ('itemtype', 'http://schema.org/CreativeWork')]},\n",
       "   {'id': 28,\n",
       "    'parent_id': 16,\n",
       "    'graph_id': 0,\n",
       "    'features': [('tag', 'div'),\n",
       "     ('class', 'quote'),\n",
       "     ('itemscope', ''),\n",
       "     ('itemtype', 'http://schema.org/CreativeWork')]},\n",
       "   {'id': 37,\n",
       "    'parent_id': 16,\n",
       "    'graph_id': 0,\n",
       "    'features': [('tag', 'div'),\n",
       "     ('class', 'quote'),\n",
       "     ('itemscope', ''),\n",
       "     ('itemtype', 'http://schema.org/CreativeWork')]},\n",
       "   {'id': 49,\n",
       "    'parent_id': 16,\n",
       "    'graph_id': 0,\n",
       "    'features': [('tag', 'div'),\n",
       "     ('class', 'quote'),\n",
       "     ('itemscope', ''),\n",
       "     ('itemtype', 'http://schema.org/CreativeWork')]},\n",
       "   {'id': 60,\n",
       "    'parent_id': 16,\n",
       "    'graph_id': 0,\n",
       "    'features': [('tag', 'div'),\n",
       "     ('class', 'quote'),\n",
       "     ('itemscope', ''),\n",
       "     ('itemtype', 'http://schema.org/CreativeWork')]},\n",
       "   {'id': 69,\n",
       "    'parent_id': 16,\n",
       "    'graph_id': 0,\n",
       "    'features': [('tag', 'div'),\n",
       "     ('class', 'quote'),\n",
       "     ('itemscope', ''),\n",
       "     ('itemtype', 'http://schema.org/CreativeWork')]},\n",
       "   {'id': 79,\n",
       "    'parent_id': 16,\n",
       "    'graph_id': 0,\n",
       "    'features': [('tag', 'div'),\n",
       "     ('class', 'quote'),\n",
       "     ('itemscope', ''),\n",
       "     ('itemtype', 'http://schema.org/CreativeWork')]},\n",
       "   {'id': 88,\n",
       "    'parent_id': 16,\n",
       "    'graph_id': 0,\n",
       "    'features': [('tag', 'div'),\n",
       "     ('class', 'quote'),\n",
       "     ('itemscope', ''),\n",
       "     ('itemtype', 'http://schema.org/CreativeWork')]},\n",
       "   {'id': 99,\n",
       "    'parent_id': 16,\n",
       "    'graph_id': 0,\n",
       "    'features': [('tag', 'div'),\n",
       "     ('class', 'quote'),\n",
       "     ('itemscope', ''),\n",
       "     ('itemtype', 'http://schema.org/CreativeWork')]},\n",
       "   {'id': 107,\n",
       "    'parent_id': 16,\n",
       "    'graph_id': 0,\n",
       "    'features': [('tag', 'div'),\n",
       "     ('class', 'quote'),\n",
       "     ('itemscope', ''),\n",
       "     ('itemtype', 'http://schema.org/CreativeWork')]}],\n",
       "  'stats': {'entropy': 0.0, 'score': 3.4110333919525146}},\n",
       " {'root': {'id': 122,\n",
       "   'parent_id': 15,\n",
       "   'graph_id': 0,\n",
       "   'features': [('tag', 'div'), ('class', 'col-md-4'), ('class', 'tags-box')]},\n",
       "  'nodes': [{'id': 124,\n",
       "    'parent_id': 122,\n",
       "    'graph_id': 0,\n",
       "    'features': [('tag', 'span'), ('class', 'tag-item')]},\n",
       "   {'id': 126,\n",
       "    'parent_id': 122,\n",
       "    'graph_id': 0,\n",
       "    'features': [('tag', 'span'), ('class', 'tag-item')]},\n",
       "   {'id': 128,\n",
       "    'parent_id': 122,\n",
       "    'graph_id': 0,\n",
       "    'features': [('tag', 'span'), ('class', 'tag-item')]},\n",
       "   {'id': 130,\n",
       "    'parent_id': 122,\n",
       "    'graph_id': 0,\n",
       "    'features': [('tag', 'span'), ('class', 'tag-item')]},\n",
       "   {'id': 132,\n",
       "    'parent_id': 122,\n",
       "    'graph_id': 0,\n",
       "    'features': [('tag', 'span'), ('class', 'tag-item')]},\n",
       "   {'id': 134,\n",
       "    'parent_id': 122,\n",
       "    'graph_id': 0,\n",
       "    'features': [('tag', 'span'), ('class', 'tag-item')]},\n",
       "   {'id': 136,\n",
       "    'parent_id': 122,\n",
       "    'graph_id': 0,\n",
       "    'features': [('tag', 'span'), ('class', 'tag-item')]},\n",
       "   {'id': 138,\n",
       "    'parent_id': 122,\n",
       "    'graph_id': 0,\n",
       "    'features': [('tag', 'span'), ('class', 'tag-item')]},\n",
       "   {'id': 140,\n",
       "    'parent_id': 122,\n",
       "    'graph_id': 0,\n",
       "    'features': [('tag', 'span'), ('class', 'tag-item')]},\n",
       "   {'id': 142,\n",
       "    'parent_id': 122,\n",
       "    'graph_id': 0,\n",
       "    'features': [('tag', 'span'), ('class', 'tag-item')]}],\n",
       "  'stats': {'entropy': 0.0, 'score': 3.3706135749816895}}]"
      ]
     },
     "execution_count": 4,
     "metadata": {},
     "output_type": "execute_result"
    }
   ],
   "source": [
    "detector.results"
   ]
  },
  {
   "cell_type": "code",
   "execution_count": 5,
   "id": "cb4d633e",
   "metadata": {},
   "outputs": [
    {
     "data": {
      "text/plain": [
       "array([ 1., 10.,  2.,  2.,  2.,  1.,  1.,  1., 10.,  1.,  1., 10.,  2.,\n",
       "        1., 40., 10., 10.,  1., 10.,  1.,  1.,  1.,  1.,  1.,  1.,  1.,\n",
       "        1.,  1.,  1.,  1.,  1.,  3.,  1.,  1.,  1.,  1.,  1.,  1.,  1.,\n",
       "        1.,  1.,  1.,  1.,  1.,  1.,  1.,  1.,  1.,  1.,  1.,  1.,  1.,\n",
       "        1.,  1.,  1.,  1.,  2.,  1.,  3.,  1.,  2.,  1.,  1.,  1.,  1.,\n",
       "        1.,  1.,  1.,  1.,  1.,  1.,  1.,  1.,  1.,  1.,  1.,  1.,  1.,\n",
       "        1., 10., 10., 10., 10., 10.,  1.,  1.,  1.,  1.,  2.,  1.,  1.,\n",
       "        2.,  1., 55.,  1., 28.,  1.,  1.,  1.,  1., 10.,  1.,  3., 10.,\n",
       "       32.,  1.], dtype=float32)"
      ]
     },
     "execution_count": 5,
     "metadata": {},
     "output_type": "execute_result"
    }
   ],
   "source": [
    "features_counts = loader.nodes_features_tensor.detach().numpy().sum(axis=0)\n",
    "features_counts"
   ]
  },
  {
   "cell_type": "code",
   "execution_count": 6,
   "id": "f8e7645c",
   "metadata": {},
   "outputs": [
    {
     "data": {
      "text/plain": [
       "array([  0,   5,   6,   7,   9,  10,  13,  17,  19,  20,  21,  22,  23,\n",
       "        24,  25,  26,  27,  28,  29,  30,  32,  33,  34,  35,  36,  37,\n",
       "        38,  39,  40,  41,  42,  43,  44,  45,  46,  47,  48,  49,  50,\n",
       "        51,  52,  53,  54,  55,  57,  59,  61,  62,  63,  64,  65,  66,\n",
       "        67,  68,  69,  70,  71,  72,  73,  74,  75,  76,  77,  78,  84,\n",
       "        85,  86,  87,  89,  90,  92,  94,  96,  97,  98,  99, 101, 105])"
      ]
     },
     "execution_count": 6,
     "metadata": {},
     "output_type": "execute_result"
    }
   ],
   "source": [
    "unique_features_idx = np.argwhere(features_counts == 1).T[0]\n",
    "unique_features_idx"
   ]
  },
  {
   "cell_type": "code",
   "execution_count": 7,
   "id": "a107e5c6",
   "metadata": {},
   "outputs": [
    {
     "data": {
      "text/plain": [
       "array([{'tag=body': 1},\n",
       "       {'tag=a': 1, 'href=/': 1, 'style=text-decoration: none': 1},\n",
       "       {'tag=div': 1, 'class=col-md-4': 1}, {'tag=p': 1},\n",
       "       {'tag=div': 1, 'class=row': 1},\n",
       "       {'tag=div': 1, 'class=col-md-8': 1}, {'tag=span': 1},\n",
       "       {'tag=meta': 1, 'class=keywords': 1, 'itemprop=keywords': 1, 'content=change,deep-thoughts,thinking,world': 1},\n",
       "       {'tag=a': 1, 'class=tag': 1, 'href=/tag/deep-thoughts/page/1/': 1},\n",
       "       {'tag=a': 1, 'class=tag': 1, 'href=/tag/thinking/page/1/': 1},\n",
       "       {'tag=a': 1, 'class=tag': 1, 'href=/tag/world/page/1/': 1},\n",
       "       {'tag=div': 1, 'class=quote': 1, 'itemscope=': 1, 'itemtype=http://schema.org/CreativeWork': 1},\n",
       "       {'tag=span': 1, 'class=text': 1, 'itemprop=text': 1},\n",
       "       {'tag=span': 1},\n",
       "       {'tag=small': 1, 'class=author': 1, 'itemprop=author': 1},\n",
       "       {'tag=a': 1, 'href=/author/J-K-Rowling': 1},\n",
       "       {'tag=div': 1, 'class=tags': 1},\n",
       "       {'tag=meta': 1, 'class=keywords': 1, 'itemprop=keywords': 1, 'content=abilities,choices': 1},\n",
       "       {'tag=a': 1, 'class=tag': 1, 'href=/tag/abilities/page/1/': 1},\n",
       "       {'tag=a': 1, 'class=tag': 1, 'href=/tag/choices/page/1/': 1},\n",
       "       {'tag=span': 1, 'class=text': 1, 'itemprop=text': 1},\n",
       "       {'tag=span': 1},\n",
       "       {'tag=small': 1, 'class=author': 1, 'itemprop=author': 1},\n",
       "       {'tag=a': 1, 'href=/author/Albert-Einstein': 1},\n",
       "       {'tag=div': 1, 'class=tags': 1},\n",
       "       {'tag=meta': 1, 'class=keywords': 1, 'itemprop=keywords': 1, 'content=inspirational,life,live,miracle,miracles': 1},\n",
       "       {'tag=a': 1, 'class=tag': 1, 'href=/tag/inspirational/page/1/': 1},\n",
       "       {'tag=a': 1, 'class=tag': 1, 'href=/tag/life/page/1/': 1},\n",
       "       {'tag=a': 1, 'class=tag': 1, 'href=/tag/live/page/1/': 1},\n",
       "       {'tag=a': 1, 'class=tag': 1, 'href=/tag/miracle/page/1/': 1},\n",
       "       {'tag=a': 1, 'class=tag': 1, 'href=/tag/miracles/page/1/': 1},\n",
       "       {'tag=div': 1, 'class=quote': 1, 'itemscope=': 1, 'itemtype=http://schema.org/CreativeWork': 1},\n",
       "       {'tag=span': 1, 'class=text': 1, 'itemprop=text': 1},\n",
       "       {'tag=span': 1},\n",
       "       {'tag=small': 1, 'class=author': 1, 'itemprop=author': 1},\n",
       "       {'tag=a': 1, 'href=/author/Jane-Austen': 1},\n",
       "       {'tag=div': 1, 'class=tags': 1},\n",
       "       {'tag=meta': 1, 'class=keywords': 1, 'itemprop=keywords': 1, 'content=aliteracy,books,classic,humor': 1},\n",
       "       {'tag=a': 1, 'class=tag': 1, 'href=/tag/aliteracy/page/1/': 1},\n",
       "       {'tag=a': 1, 'class=tag': 1, 'href=/tag/books/page/1/': 1},\n",
       "       {'tag=a': 1, 'class=tag': 1, 'href=/tag/classic/page/1/': 1},\n",
       "       {'tag=a': 1, 'class=tag': 1, 'href=/tag/humor/page/1/': 1},\n",
       "       {'tag=div': 1, 'class=quote': 1, 'itemscope=': 1, 'itemtype=http://schema.org/CreativeWork': 1},\n",
       "       {'tag=span': 1, 'class=text': 1, 'itemprop=text': 1},\n",
       "       {'tag=small': 1, 'class=author': 1, 'itemprop=author': 1},\n",
       "       {'tag=div': 1, 'class=tags': 1},\n",
       "       {'tag=a': 1, 'class=tag': 1, 'href=/tag/be-yourself/page/1/': 1},\n",
       "       {'tag=a': 1, 'class=tag': 1, 'href=/tag/inspirational/page/1/': 1},\n",
       "       {'tag=div': 1, 'class=quote': 1, 'itemscope=': 1, 'itemtype=http://schema.org/CreativeWork': 1},\n",
       "       {'tag=span': 1, 'class=text': 1, 'itemprop=text': 1},\n",
       "       {'tag=span': 1},\n",
       "       {'tag=small': 1, 'class=author': 1, 'itemprop=author': 1},\n",
       "       {'tag=a': 1, 'href=/author/Albert-Einstein': 1},\n",
       "       {'tag=div': 1, 'class=tags': 1},\n",
       "       {'tag=meta': 1, 'class=keywords': 1, 'itemprop=keywords': 1, 'content=adulthood,success,value': 1},\n",
       "       {'tag=a': 1, 'class=tag': 1, 'href=/tag/adulthood/page/1/': 1},\n",
       "       {'tag=a': 1, 'class=tag': 1, 'href=/tag/success/page/1/': 1},\n",
       "       {'tag=a': 1, 'class=tag': 1, 'href=/tag/value/page/1/': 1},\n",
       "       {'tag=div': 1, 'class=quote': 1, 'itemscope=': 1, 'itemtype=http://schema.org/CreativeWork': 1},\n",
       "       {'tag=span': 1, 'class=text': 1, 'itemprop=text': 1},\n",
       "       {'tag=span': 1},\n",
       "       {'tag=small': 1, 'class=author': 1, 'itemprop=author': 1},\n",
       "       {'tag=a': 1, 'href=/author/Andre-Gide': 1},\n",
       "       {'tag=div': 1, 'class=tags': 1}, {'tag=span': 1},\n",
       "       {'tag=small': 1, 'class=author': 1, 'itemprop=author': 1},\n",
       "       {'tag=a': 1, 'href=/author/Thomas-A-Edison': 1},\n",
       "       {'tag=div': 1, 'class=tags': 1},\n",
       "       {'tag=a': 1, 'class=tag': 1, 'href=/tag/edison/page/1/': 1},\n",
       "       {'tag=a': 1, 'class=tag': 1, 'href=/tag/failure/page/1/': 1},\n",
       "       {'tag=a': 1, 'class=tag': 1, 'href=/tag/paraphrased/page/1/': 1},\n",
       "       {'tag=span': 1, 'class=text': 1, 'itemprop=text': 1},\n",
       "       {'tag=small': 1, 'class=author': 1, 'itemprop=author': 1},\n",
       "       {'tag=a': 1, 'href=/author/Eleanor-Roosevelt': 1},\n",
       "       {'tag=div': 1, 'class=tags': 1},\n",
       "       {'tag=meta': 1, 'class=keywords': 1, 'itemprop=keywords': 1, 'content=misattributed-eleanor-roosevelt': 1},\n",
       "       {'tag=div': 1, 'class=quote': 1, 'itemscope=': 1, 'itemtype=http://schema.org/CreativeWork': 1},\n",
       "       {'tag=a': 1, 'href=/author/Steve-Martin': 1}], dtype=object)"
      ]
     },
     "execution_count": 7,
     "metadata": {},
     "output_type": "execute_result"
    }
   ],
   "source": [
    "np.array(loader.nodes_features)[unique_features_idx]"
   ]
  },
  {
   "cell_type": "code",
   "execution_count": 8,
   "id": "7dcbc64d",
   "metadata": {},
   "outputs": [
    {
     "data": {
      "text/plain": [
       "['class=author',\n",
       " 'class=col-md-4',\n",
       " 'class=col-md-8',\n",
       " 'class=container',\n",
       " 'class=copyright',\n",
       " 'class=footer',\n",
       " 'class=header-box',\n",
       " 'class=keywords',\n",
       " 'class=next',\n",
       " 'class=pager',\n",
       " 'class=quote',\n",
       " 'class=row',\n",
       " 'class=sh-red',\n",
       " 'class=tag',\n",
       " 'class=tag-item',\n",
       " 'class=tags',\n",
       " 'class=tags-box',\n",
       " 'class=text',\n",
       " 'class=text-muted',\n",
       " 'tag=a',\n",
       " 'tag=body',\n",
       " 'tag=div',\n",
       " 'tag=footer',\n",
       " 'tag=h1',\n",
       " 'tag=h2',\n",
       " 'tag=li',\n",
       " 'tag=meta',\n",
       " 'tag=nav',\n",
       " 'tag=p',\n",
       " 'tag=small',\n",
       " 'tag=span',\n",
       " 'tag=ul']"
      ]
     },
     "execution_count": 8,
     "metadata": {},
     "output_type": "execute_result"
    }
   ],
   "source": [
    "available_feature_names = [f for f in loader.nodes_features_enc.feature_names_ if f.split('=')[0] in ['class', 'tag', 'id']]\n",
    "available_feature_names"
   ]
  },
  {
   "cell_type": "code",
   "execution_count": 9,
   "id": "aa2d647f",
   "metadata": {},
   "outputs": [
    {
     "data": {
      "text/plain": [
       "array([[  1,   2,   3,   4,   5,   6,   7,   8,   9,  10,  11,  12,  13,\n",
       "         14,  15,  16,  17,  18,  19,  93,  94,  95,  96,  97,  98,  99,\n",
       "        100, 101, 102, 103, 104, 105]])"
      ]
     },
     "execution_count": 9,
     "metadata": {},
     "output_type": "execute_result"
    }
   ],
   "source": [
    "available_features_idx = np.argwhere(np.isin(loader.nodes_features_enc.feature_names_, np.array(available_feature_names))).T\n",
    "available_features_idx"
   ]
  },
  {
   "cell_type": "code",
   "execution_count": 10,
   "id": "13b184ae",
   "metadata": {},
   "outputs": [
    {
     "data": {
      "text/plain": [
       "array([['class=author', 'class=col-md-4', 'class=col-md-8',\n",
       "        'class=container', 'class=copyright', 'class=footer',\n",
       "        'class=header-box', 'class=keywords', 'class=next',\n",
       "        'class=pager', 'class=quote', 'class=row', 'class=sh-red',\n",
       "        'class=tag', 'class=tag-item', 'class=tags', 'class=tags-box',\n",
       "        'class=text', 'class=text-muted', 'tag=a', 'tag=body', 'tag=div',\n",
       "        'tag=footer', 'tag=h1', 'tag=h2', 'tag=li', 'tag=meta',\n",
       "        'tag=nav', 'tag=p', 'tag=small', 'tag=span', 'tag=ul']],\n",
       "      dtype='<U49')"
      ]
     },
     "execution_count": 10,
     "metadata": {},
     "output_type": "execute_result"
    }
   ],
   "source": [
    "np.array(loader.nodes_features_enc.feature_names_)[available_features_idx]"
   ]
  },
  {
   "cell_type": "code",
   "execution_count": 11,
   "id": "326fe5fb",
   "metadata": {},
   "outputs": [
    {
     "data": {
      "text/plain": [
       "array([  5,   6,   7,   9,  10,  13,  17,  19,  94,  96,  97,  98,  99,\n",
       "       101, 105])"
      ]
     },
     "execution_count": 11,
     "metadata": {},
     "output_type": "execute_result"
    }
   ],
   "source": [
    "unique_available_features_idx = np.intersect1d(unique_features_idx, available_features_idx)\n",
    "unique_available_features_idx"
   ]
  },
  {
   "cell_type": "code",
   "execution_count": 12,
   "id": "95ed1506",
   "metadata": {},
   "outputs": [
    {
     "data": {
      "text/plain": [
       "array(['class=copyright', 'class=footer', 'class=header-box',\n",
       "       'class=next', 'class=pager', 'class=sh-red', 'class=tags-box',\n",
       "       'class=text-muted', 'tag=body', 'tag=footer', 'tag=h1', 'tag=h2',\n",
       "       'tag=li', 'tag=nav', 'tag=ul'], dtype='<U49')"
      ]
     },
     "execution_count": 12,
     "metadata": {},
     "output_type": "execute_result"
    }
   ],
   "source": [
    "detector.graph_loader.unique_node_features"
   ]
  },
  {
   "cell_type": "markdown",
   "id": "8d7f13b6",
   "metadata": {},
   "source": [
    "## Plain List Nodes"
   ]
  },
  {
   "cell_type": "code",
   "execution_count": 13,
   "id": "a4ebb906",
   "metadata": {},
   "outputs": [
    {
     "data": {
      "text/plain": [
       "16"
      ]
     },
     "execution_count": 13,
     "metadata": {},
     "output_type": "execute_result"
    }
   ],
   "source": [
    "result_node_id = detector.results[0].root.id\n",
    "result_node_id"
   ]
  },
  {
   "cell_type": "code",
   "execution_count": 14,
   "id": "add69dfb",
   "metadata": {},
   "outputs": [
    {
     "data": {
      "text/plain": [
       "'body > div.container > div.row:nth-child(2) > div.col-md-8'"
      ]
     },
     "execution_count": 14,
     "metadata": {},
     "output_type": "execute_result"
    }
   ],
   "source": [
    "result_node = detector.graph_loader.get_node_by_id(result_node_id)\n",
    "detector.graph_loader.get_node_css_selector_path(result_node)"
   ]
  },
  {
   "cell_type": "markdown",
   "id": "8cb79010",
   "metadata": {},
   "source": [
    "## Unique Feature Nodes"
   ]
  },
  {
   "cell_type": "code",
   "execution_count": 15,
   "id": "68af6c0d",
   "metadata": {},
   "outputs": [
    {
     "data": {
      "text/plain": [
       "array(['class=copyright', 'class=footer', 'class=header-box',\n",
       "       'class=next', 'class=pager', 'class=sh-red', 'class=tags-box',\n",
       "       'class=text-muted', 'tag=body', 'tag=footer', 'tag=h1', 'tag=h2',\n",
       "       'tag=li', 'tag=nav', 'tag=ul'], dtype='<U49')"
      ]
     },
     "execution_count": 15,
     "metadata": {},
     "output_type": "execute_result"
    }
   ],
   "source": [
    "loader.unique_node_features"
   ]
  },
  {
   "cell_type": "code",
   "execution_count": 16,
   "id": "f8d26f20",
   "metadata": {},
   "outputs": [
    {
     "data": {
      "text/plain": [
       "array([  0,   2,   4, 111, 112, 113, 116, 117, 138, 140, 142, 143])"
      ]
     },
     "execution_count": 16,
     "metadata": {},
     "output_type": "execute_result"
    }
   ],
   "source": [
    "nodes_features = loader.nodes_features_tensor.detach().numpy()\n",
    "unique_available_nodes_features = np.zeros(nodes_features.shape)\n",
    "unique_available_nodes_features[:, loader.unique_available_features_idx] = nodes_features[:, loader.unique_available_features_idx]\n",
    "unique_available_nodes_features_counts = nodes_features = unique_available_nodes_features.sum(axis=1)\n",
    "unique_available_nodes_features_idx = np.argwhere(unique_available_nodes_features_counts > 0).T[0]\n",
    "unique_available_nodes_features_idx"
   ]
  },
  {
   "cell_type": "code",
   "execution_count": 17,
   "id": "64c5797d",
   "metadata": {},
   "outputs": [
    {
     "data": {
      "text/plain": [
       "(145,)"
      ]
     },
     "execution_count": 17,
     "metadata": {},
     "output_type": "execute_result"
    }
   ],
   "source": [
    "unique_available_nodes_features_counts.shape"
   ]
  },
  {
   "cell_type": "code",
   "execution_count": 18,
   "id": "20fcb936",
   "metadata": {},
   "outputs": [
    {
     "data": {
      "text/plain": [
       "array([{'id': 6, 'parent_id': 0, 'graph_id': 0, 'features': [('tag', 'body')]},\n",
       "       {'id': 8, 'parent_id': 7, 'graph_id': 0, 'features': [('tag', 'div'), ('class', 'row'), ('class', 'header-box')]},\n",
       "       {'id': 10, 'parent_id': 9, 'graph_id': 0, 'features': [('tag', 'h1')]},\n",
       "       {'id': 117, 'parent_id': 16, 'graph_id': 0, 'features': [('tag', 'nav')]},\n",
       "       {'id': 118, 'parent_id': 117, 'graph_id': 0, 'features': [('tag', 'ul'), ('class', 'pager')]},\n",
       "       {'id': 119, 'parent_id': 118, 'graph_id': 0, 'features': [('tag', 'li'), ('class', 'next')]},\n",
       "       {'id': 122, 'parent_id': 15, 'graph_id': 0, 'features': [('tag', 'div'), ('class', 'col-md-4'), ('class', 'tags-box')]},\n",
       "       {'id': 123, 'parent_id': 122, 'graph_id': 0, 'features': [('tag', 'h2')]},\n",
       "       {'id': 144, 'parent_id': 6, 'graph_id': 0, 'features': [('tag', 'footer'), ('class', 'footer')]},\n",
       "       {'id': 146, 'parent_id': 145, 'graph_id': 0, 'features': [('tag', 'p'), ('class', 'text-muted')]},\n",
       "       {'id': 148, 'parent_id': 145, 'graph_id': 0, 'features': [('tag', 'p'), ('class', 'copyright')]},\n",
       "       {'id': 149, 'parent_id': 148, 'graph_id': 0, 'features': [('tag', 'span'), ('class', 'sh-red')]}],\n",
       "      dtype=object)"
      ]
     },
     "execution_count": 18,
     "metadata": {},
     "output_type": "execute_result"
    }
   ],
   "source": [
    "loader.nodes[unique_available_nodes_features_idx]"
   ]
  },
  {
   "cell_type": "code",
   "execution_count": 19,
   "id": "7484c485",
   "metadata": {},
   "outputs": [
    {
     "data": {
      "text/plain": [
       "array([ 94,   7,  97, 101,  10, 105,   9,  99,  17,  98,   6,  96,  19,\n",
       "         5,  13])"
      ]
     },
     "execution_count": 19,
     "metadata": {},
     "output_type": "execute_result"
    }
   ],
   "source": [
    "loader.unique_node_feature_pairs_idx[:, 1]"
   ]
  },
  {
   "cell_type": "code",
   "execution_count": 20,
   "id": "5dc18edd",
   "metadata": {},
   "outputs": [
    {
     "data": {
      "text/plain": [
       "(array([{'id': 6, 'parent_id': 0, 'graph_id': 0, 'features': [('tag', 'body')]},\n",
       "        {'id': 8, 'parent_id': 7, 'graph_id': 0, 'features': [('tag', 'div'), ('class', 'row'), ('class', 'header-box')]},\n",
       "        {'id': 10, 'parent_id': 9, 'graph_id': 0, 'features': [('tag', 'h1')]},\n",
       "        {'id': 117, 'parent_id': 16, 'graph_id': 0, 'features': [('tag', 'nav')]},\n",
       "        {'id': 118, 'parent_id': 117, 'graph_id': 0, 'features': [('tag', 'ul'), ('class', 'pager')]},\n",
       "        {'id': 118, 'parent_id': 117, 'graph_id': 0, 'features': [('tag', 'ul'), ('class', 'pager')]},\n",
       "        {'id': 119, 'parent_id': 118, 'graph_id': 0, 'features': [('tag', 'li'), ('class', 'next')]},\n",
       "        {'id': 119, 'parent_id': 118, 'graph_id': 0, 'features': [('tag', 'li'), ('class', 'next')]},\n",
       "        {'id': 122, 'parent_id': 15, 'graph_id': 0, 'features': [('tag', 'div'), ('class', 'col-md-4'), ('class', 'tags-box')]},\n",
       "        {'id': 123, 'parent_id': 122, 'graph_id': 0, 'features': [('tag', 'h2')]},\n",
       "        {'id': 144, 'parent_id': 6, 'graph_id': 0, 'features': [('tag', 'footer'), ('class', 'footer')]},\n",
       "        {'id': 144, 'parent_id': 6, 'graph_id': 0, 'features': [('tag', 'footer'), ('class', 'footer')]},\n",
       "        {'id': 146, 'parent_id': 145, 'graph_id': 0, 'features': [('tag', 'p'), ('class', 'text-muted')]},\n",
       "        {'id': 148, 'parent_id': 145, 'graph_id': 0, 'features': [('tag', 'p'), ('class', 'copyright')]},\n",
       "        {'id': 149, 'parent_id': 148, 'graph_id': 0, 'features': [('tag', 'span'), ('class', 'sh-red')]}],\n",
       "       dtype=object),\n",
       " array(['tag=body', 'class=header-box', 'tag=h1', 'tag=nav', 'class=pager',\n",
       "        'tag=ul', 'class=next', 'tag=li', 'class=tags-box', 'tag=h2',\n",
       "        'class=footer', 'tag=footer', 'class=text-muted',\n",
       "        'class=copyright', 'class=sh-red'], dtype='<U49'))"
      ]
     },
     "execution_count": 20,
     "metadata": {},
     "output_type": "execute_result"
    }
   ],
   "source": [
    "nodes = loader.nodes[loader.unique_node_feature_pairs_idx[:, 0]]\n",
    "feats = np.array(loader.nodes_features_enc.feature_names_)[loader.unique_node_feature_pairs_idx[:, 1]]\n",
    "nodes, feats"
   ]
  },
  {
   "cell_type": "code",
   "execution_count": 21,
   "id": "8f25dc3f",
   "metadata": {},
   "outputs": [
    {
     "data": {
      "text/plain": [
       "(15,)"
      ]
     },
     "execution_count": 21,
     "metadata": {},
     "output_type": "execute_result"
    }
   ],
   "source": [
    "feats.shape"
   ]
  },
  {
   "cell_type": "code",
   "execution_count": 22,
   "id": "7fd7264c",
   "metadata": {},
   "outputs": [
    {
     "data": {
      "text/plain": [
       "(15,)"
      ]
     },
     "execution_count": 22,
     "metadata": {},
     "output_type": "execute_result"
    }
   ],
   "source": [
    "nodes.shape"
   ]
  },
  {
   "cell_type": "code",
   "execution_count": null,
   "id": "ee0db228",
   "metadata": {},
   "outputs": [],
   "source": []
  }
 ],
 "metadata": {
  "kernelspec": {
   "display_name": "Python 3 (ipykernel)",
   "language": "python",
   "name": "python3"
  },
  "language_info": {
   "codemirror_mode": {
    "name": "ipython",
    "version": 3
   },
   "file_extension": ".py",
   "mimetype": "text/x-python",
   "name": "python",
   "nbconvert_exporter": "python",
   "pygments_lexer": "ipython3",
   "version": "3.10.9"
  }
 },
 "nbformat": 4,
 "nbformat_minor": 5
}
