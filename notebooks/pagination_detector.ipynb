{
 "cells": [
  {
   "cell_type": "code",
   "execution_count": 13,
   "id": "12cd9398",
   "metadata": {},
   "outputs": [],
   "source": [
    "import init"
   ]
  },
  {
   "cell_type": "code",
   "execution_count": 14,
   "id": "fc3ef28f",
   "metadata": {},
   "outputs": [],
   "source": [
    "from urllib.parse import urlparse\n",
    "import numpy as np\n",
    "from sklearn.feature_extraction.text import TfidfVectorizer\n",
    "from sklearn.metrics.pairwise import cosine_similarity"
   ]
  },
  {
   "cell_type": "code",
   "execution_count": 15,
   "id": "38a0c675",
   "metadata": {},
   "outputs": [],
   "source": [
    "from webspot.request.html_requester import HtmlRequester\n",
    "from webspot.graph.graph_loader import GraphLoader\n",
    "from webspot.detect.detectors.pagination import PaginationDetector\n",
    "from webspot.detect.detectors.plain_list import PlainListDetector\n",
    "from webspot.detect.utils.transform_html_links import transform_url"
   ]
  },
  {
   "cell_type": "code",
   "execution_count": 16,
   "id": "f1b35f81",
   "metadata": {
    "scrolled": true
   },
   "outputs": [
    {
     "name": "stderr",
     "output_type": "stream",
     "text": [
      "/Users/marvzhang/projects/crawlab-team/webspot/venv/lib/python3.10/site-packages/dgl/heterograph.py:72: DGLWarning: Recommend creating graphs by `dgl.graph(data)` instead of `dgl.DGLGraph(data)`.\n",
      "  dgl_warning('Recommend creating graphs by `dgl.graph(data)`'\n",
      "/Users/marvzhang/projects/crawlab-team/webspot/venv/lib/python3.10/site-packages/sklearn/preprocessing/_label.py:116: DataConversionWarning: A column-vector y was passed when a 1d array was expected. Please change the shape of y to (n_samples, ), for example using ravel().\n",
      "  y = column_or_1d(y, warn=True)\n"
     ]
    }
   ],
   "source": [
    "# url = 'https://quotes.toscrape.com'\n",
    "# url = 'https://books.toscrape.com'\n",
    "url = 'https://cuiqingcai.com/archives/'\n",
    "# url = 'https://cuiqingcai.com/archives/page/2/'\n",
    "\n",
    "html_requester = HtmlRequester(url=url)\n",
    "html_requester.run()\n",
    "\n",
    "graph_loader = GraphLoader(html=html_requester.html_, json_data=html_requester.json_data)\n",
    "graph_loader.run()\n",
    "\n",
    "pagination_detector = PaginationDetector(html_requester=html_requester, graph_loader=graph_loader)\n",
    "plain_list_detector = PlainListDetector(html_requester=html_requester, graph_loader=graph_loader)"
   ]
  },
  {
   "cell_type": "code",
   "execution_count": 17,
   "id": "c7d45271",
   "metadata": {},
   "outputs": [
    {
     "data": {
      "text/plain": [
       "array([ 12,  25,  27,  29,  31,  33,  35,  37,  67,  74,  81,  88,  95,\n",
       "       102, 109, 116, 123, 130, 137, 144, 151, 158, 165, 172, 179, 186,\n",
       "       193, 200, 207, 214, 221, 228, 235, 242, 249, 256, 263, 270, 277,\n",
       "       284, 291, 298, 305, 312, 319, 326, 333, 340, 344, 346, 347, 368,\n",
       "       372, 376, 393, 400, 403, 406, 409, 412, 415, 418, 421, 424, 427,\n",
       "       430, 433, 436, 439, 442, 445, 448, 451, 454, 457, 460, 463, 466,\n",
       "       469, 472, 475, 478, 487, 492, 497, 502, 507, 512, 517, 522, 527,\n",
       "       532, 537, 542, 547, 552, 557, 562, 567, 572, 577, 582, 587, 592,\n",
       "       597, 602, 607, 612, 617, 621, 622, 623, 624, 625, 626, 627, 628,\n",
       "       629, 630, 631, 632, 633, 634, 635, 636, 637, 638, 639, 640, 641,\n",
       "       642, 643, 644, 645, 646, 647, 648, 649, 650, 651, 652, 653, 654,\n",
       "       655, 656, 657, 658, 659, 660, 661, 662, 663, 664, 665, 666, 667,\n",
       "       668, 669, 670, 671, 672, 673, 674, 675, 676, 677, 678, 679, 680,\n",
       "       681, 682, 683, 684, 685, 686, 687, 688, 689, 690, 691, 692, 693,\n",
       "       694, 695, 696, 697, 698, 699, 700, 701, 702, 703, 704, 705, 706,\n",
       "       707, 708, 709, 710, 711, 712, 713, 714, 715, 716, 717, 718, 719,\n",
       "       720, 730, 732])"
      ]
     },
     "execution_count": 17,
     "metadata": {},
     "output_type": "execute_result"
    }
   ],
   "source": [
    "feature_tag_a_idx = np.argwhere(np.array(graph_loader.nodes_features_enc.feature_names_) == 'tag=a')[0]\n",
    "link_nodes_idx = np.argwhere(graph_loader.nodes_features_tensor[:, feature_tag_a_idx].T[0] == 1)[0].detach().numpy()\n",
    "link_nodes_idx"
   ]
  },
  {
   "cell_type": "code",
   "execution_count": 18,
   "id": "3d125255",
   "metadata": {
    "scrolled": true
   },
   "outputs": [
    {
     "data": {
      "text/plain": [
       "{'id': 57,\n",
       " 'parent_id': 56,\n",
       " 'features': [('tag', 'a'),\n",
       "  ('href', '/'),\n",
       "  ('class', 'brand'),\n",
       "  ('rel', 'start')],\n",
       " 'text': None}"
      ]
     },
     "execution_count": 18,
     "metadata": {},
     "output_type": "execute_result"
    }
   ],
   "source": [
    "nodes_a = graph_loader.nodes[link_nodes_idx]\n",
    "\n",
    "nodes_a[0]"
   ]
  },
  {
   "cell_type": "code",
   "execution_count": 19,
   "id": "89270d88",
   "metadata": {},
   "outputs": [
    {
     "data": {
      "text/plain": [
       "['https://cuiqingcai.com/archives/',\n",
       " 'https://cuiqingcai.com/tags/',\n",
       " 'https://cuiqingcai.com/categories/',\n",
       " 'https://cuiqingcai.com/about/',\n",
       " 'https://cuiqingcai.com/message/',\n",
       " 'https://cuiqingcai.com/36065.html',\n",
       " 'https://cuiqingcai.com/36064.html',\n",
       " 'https://cuiqingcai.com/36063.html',\n",
       " 'https://cuiqingcai.com/36062.html',\n",
       " 'https://cuiqingcai.com/36061.html',\n",
       " 'https://cuiqingcai.com/36060.html',\n",
       " 'https://cuiqingcai.com/36059.html',\n",
       " 'https://cuiqingcai.com/36058.html',\n",
       " 'https://cuiqingcai.com/36057.html',\n",
       " 'https://cuiqingcai.com/36056.html',\n",
       " 'https://cuiqingcai.com/17777.html',\n",
       " 'https://cuiqingcai.com/2022114.html',\n",
       " 'https://cuiqingcai.com/2022113.html',\n",
       " 'https://cuiqingcai.com/2022111.html',\n",
       " 'https://cuiqingcai.com/2022112.html',\n",
       " 'https://cuiqingcai.com/2022104.html',\n",
       " 'https://cuiqingcai.com/2022103.html',\n",
       " 'https://cuiqingcai.com/2022102.html',\n",
       " 'https://cuiqingcai.com/202293.html',\n",
       " 'https://cuiqingcai.com/2022101.html',\n",
       " 'https://cuiqingcai.com/36054.html',\n",
       " 'https://cuiqingcai.com/202292.html',\n",
       " 'https://cuiqingcai.com/202291.html',\n",
       " 'https://cuiqingcai.com/36055.html',\n",
       " 'https://cuiqingcai.com/36052.html',\n",
       " 'https://cuiqingcai.com/36053.html',\n",
       " 'https://cuiqingcai.com/202282.html',\n",
       " 'https://cuiqingcai.com/202272.html',\n",
       " 'https://cuiqingcai.com/202281.html',\n",
       " 'https://cuiqingcai.com/202261.html',\n",
       " 'https://cuiqingcai.com/202246.html',\n",
       " 'https://cuiqingcai.com/202271.html',\n",
       " 'https://cuiqingcai.com/202262.html',\n",
       " 'https://cuiqingcai.com/202253.html',\n",
       " 'https://cuiqingcai.com/202251.html',\n",
       " 'https://cuiqingcai.com/202242.html',\n",
       " 'https://cuiqingcai.com/202232.html',\n",
       " 'https://cuiqingcai.com/202252.html',\n",
       " 'https://cuiqingcai.com/202241.html',\n",
       " 'https://cuiqingcai.com/202231.html',\n",
       " 'https://cuiqingcai.com/archives/page/2/',\n",
       " 'https://cuiqingcai.com/archives/page/17/',\n",
       " 'https://cuiqingcai.com/archives/page/2/',\n",
       " 'https://cuiqingcai.com/archives/',\n",
       " 'https://cuiqingcai.com/categories/',\n",
       " 'https://cuiqingcai.com/tags/',\n",
       " 'https://cuiqingcai.com/categories/C-C/',\n",
       " 'https://cuiqingcai.com/categories/HTML/',\n",
       " 'https://cuiqingcai.com/categories/Java/',\n",
       " 'https://cuiqingcai.com/categories/JavaScript/',\n",
       " 'https://cuiqingcai.com/categories/Linux/',\n",
       " 'https://cuiqingcai.com/categories/Markdown/',\n",
       " 'https://cuiqingcai.com/categories/Net/',\n",
       " 'https://cuiqingcai.com/categories/Other/',\n",
       " 'https://cuiqingcai.com/categories/PHP/',\n",
       " 'https://cuiqingcai.com/categories/Paper/',\n",
       " 'https://cuiqingcai.com/categories/Python/',\n",
       " 'https://cuiqingcai.com/categories/TypeScript/',\n",
       " 'https://cuiqingcai.com/categories/%E4%B8%AA%E4%BA%BA%E5%B1%95%E7%A4%BA/',\n",
       " 'https://cuiqingcai.com/categories/%E4%B8%AA%E4%BA%BA%E6%97%A5%E8%AE%B0/',\n",
       " 'https://cuiqingcai.com/categories/%E4%B8%AA%E4%BA%BA%E8%AE%B0%E5%BD%95/',\n",
       " 'https://cuiqingcai.com/categories/%E4%B8%AA%E4%BA%BA%E9%9A%8F%E7%AC%94/',\n",
       " 'https://cuiqingcai.com/categories/%E5%AE%89%E8%A3%85%E9%85%8D%E7%BD%AE/',\n",
       " 'https://cuiqingcai.com/categories/%E6%8A%80%E6%9C%AF%E6%9D%82%E8%B0%88/',\n",
       " 'https://cuiqingcai.com/categories/%E6%9C%AA%E5%88%86%E7%B1%BB/',\n",
       " 'https://cuiqingcai.com/categories/%E6%B7%B1%E5%BA%A6%E5%AD%A6%E4%B9%A0/',\n",
       " 'https://cuiqingcai.com/categories/%E7%88%AC%E8%99%AB/',\n",
       " 'https://cuiqingcai.com/categories/%E7%94%9F%E6%B4%BB%E7%AC%94%E8%AE%B0/',\n",
       " 'https://cuiqingcai.com/categories/%E7%A6%8F%E5%88%A9%E4%B8%93%E5%8C%BA/',\n",
       " 'https://cuiqingcai.com/categories/%E8%81%8C%E4%BD%8D%E6%8E%A8%E8%8D%90/',\n",
       " 'https://cuiqingcai.com/tags/2022/',\n",
       " 'https://cuiqingcai.com/tags/2048/',\n",
       " 'https://cuiqingcai.com/tags/ADSL/',\n",
       " 'https://cuiqingcai.com/tags/API/',\n",
       " 'https://cuiqingcai.com/tags/Ajax/',\n",
       " 'https://cuiqingcai.com/tags/Bootstrap/',\n",
       " 'https://cuiqingcai.com/tags/Bug/',\n",
       " 'https://cuiqingcai.com/tags/CDN/',\n",
       " 'https://cuiqingcai.com/tags/CQC/',\n",
       " 'https://cuiqingcai.com/tags/CSS/',\n",
       " 'https://cuiqingcai.com/tags/CSS-%E5%8F%8D%E7%88%AC%E8%99%AB/',\n",
       " 'https://cuiqingcai.com/tags/CV/',\n",
       " 'https://cuiqingcai.com/tags/ChatGPT/',\n",
       " 'https://cuiqingcai.com/tags/Cookie/',\n",
       " 'https://cuiqingcai.com/tags/Django/',\n",
       " 'https://cuiqingcai.com/tags/Eclipse/',\n",
       " 'https://cuiqingcai.com/tags/Elasticsearch/',\n",
       " 'https://cuiqingcai.com/tags/FTP/',\n",
       " 'https://cuiqingcai.com/tags/Git/',\n",
       " 'https://cuiqingcai.com/tags/GitHub/',\n",
       " 'https://cuiqingcai.com/tags/HTML5/',\n",
       " 'https://cuiqingcai.com/tags/HTTP/',\n",
       " 'https://cuiqingcai.com/tags/Hexo/',\n",
       " 'https://cuiqingcai.com/tags/Hook/',\n",
       " 'https://cuiqingcai.com/tags/IT/',\n",
       " 'https://cuiqingcai.com/tags/JSON/',\n",
       " 'https://cuiqingcai.com/tags/JSP/',\n",
       " 'https://cuiqingcai.com/tags/JavaScript/',\n",
       " 'https://cuiqingcai.com/tags/K8s/',\n",
       " 'https://cuiqingcai.com/tags/LOGO/',\n",
       " 'https://cuiqingcai.com/tags/Linux/',\n",
       " 'https://cuiqingcai.com/tags/MIUI/',\n",
       " 'https://cuiqingcai.com/tags/Markdown/',\n",
       " 'https://cuiqingcai.com/tags/MongoDB/',\n",
       " 'https://cuiqingcai.com/tags/MySQL/',\n",
       " 'https://cuiqingcai.com/tags/Mysql/',\n",
       " 'https://cuiqingcai.com/tags/NBA/',\n",
       " 'https://cuiqingcai.com/tags/OCR/',\n",
       " 'https://cuiqingcai.com/tags/OpenCV/',\n",
       " 'https://cuiqingcai.com/tags/PHP/',\n",
       " 'https://cuiqingcai.com/tags/PPT/',\n",
       " 'https://cuiqingcai.com/tags/PS/',\n",
       " 'https://cuiqingcai.com/tags/Pathlib/',\n",
       " 'https://cuiqingcai.com/tags/PhantomJS/',\n",
       " 'https://cuiqingcai.com/tags/Playwright/',\n",
       " 'https://cuiqingcai.com/tags/Python/',\n",
       " 'https://cuiqingcai.com/tags/Python-%E7%88%AC%E8%99%AB/',\n",
       " 'https://cuiqingcai.com/tags/Python3/',\n",
       " 'https://cuiqingcai.com/tags/Python3%E7%88%AC%E8%99%AB%E6%95%99%E7%A8%8B/',\n",
       " 'https://cuiqingcai.com/tags/Pythonic/',\n",
       " 'https://cuiqingcai.com/tags/Python%E7%88%AC%E8%99%AB/',\n",
       " 'https://cuiqingcai.com/tags/Python%E7%88%AC%E8%99%AB%E4%B9%A6/',\n",
       " 'https://cuiqingcai.com/tags/Python%E7%88%AC%E8%99%AB%E6%95%99%E7%A8%8B/',\n",
       " 'https://cuiqingcai.com/tags/QQ/',\n",
       " 'https://cuiqingcai.com/tags/RabbitMQ/',\n",
       " 'https://cuiqingcai.com/tags/ReCAPTCHA/',\n",
       " 'https://cuiqingcai.com/tags/Redis/',\n",
       " 'https://cuiqingcai.com/tags/SAE/',\n",
       " 'https://cuiqingcai.com/tags/SSH/',\n",
       " 'https://cuiqingcai.com/tags/SVG/',\n",
       " 'https://cuiqingcai.com/tags/Scrapy-redis/',\n",
       " 'https://cuiqingcai.com/tags/Scrapy%E5%88%86%E5%B8%83%E5%BC%8F/',\n",
       " 'https://cuiqingcai.com/tags/Selenium/',\n",
       " 'https://cuiqingcai.com/tags/Session/',\n",
       " 'https://cuiqingcai.com/tags/Shell/',\n",
       " 'https://cuiqingcai.com/tags/TKE/',\n",
       " 'https://cuiqingcai.com/tags/TXT/',\n",
       " 'https://cuiqingcai.com/tags/Terminal/',\n",
       " 'https://cuiqingcai.com/tags/Ubuntu/',\n",
       " 'https://cuiqingcai.com/tags/VS-Code/',\n",
       " 'https://cuiqingcai.com/tags/Vs-Code/',\n",
       " 'https://cuiqingcai.com/tags/Vue/',\n",
       " 'https://cuiqingcai.com/tags/Web/',\n",
       " 'https://cuiqingcai.com/tags/Webpack/',\n",
       " 'https://cuiqingcai.com/tags/Web%E7%BD%91%E9%A1%B5/',\n",
       " 'https://cuiqingcai.com/tags/Windows/',\n",
       " 'https://cuiqingcai.com/tags/Winpcap/',\n",
       " 'https://cuiqingcai.com/tags/WordPress/',\n",
       " 'https://cuiqingcai.com/tags/XPath/',\n",
       " 'https://cuiqingcai.com/tags/Youtube/',\n",
       " 'https://cuiqingcai.com/tags/aiohttp/',\n",
       " 'https://cuiqingcai.com/tags/android/',\n",
       " 'https://cuiqingcai.com/tags/ansible/',\n",
       " 'https://cuiqingcai.com/tags/cocos2d-x/',\n",
       " 'https://cuiqingcai.com/tags/dummy-change/',\n",
       " 'https://cuiqingcai.com/tags/e6/',\n",
       " 'https://cuiqingcai.com/tags/fitvids/',\n",
       " 'https://cuiqingcai.com/tags/git/',\n",
       " 'https://cuiqingcai.com/tags/json/',\n",
       " 'https://cuiqingcai.com/tags/js%E9%80%86%E5%90%91/',\n",
       " 'https://cuiqingcai.com/tags/kubernetes/',\n",
       " 'https://cuiqingcai.com/tags/log/',\n",
       " 'https://cuiqingcai.com/tags/log4j/',\n",
       " 'https://cuiqingcai.com/tags/logging/',\n",
       " 'https://cuiqingcai.com/tags/matlab/',\n",
       " 'https://cuiqingcai.com/tags/parsel/',\n",
       " 'https://cuiqingcai.com/tags/pymongo/',\n",
       " 'https://cuiqingcai.com/tags/python/',\n",
       " 'https://cuiqingcai.com/tags/pytube/',\n",
       " 'https://cuiqingcai.com/tags/pywin32/',\n",
       " 'https://cuiqingcai.com/sitemap.xml',\n",
       " 'https://cuiqingcai.com/sitemap.html']"
      ]
     },
     "execution_count": 19,
     "metadata": {},
     "output_type": "execute_result"
    }
   ],
   "source": [
    "hrefs = [\n",
    "    transform_url(html_requester.url, n.attrs.get('href'))\n",
    "    for n in pagination_detector.link_nodes\n",
    "    if n.attrs.get('href') is not None \n",
    "    and urlparse(html_requester.url).netloc in transform_url(html_requester.url, n.attrs.get('href'))\n",
    "]\n",
    "\n",
    "hrefs"
   ]
  },
  {
   "cell_type": "code",
   "execution_count": 20,
   "id": "1e2a2b38",
   "metadata": {},
   "outputs": [
    {
     "data": {
      "text/plain": [
       "[['archives'],\n",
       " ['tags'],\n",
       " ['categories'],\n",
       " ['about'],\n",
       " ['message'],\n",
       " ['36065.html'],\n",
       " ['36064.html'],\n",
       " ['36063.html'],\n",
       " ['36062.html'],\n",
       " ['36061.html'],\n",
       " ['36060.html'],\n",
       " ['36059.html'],\n",
       " ['36058.html'],\n",
       " ['36057.html'],\n",
       " ['36056.html'],\n",
       " ['17777.html'],\n",
       " ['2022114.html'],\n",
       " ['2022113.html'],\n",
       " ['2022111.html'],\n",
       " ['2022112.html'],\n",
       " ['2022104.html'],\n",
       " ['2022103.html'],\n",
       " ['2022102.html'],\n",
       " ['202293.html'],\n",
       " ['2022101.html'],\n",
       " ['36054.html'],\n",
       " ['202292.html'],\n",
       " ['202291.html'],\n",
       " ['36055.html'],\n",
       " ['36052.html'],\n",
       " ['36053.html'],\n",
       " ['202282.html'],\n",
       " ['202272.html'],\n",
       " ['202281.html'],\n",
       " ['202261.html'],\n",
       " ['202246.html'],\n",
       " ['202271.html'],\n",
       " ['202262.html'],\n",
       " ['202253.html'],\n",
       " ['202251.html'],\n",
       " ['202242.html'],\n",
       " ['202232.html'],\n",
       " ['202252.html'],\n",
       " ['202241.html'],\n",
       " ['202231.html'],\n",
       " ['archives', 'page', '2'],\n",
       " ['archives', 'page', '17'],\n",
       " ['archives', 'page', '2'],\n",
       " ['archives'],\n",
       " ['categories'],\n",
       " ['tags'],\n",
       " ['categories', 'C-C'],\n",
       " ['categories', 'HTML'],\n",
       " ['categories', 'Java'],\n",
       " ['categories', 'JavaScript'],\n",
       " ['categories', 'Linux'],\n",
       " ['categories', 'Markdown'],\n",
       " ['categories', 'Net'],\n",
       " ['categories', 'Other'],\n",
       " ['categories', 'PHP'],\n",
       " ['categories', 'Paper'],\n",
       " ['categories', 'Python'],\n",
       " ['categories', 'TypeScript'],\n",
       " ['categories', '%E4%B8%AA%E4%BA%BA%E5%B1%95%E7%A4%BA'],\n",
       " ['categories', '%E4%B8%AA%E4%BA%BA%E6%97%A5%E8%AE%B0'],\n",
       " ['categories', '%E4%B8%AA%E4%BA%BA%E8%AE%B0%E5%BD%95'],\n",
       " ['categories', '%E4%B8%AA%E4%BA%BA%E9%9A%8F%E7%AC%94'],\n",
       " ['categories', '%E5%AE%89%E8%A3%85%E9%85%8D%E7%BD%AE'],\n",
       " ['categories', '%E6%8A%80%E6%9C%AF%E6%9D%82%E8%B0%88'],\n",
       " ['categories', '%E6%9C%AA%E5%88%86%E7%B1%BB'],\n",
       " ['categories', '%E6%B7%B1%E5%BA%A6%E5%AD%A6%E4%B9%A0'],\n",
       " ['categories', '%E7%88%AC%E8%99%AB'],\n",
       " ['categories', '%E7%94%9F%E6%B4%BB%E7%AC%94%E8%AE%B0'],\n",
       " ['categories', '%E7%A6%8F%E5%88%A9%E4%B8%93%E5%8C%BA'],\n",
       " ['categories', '%E8%81%8C%E4%BD%8D%E6%8E%A8%E8%8D%90'],\n",
       " ['tags', '2022'],\n",
       " ['tags', '2048'],\n",
       " ['tags', 'ADSL'],\n",
       " ['tags', 'API'],\n",
       " ['tags', 'Ajax'],\n",
       " ['tags', 'Bootstrap'],\n",
       " ['tags', 'Bug'],\n",
       " ['tags', 'CDN'],\n",
       " ['tags', 'CQC'],\n",
       " ['tags', 'CSS'],\n",
       " ['tags', 'CSS-%E5%8F%8D%E7%88%AC%E8%99%AB'],\n",
       " ['tags', 'CV'],\n",
       " ['tags', 'ChatGPT'],\n",
       " ['tags', 'Cookie'],\n",
       " ['tags', 'Django'],\n",
       " ['tags', 'Eclipse'],\n",
       " ['tags', 'Elasticsearch'],\n",
       " ['tags', 'FTP'],\n",
       " ['tags', 'Git'],\n",
       " ['tags', 'GitHub'],\n",
       " ['tags', 'HTML5'],\n",
       " ['tags', 'HTTP'],\n",
       " ['tags', 'Hexo'],\n",
       " ['tags', 'Hook'],\n",
       " ['tags', 'IT'],\n",
       " ['tags', 'JSON'],\n",
       " ['tags', 'JSP'],\n",
       " ['tags', 'JavaScript'],\n",
       " ['tags', 'K8s'],\n",
       " ['tags', 'LOGO'],\n",
       " ['tags', 'Linux'],\n",
       " ['tags', 'MIUI'],\n",
       " ['tags', 'Markdown'],\n",
       " ['tags', 'MongoDB'],\n",
       " ['tags', 'MySQL'],\n",
       " ['tags', 'Mysql'],\n",
       " ['tags', 'NBA'],\n",
       " ['tags', 'OCR'],\n",
       " ['tags', 'OpenCV'],\n",
       " ['tags', 'PHP'],\n",
       " ['tags', 'PPT'],\n",
       " ['tags', 'PS'],\n",
       " ['tags', 'Pathlib'],\n",
       " ['tags', 'PhantomJS'],\n",
       " ['tags', 'Playwright'],\n",
       " ['tags', 'Python'],\n",
       " ['tags', 'Python-%E7%88%AC%E8%99%AB'],\n",
       " ['tags', 'Python3'],\n",
       " ['tags', 'Python3%E7%88%AC%E8%99%AB%E6%95%99%E7%A8%8B'],\n",
       " ['tags', 'Pythonic'],\n",
       " ['tags', 'Python%E7%88%AC%E8%99%AB'],\n",
       " ['tags', 'Python%E7%88%AC%E8%99%AB%E4%B9%A6'],\n",
       " ['tags', 'Python%E7%88%AC%E8%99%AB%E6%95%99%E7%A8%8B'],\n",
       " ['tags', 'QQ'],\n",
       " ['tags', 'RabbitMQ'],\n",
       " ['tags', 'ReCAPTCHA'],\n",
       " ['tags', 'Redis'],\n",
       " ['tags', 'SAE'],\n",
       " ['tags', 'SSH'],\n",
       " ['tags', 'SVG'],\n",
       " ['tags', 'Scrapy-redis'],\n",
       " ['tags', 'Scrapy%E5%88%86%E5%B8%83%E5%BC%8F'],\n",
       " ['tags', 'Selenium'],\n",
       " ['tags', 'Session'],\n",
       " ['tags', 'Shell'],\n",
       " ['tags', 'TKE'],\n",
       " ['tags', 'TXT'],\n",
       " ['tags', 'Terminal'],\n",
       " ['tags', 'Ubuntu'],\n",
       " ['tags', 'VS-Code'],\n",
       " ['tags', 'Vs-Code'],\n",
       " ['tags', 'Vue'],\n",
       " ['tags', 'Web'],\n",
       " ['tags', 'Webpack'],\n",
       " ['tags', 'Web%E7%BD%91%E9%A1%B5'],\n",
       " ['tags', 'Windows'],\n",
       " ['tags', 'Winpcap'],\n",
       " ['tags', 'WordPress'],\n",
       " ['tags', 'XPath'],\n",
       " ['tags', 'Youtube'],\n",
       " ['tags', 'aiohttp'],\n",
       " ['tags', 'android'],\n",
       " ['tags', 'ansible'],\n",
       " ['tags', 'cocos2d-x'],\n",
       " ['tags', 'dummy-change'],\n",
       " ['tags', 'e6'],\n",
       " ['tags', 'fitvids'],\n",
       " ['tags', 'git'],\n",
       " ['tags', 'json'],\n",
       " ['tags', 'js%E9%80%86%E5%90%91'],\n",
       " ['tags', 'kubernetes'],\n",
       " ['tags', 'log'],\n",
       " ['tags', 'log4j'],\n",
       " ['tags', 'logging'],\n",
       " ['tags', 'matlab'],\n",
       " ['tags', 'parsel'],\n",
       " ['tags', 'pymongo'],\n",
       " ['tags', 'python'],\n",
       " ['tags', 'pytube'],\n",
       " ['tags', 'pywin32'],\n",
       " ['sitemap.xml'],\n",
       " ['sitemap.html']]"
      ]
     },
     "execution_count": 20,
     "metadata": {},
     "output_type": "execute_result"
    }
   ],
   "source": [
    "hrefs_frag = [[f for f in urlparse(href).path.split('/') if f != ''] for href in hrefs if href.startswith('http')]\n",
    "hrefs_frag"
   ]
  },
  {
   "cell_type": "code",
   "execution_count": 21,
   "id": "b86d614b",
   "metadata": {},
   "outputs": [
    {
     "data": {
      "text/plain": [
       "'https://cuiqingcai.com/archives/'"
      ]
     },
     "execution_count": 21,
     "metadata": {},
     "output_type": "execute_result"
    }
   ],
   "source": [
    "html_requester.url"
   ]
  },
  {
   "cell_type": "code",
   "execution_count": 22,
   "id": "a79d157d",
   "metadata": {},
   "outputs": [
    {
     "data": {
      "text/plain": [
       "['archives']"
      ]
     },
     "execution_count": 22,
     "metadata": {},
     "output_type": "execute_result"
    }
   ],
   "source": [
    "current_fragments = pagination_detector.current_url_path_fragments\n",
    "current_fragments"
   ]
  },
  {
   "cell_type": "raw",
   "id": "919cb36b",
   "metadata": {},
   "source": [
    "# create tf-idf vectorizer\n",
    "vectorizer = TfidfVectorizer()"
   ]
  },
  {
   "cell_type": "raw",
   "id": "0280587f",
   "metadata": {},
   "source": [
    "# join the words in each list into a single string\n",
    "corpus = [' '.join(fragments) for fragments in fragments_list]\n",
    "\n",
    "# create tf-idf vectorizer\n",
    "vectorizer = TfidfVectorizer()\n",
    "\n",
    "# fit the vectorizer on the collection of words\n",
    "matrix = vectorizer.fit_transform(corpus)\n",
    "matrix"
   ]
  },
  {
   "cell_type": "raw",
   "id": "02522599",
   "metadata": {},
   "source": [
    "current_fragments_vec = vectorizer.transform([' '.join(current_fragments)])\n",
    "current_fragments_vec.todense()"
   ]
  },
  {
   "cell_type": "raw",
   "id": "f2d60717",
   "metadata": {},
   "source": [
    "similarity_scores = cosine_similarity(matrix, current_fragments_vec)\n",
    "similarity_scores"
   ]
  },
  {
   "cell_type": "raw",
   "id": "8c7dae66",
   "metadata": {},
   "source": [
    "# get the index of the most similar word list\n",
    "most_similar_index = similarity_scores.argmax()\n",
    "most_similar_index"
   ]
  },
  {
   "cell_type": "raw",
   "id": "5682cf26",
   "metadata": {},
   "source": [
    "# print the most similar word list\n",
    "print(fragments_list[most_similar_index])"
   ]
  },
  {
   "cell_type": "raw",
   "id": "de45938c",
   "metadata": {},
   "source": [
    "similarity_scores.argsort(axis=0)[::-1]"
   ]
  },
  {
   "cell_type": "raw",
   "id": "68f302a5",
   "metadata": {},
   "source": [
    "fragments_list[47]"
   ]
  },
  {
   "cell_type": "code",
   "execution_count": 23,
   "id": "55bafc67",
   "metadata": {},
   "outputs": [],
   "source": [
    "pagination_detector.run()"
   ]
  },
  {
   "cell_type": "code",
   "execution_count": 54,
   "id": "fd479118",
   "metadata": {},
   "outputs": [
    {
     "data": {
      "text/plain": [
       "array([0, 0, 0, 0, 0, 0, 0, 0, 0, 0, 0, 0, 0, 0, 0, 0, 0, 0, 0, 0, 0, 0,\n",
       "       0, 0, 0, 0, 0, 0, 0, 0, 0, 0, 0, 0, 0, 0, 0, 0, 0, 0, 0, 0, 0, 0,\n",
       "       0, 0, 0, 0, 0, 0, 0, 0, 0, 0, 0, 0, 0, 0, 0, 0, 0, 0, 0, 0, 0, 0,\n",
       "       0, 0, 0, 0, 0, 0, 0, 0, 0, 0, 0, 0, 0, 0, 0, 0, 0, 0, 0, 0, 0, 0,\n",
       "       0, 0, 0, 0, 0, 0, 0, 0, 0, 0, 0, 0, 0, 0, 0, 0, 0, 0, 0, 0, 0, 0,\n",
       "       0, 0, 0, 0, 0, 0, 0, 0, 0, 0, 0, 0, 0, 0, 0, 0, 0, 0, 0, 0, 0, 0,\n",
       "       0, 0, 0, 0, 0, 0, 0, 0, 0, 0, 0, 0, 0, 0, 0, 0, 0, 0, 0, 0, 0, 0,\n",
       "       0, 0, 0, 0, 0, 0, 0, 0, 0, 0, 0, 0, 0, 0, 0, 0, 0, 0, 0, 0, 0, 0,\n",
       "       0])"
      ]
     },
     "execution_count": 54,
     "metadata": {},
     "output_type": "execute_result"
    }
   ],
   "source": [
    "nodes_texts = np.array([len(set(n.text.lower().split(' ')).intersection(pagination_detector.keywords)) > 0 if n.text else False for n in pagination_detector.internal_link_nodes])\n",
    "nodes_texts * 1"
   ]
  },
  {
   "cell_type": "code",
   "execution_count": 58,
   "id": "6fae406c",
   "metadata": {},
   "outputs": [
    {
     "data": {
      "text/plain": [
       "array([ 0, 45, 46, 47, 48])"
      ]
     },
     "execution_count": 58,
     "metadata": {},
     "output_type": "execute_result"
    }
   ],
   "source": [
    "scores_idx = np.argwhere(pagination_detector.scores >= 1.).T[0]\n",
    "scores_idx"
   ]
  },
  {
   "cell_type": "code",
   "execution_count": 63,
   "id": "dd95c34f",
   "metadata": {},
   "outputs": [
    {
     "data": {
      "text/plain": [
       "3"
      ]
     },
     "execution_count": 63,
     "metadata": {},
     "output_type": "execute_result"
    }
   ],
   "source": [
    "np.argmax(pagination_detector.scores[scores_idx])"
   ]
  },
  {
   "cell_type": "code",
   "execution_count": null,
   "id": "6ea38a9c",
   "metadata": {},
   "outputs": [],
   "source": []
  }
 ],
 "metadata": {
  "kernelspec": {
   "display_name": "Python 3 (ipykernel)",
   "language": "python",
   "name": "python3"
  },
  "language_info": {
   "codemirror_mode": {
    "name": "ipython",
    "version": 3
   },
   "file_extension": ".py",
   "mimetype": "text/x-python",
   "name": "python",
   "nbconvert_exporter": "python",
   "pygments_lexer": "ipython3",
   "version": "3.10.9"
  }
 },
 "nbformat": 4,
 "nbformat_minor": 5
}
